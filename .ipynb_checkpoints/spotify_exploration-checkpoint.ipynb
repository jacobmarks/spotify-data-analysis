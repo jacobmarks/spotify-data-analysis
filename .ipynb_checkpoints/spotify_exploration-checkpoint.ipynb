{
 "cells": [
  {
   "cell_type": "code",
   "execution_count": 1,
   "id": "64158ab0",
   "metadata": {},
   "outputs": [],
   "source": [
    "import json\n",
    "import numpy as np\n",
    "import pandas as pd\n",
    "import matplotlib.pyplot as plt"
   ]
  },
  {
   "cell_type": "markdown",
   "id": "746197fe",
   "metadata": {},
   "source": [
    "## Load in streaming data"
   ]
  },
  {
   "cell_type": "code",
   "execution_count": 2,
   "id": "55ddff12",
   "metadata": {},
   "outputs": [],
   "source": [
    "### Streaming History for the year, given to me by Spotify\n",
    "f = open(\"data/raw/StreamingHistory0.json\",) \n",
    "streaming_df = pd.DataFrame(json.load(f))"
   ]
  },
  {
   "cell_type": "code",
   "execution_count": 3,
   "id": "633a288a",
   "metadata": {},
   "outputs": [
    {
     "data": {
      "text/html": [
       "<div>\n",
       "<style scoped>\n",
       "    .dataframe tbody tr th:only-of-type {\n",
       "        vertical-align: middle;\n",
       "    }\n",
       "\n",
       "    .dataframe tbody tr th {\n",
       "        vertical-align: top;\n",
       "    }\n",
       "\n",
       "    .dataframe thead th {\n",
       "        text-align: right;\n",
       "    }\n",
       "</style>\n",
       "<table border=\"1\" class=\"dataframe\">\n",
       "  <thead>\n",
       "    <tr style=\"text-align: right;\">\n",
       "      <th></th>\n",
       "      <th>endTime</th>\n",
       "      <th>artistName</th>\n",
       "      <th>trackName</th>\n",
       "      <th>msPlayed</th>\n",
       "    </tr>\n",
       "  </thead>\n",
       "  <tbody>\n",
       "    <tr>\n",
       "      <th>0</th>\n",
       "      <td>2021-09-16 09:07</td>\n",
       "      <td>Dua Lipa</td>\n",
       "      <td>Pretty Please</td>\n",
       "      <td>116779</td>\n",
       "    </tr>\n",
       "    <tr>\n",
       "      <th>1</th>\n",
       "      <td>2021-09-17 02:12</td>\n",
       "      <td>Remi Wolf</td>\n",
       "      <td>Photo ID</td>\n",
       "      <td>169941</td>\n",
       "    </tr>\n",
       "    <tr>\n",
       "      <th>2</th>\n",
       "      <td>2021-09-17 02:15</td>\n",
       "      <td>Remi Wolf</td>\n",
       "      <td>Photo ID</td>\n",
       "      <td>9032</td>\n",
       "    </tr>\n",
       "    <tr>\n",
       "      <th>3</th>\n",
       "      <td>2021-09-17 02:15</td>\n",
       "      <td>Remi Wolf</td>\n",
       "      <td>Disco Man</td>\n",
       "      <td>32277</td>\n",
       "    </tr>\n",
       "    <tr>\n",
       "      <th>4</th>\n",
       "      <td>2021-09-17 02:15</td>\n",
       "      <td>Remi Wolf</td>\n",
       "      <td>Down The Line</td>\n",
       "      <td>174065</td>\n",
       "    </tr>\n",
       "  </tbody>\n",
       "</table>\n",
       "</div>"
      ],
      "text/plain": [
       "            endTime artistName      trackName  msPlayed\n",
       "0  2021-09-16 09:07   Dua Lipa  Pretty Please    116779\n",
       "1  2021-09-17 02:12  Remi Wolf       Photo ID    169941\n",
       "2  2021-09-17 02:15  Remi Wolf       Photo ID      9032\n",
       "3  2021-09-17 02:15  Remi Wolf      Disco Man     32277\n",
       "4  2021-09-17 02:15  Remi Wolf  Down The Line    174065"
      ]
     },
     "execution_count": 3,
     "metadata": {},
     "output_type": "execute_result"
    }
   ],
   "source": [
    "streaming_df.head()"
   ]
  },
  {
   "cell_type": "code",
   "execution_count": 4,
   "id": "7e0648f2",
   "metadata": {},
   "outputs": [
    {
     "name": "stdout",
     "output_type": "stream",
     "text": [
      "<class 'pandas.core.frame.DataFrame'>\n",
      "RangeIndex: 8455 entries, 0 to 8454\n",
      "Data columns (total 4 columns):\n",
      " #   Column      Non-Null Count  Dtype \n",
      "---  ------      --------------  ----- \n",
      " 0   endTime     8455 non-null   object\n",
      " 1   artistName  8455 non-null   object\n",
      " 2   trackName   8455 non-null   object\n",
      " 3   msPlayed    8455 non-null   int64 \n",
      "dtypes: int64(1), object(3)\n",
      "memory usage: 264.3+ KB\n",
      "None\n"
     ]
    }
   ],
   "source": [
    "print(streaming_df.info())"
   ]
  },
  {
   "cell_type": "markdown",
   "id": "238affb5",
   "metadata": {},
   "source": [
    "I listened to $8455$ tracks between $09/16/2021$ and $09/15/2022$, for an average of:"
   ]
  },
  {
   "cell_type": "code",
   "execution_count": 5,
   "id": "00f7f49e",
   "metadata": {},
   "outputs": [
    {
     "name": "stdout",
     "output_type": "stream",
     "text": [
      "23.16 tracks per day\n"
     ]
    }
   ],
   "source": [
    "tracks_per_day = len(streaming_df)/365\n",
    "print('{} tracks per day'.format(np.round(tracks_per_day, 2)))"
   ]
  },
  {
   "cell_type": "code",
   "execution_count": 6,
   "id": "eb9ed2c0",
   "metadata": {},
   "outputs": [
    {
     "data": {
      "text/plain": [
       "Index(['endTime', 'artistName', 'trackName', 'msPlayed'], dtype='object')"
      ]
     },
     "execution_count": 6,
     "metadata": {},
     "output_type": "execute_result"
    }
   ],
   "source": [
    "streaming_df.columns"
   ]
  },
  {
   "cell_type": "markdown",
   "id": "796955c8",
   "metadata": {},
   "source": [
    "### Understanding my streaming data"
   ]
  },
  {
   "cell_type": "markdown",
   "id": "1974389f",
   "metadata": {},
   "source": [
    "Per [Understanding my data](https://support.spotify.com/us/article/understanding-my-data/), \n",
    "* `endTime` gives the data and time when the streaming of the track ended\n",
    "* `artistName` is the artist's name\n",
    "* `trackName` is the title of the song or podcast\n",
    "* `msPlayed` gives the number of milliseconds the track was played"
   ]
  },
  {
   "cell_type": "markdown",
   "id": "511a8bde",
   "metadata": {},
   "source": [
    "Milliseconds aren't incredibly meaningful to us, so let's create a new column `secondsPlayed` which converts this to seconds:"
   ]
  },
  {
   "cell_type": "code",
   "execution_count": 7,
   "id": "27247660",
   "metadata": {},
   "outputs": [
    {
     "data": {
      "text/html": [
       "<div>\n",
       "<style scoped>\n",
       "    .dataframe tbody tr th:only-of-type {\n",
       "        vertical-align: middle;\n",
       "    }\n",
       "\n",
       "    .dataframe tbody tr th {\n",
       "        vertical-align: top;\n",
       "    }\n",
       "\n",
       "    .dataframe thead th {\n",
       "        text-align: right;\n",
       "    }\n",
       "</style>\n",
       "<table border=\"1\" class=\"dataframe\">\n",
       "  <thead>\n",
       "    <tr style=\"text-align: right;\">\n",
       "      <th></th>\n",
       "      <th>endTime</th>\n",
       "      <th>artistName</th>\n",
       "      <th>trackName</th>\n",
       "      <th>secondsPlayed</th>\n",
       "    </tr>\n",
       "  </thead>\n",
       "  <tbody>\n",
       "    <tr>\n",
       "      <th>0</th>\n",
       "      <td>2021-09-16 09:07</td>\n",
       "      <td>Dua Lipa</td>\n",
       "      <td>Pretty Please</td>\n",
       "      <td>116.779</td>\n",
       "    </tr>\n",
       "    <tr>\n",
       "      <th>1</th>\n",
       "      <td>2021-09-17 02:12</td>\n",
       "      <td>Remi Wolf</td>\n",
       "      <td>Photo ID</td>\n",
       "      <td>169.941</td>\n",
       "    </tr>\n",
       "    <tr>\n",
       "      <th>2</th>\n",
       "      <td>2021-09-17 02:15</td>\n",
       "      <td>Remi Wolf</td>\n",
       "      <td>Photo ID</td>\n",
       "      <td>9.032</td>\n",
       "    </tr>\n",
       "    <tr>\n",
       "      <th>3</th>\n",
       "      <td>2021-09-17 02:15</td>\n",
       "      <td>Remi Wolf</td>\n",
       "      <td>Disco Man</td>\n",
       "      <td>32.277</td>\n",
       "    </tr>\n",
       "    <tr>\n",
       "      <th>4</th>\n",
       "      <td>2021-09-17 02:15</td>\n",
       "      <td>Remi Wolf</td>\n",
       "      <td>Down The Line</td>\n",
       "      <td>174.065</td>\n",
       "    </tr>\n",
       "  </tbody>\n",
       "</table>\n",
       "</div>"
      ],
      "text/plain": [
       "            endTime artistName      trackName  secondsPlayed\n",
       "0  2021-09-16 09:07   Dua Lipa  Pretty Please        116.779\n",
       "1  2021-09-17 02:12  Remi Wolf       Photo ID        169.941\n",
       "2  2021-09-17 02:15  Remi Wolf       Photo ID          9.032\n",
       "3  2021-09-17 02:15  Remi Wolf      Disco Man         32.277\n",
       "4  2021-09-17 02:15  Remi Wolf  Down The Line        174.065"
      ]
     },
     "execution_count": 7,
     "metadata": {},
     "output_type": "execute_result"
    }
   ],
   "source": [
    "streaming_df['secondsPlayed'] = streaming_df['msPlayed']/1000;\n",
    "streaming_df = streaming_df.drop('msPlayed', axis = 1)\n",
    "streaming_df.head()"
   ]
  },
  {
   "cell_type": "markdown",
   "id": "8e8d64d8",
   "metadata": {},
   "source": [
    "---"
   ]
  },
  {
   "cell_type": "markdown",
   "id": "c2e58643",
   "metadata": {},
   "source": [
    "## Summary statistics"
   ]
  },
  {
   "cell_type": "markdown",
   "id": "1686bdbf",
   "metadata": {},
   "source": [
    "#### Number of unique artists (not including artists who are only featured):"
   ]
  },
  {
   "cell_type": "code",
   "execution_count": 8,
   "id": "2a8844f9",
   "metadata": {},
   "outputs": [
    {
     "name": "stdout",
     "output_type": "stream",
     "text": [
      "2228\n"
     ]
    }
   ],
   "source": [
    "unique_artists = streaming_df['artistName'].unique()\n",
    "num_artists = len(unique_artists)\n",
    "print(num_artists)"
   ]
  },
  {
   "cell_type": "markdown",
   "id": "3c1a4feb",
   "metadata": {},
   "source": [
    "#### Number of unique tracks"
   ]
  },
  {
   "cell_type": "code",
   "execution_count": 9,
   "id": "0e20e7d7",
   "metadata": {},
   "outputs": [
    {
     "name": "stdout",
     "output_type": "stream",
     "text": [
      "4497\n"
     ]
    }
   ],
   "source": [
    "unique_tracks = streaming_df.groupby(by = ['artistName', 'trackName'])['trackName'].unique()\n",
    "print(len(unique_tracks))"
   ]
  },
  {
   "cell_type": "markdown",
   "id": "34ce8fa5",
   "metadata": {},
   "source": [
    "Note: we have to group by artist and track here because there are multiple tracks with the same name. This is why `len(streaming_df['trackName'].unique())` underestimates the number of unique tracks:"
   ]
  },
  {
   "cell_type": "code",
   "execution_count": 10,
   "id": "7d15b42e",
   "metadata": {},
   "outputs": [
    {
     "data": {
      "text/plain": [
       "4333"
      ]
     },
     "execution_count": 10,
     "metadata": {},
     "output_type": "execute_result"
    }
   ],
   "source": [
    "len(streaming_df['trackName'].unique())"
   ]
  },
  {
   "cell_type": "markdown",
   "id": "fe1591e6",
   "metadata": {},
   "source": [
    "#### Total listening time"
   ]
  },
  {
   "cell_type": "code",
   "execution_count": 11,
   "id": "9285dd3d",
   "metadata": {},
   "outputs": [
    {
     "name": "stdout",
     "output_type": "stream",
     "text": [
      "1238389.5799999998\n"
     ]
    }
   ],
   "source": [
    "tot_seconds_played = streaming_df['secondsPlayed'].sum()\n",
    "print(tot_seconds_played)"
   ]
  },
  {
   "cell_type": "code",
   "execution_count": 12,
   "id": "ab4b512b",
   "metadata": {},
   "outputs": [
    {
     "name": "stdout",
     "output_type": "stream",
     "text": [
      "Total hours played: 343.9971055555555\n"
     ]
    }
   ],
   "source": [
    "tot_hours_played = tot_seconds_played/(60 * 60)\n",
    "print(\"Total hours played: {}\".format(tot_hours_played))"
   ]
  },
  {
   "cell_type": "markdown",
   "id": "b3e8b6c6",
   "metadata": {},
   "source": [
    "That comes out to roughly an hour per day! Later we'll investigate how that listening time is actually distributed"
   ]
  },
  {
   "cell_type": "markdown",
   "id": "717ad979",
   "metadata": {},
   "source": [
    "## What and who did I listen to the most?"
   ]
  },
  {
   "cell_type": "markdown",
   "id": "ed4a5526",
   "metadata": {},
   "source": [
    "#### Tracks"
   ]
  },
  {
   "cell_type": "markdown",
   "id": "23409af5",
   "metadata": {},
   "source": [
    "First let's see which tracks I listened to the greatest number of times:"
   ]
  },
  {
   "cell_type": "code",
   "execution_count": 13,
   "id": "2dfaa930",
   "metadata": {},
   "outputs": [],
   "source": [
    "num_listens = streaming_df.groupby(by = ['artistName', 'trackName']).size().sort_values(ascending = False)"
   ]
  },
  {
   "cell_type": "code",
   "execution_count": 14,
   "id": "c259b8a2",
   "metadata": {},
   "outputs": [
    {
     "name": "stdout",
     "output_type": "stream",
     "text": [
      "artistName   trackName                   \n",
      "Remi Wolf    Photo ID                        45\n",
      "             Down The Line                   39\n",
      "Doja Cat     Woman                           35\n",
      "Mac Miller   Woods                           31\n",
      "Remi Wolf    Sauce                           29\n",
      "Dua Lipa     Levitating                      28\n",
      "((( O )))    Omw                             27\n",
      "Haute        Shut Me Down                    26\n",
      "Mac Miller   Blue World                      25\n",
      "Alina Baraz  Off the Grid (feat. Khalid)     24\n",
      "Galimatias   Shy Dancer                      21\n",
      "Bea Miller   FEEL SOMETHING DIFFERENT        21\n",
      "Doja Cat     Kiss Me More (feat. SZA)        19\n",
      "Remi Wolf    Anthony Kiedis                  19\n",
      "ELHAE        My City ft. Masego              18\n",
      "Remi Wolf    Monte Carlo                     17\n",
      "Masego       Flight 99                       17\n",
      "Remi Wolf    Photo ID (with Dominic Fike)    17\n",
      "1000 Beasts  Tokyo                           17\n",
      "Masego       Yebo/Sema                       16\n",
      "dtype: int64\n"
     ]
    }
   ],
   "source": [
    "print(num_listens.head(n = 20))"
   ]
  },
  {
   "cell_type": "markdown",
   "id": "cbb10d45",
   "metadata": {},
   "source": [
    "I went to a Remi Wolf concert in January. Later we'll dig in :)"
   ]
  },
  {
   "cell_type": "markdown",
   "id": "d5027b39",
   "metadata": {},
   "source": [
    "What if we instead look at the tracks with the highest total listening time?"
   ]
  },
  {
   "cell_type": "code",
   "execution_count": 15,
   "id": "cfe646a3",
   "metadata": {},
   "outputs": [
    {
     "name": "stdout",
     "output_type": "stream",
     "text": [
      "                                                                                                       secondsPlayed\n",
      "artistName                                         trackName                                                        \n",
      "Fall of Civilizations Podcast                      14. Vijayanagara - The Last Emperors Of South I...       9692.151\n",
      "Remi Wolf                                          Photo ID                                                 9179.320\n",
      "Mac Miller                                         Woods                                                    7805.273\n",
      "Remi Wolf                                          Down The Line                                            6086.138\n",
      "Fall of Civilizations Podcast                      15. The Nabataeans - The Final Days Of Petra             6077.301\n",
      "Acquired                                           Taylor Swift (Acquired’s Version)                        5905.529\n",
      "((( O )))                                          Omw                                                      5764.857\n",
      "Doja Cat                                           Woman                                                    5071.891\n",
      "Remi Wolf                                          Sauce                                                    4795.885\n",
      "Haute                                              Shut Me Down                                             4672.945\n",
      "Alina Baraz                                        Off the Grid (feat. Khalid)                              4595.072\n",
      "Dua Lipa                                           Levitating                                               4441.268\n",
      "Sean Carroll's Mindscape: Science, Society, Phi... 167 | Chiara Marletto on Constructor Theory, Ph...       4413.118\n",
      "                                                   191 | Jane McGonigal on How to Imagine the Future        4236.054\n",
      "                                                   168 | Anil Seth on Emergence, Information, and ...       4189.968\n",
      "Acquired                                           The Browser (with Brendan Eich, Chief Architect...       4127.940\n",
      "Sean Carroll's Mindscape: Science, Society, Phi... 171 | Christopher Mims on Our Interconnected In...       4046.481\n",
      "                                                   177 | Monika Schleier-Smith on Cold Atoms and E...       3684.774\n",
      "Mac Miller                                         Blue World                                               3664.943\n",
      "Galimatias                                         Shy Dancer                                               3434.136\n"
     ]
    }
   ],
   "source": [
    "tracks_time_played = streaming_df.groupby(by = ['artistName', 'trackName']).sum('secondsPlayed').sort_values(by = 'secondsPlayed', ascending = False)\n",
    "print(tracks_time_played.head(n = 20))"
   ]
  },
  {
   "cell_type": "markdown",
   "id": "7aa5d1fa",
   "metadata": {},
   "source": [
    "Unsurprisingly, we now see a lot more podcasts: Fall of Civilizations, Acquired, and Sean Carroll's Mindscape are all podcasts."
   ]
  },
  {
   "cell_type": "markdown",
   "id": "9b105e35",
   "metadata": {},
   "source": [
    "#### Artists"
   ]
  },
  {
   "cell_type": "code",
   "execution_count": 16,
   "id": "62b48075",
   "metadata": {},
   "outputs": [],
   "source": [
    "num_plays_by_artist = streaming_df['artistName'].value_counts()"
   ]
  },
  {
   "cell_type": "code",
   "execution_count": 17,
   "id": "b018156c",
   "metadata": {},
   "outputs": [
    {
     "name": "stdout",
     "output_type": "stream",
     "text": [
      "Remi Wolf          288\n",
      "FKJ                203\n",
      "Doja Cat           140\n",
      "Masego             136\n",
      "Mac Miller         136\n",
      "UMI                115\n",
      "Raveena            107\n",
      "Alicia Keys         89\n",
      "Still Woozy         71\n",
      "Terrell Morris      67\n",
      "Robert Glasper      64\n",
      "Alina Baraz         61\n",
      "Lianne La Havas     58\n",
      "((( O )))           56\n",
      "Allen Stone         54\n",
      "Darius              52\n",
      "KALI                47\n",
      "Terrace Martin      45\n",
      "Dua Lipa            42\n",
      "Lo Village          41\n",
      "Name: artistName, dtype: int64\n"
     ]
    }
   ],
   "source": [
    "print(num_plays_by_artist.head(n = 20))"
   ]
  },
  {
   "cell_type": "markdown",
   "id": "98567cb1",
   "metadata": {},
   "source": [
    "These are the artist that I came back to again and again throughout the year"
   ]
  },
  {
   "cell_type": "markdown",
   "id": "7c3a4223",
   "metadata": {},
   "source": [
    "# How was my listening distributed?"
   ]
  },
  {
   "cell_type": "markdown",
   "id": "e79a0f27",
   "metadata": {},
   "source": [
    "## Distribution among artists"
   ]
  },
  {
   "cell_type": "markdown",
   "id": "510bc4de",
   "metadata": {},
   "source": [
    "First let's make a histogram of listen counts by artist"
   ]
  },
  {
   "cell_type": "code",
   "execution_count": 18,
   "id": "1a064954",
   "metadata": {},
   "outputs": [
    {
     "data": {
      "image/png": "[encoded data removed]",
      "text/plain": [
       "<Figure size 432x288 with 1 Axes>"
      ]
     },
     "metadata": {
      "needs_background": "light"
     },
     "output_type": "display_data"
    }
   ],
   "source": [
    "num_plays_by_artist_np = num_plays_by_artist.to_numpy()\n",
    "max_plays = num_plays_by_artist_np.max()\n",
    "cutoff = 40 ### max \n",
    "num_bins = max_plays\n",
    "plt.hist(num_plays_by_artist_np, bins = num_bins)\n",
    "\n",
    "plt.xlabel(r'Times played')\n",
    "plt.ylabel(r'Number of artists')\n",
    "plt.xlim(0, cutoff)\n",
    "plt.show()"
   ]
  },
  {
   "cell_type": "markdown",
   "id": "a9590a09",
   "metadata": {},
   "source": [
    "Notes & Observations: \n",
    "1. I've cut off the graph at $x = 40$ so we can see the trend\n",
    "2. Looks like the vast majority of artists only received one listen\n",
    "3. This looks like it might be a good fit to a power law distribution?"
   ]
  },
  {
   "cell_type": "code",
   "execution_count": 19,
   "id": "475254a1",
   "metadata": {},
   "outputs": [],
   "source": [
    "artists_played_once = list(num_plays_by_artist[num_plays_by_artist == 1].keys())"
   ]
  },
  {
   "cell_type": "code",
   "execution_count": 20,
   "id": "0e45b124",
   "metadata": {},
   "outputs": [
    {
     "name": "stdout",
     "output_type": "stream",
     "text": [
      "I played 1105 artists ONLY ONCE!\n"
     ]
    }
   ],
   "source": [
    "num_artists_played_once = len(artists_played_once)\n",
    "print(\"I played {} artists ONLY ONCE!\".format(num_artists_played_once))"
   ]
  },
  {
   "cell_type": "markdown",
   "id": "2287b2ba",
   "metadata": {},
   "source": [
    "### Fitting to power law distribution"
   ]
  },
  {
   "cell_type": "markdown",
   "id": "823d631f",
   "metadata": {},
   "source": [
    "Intuitively, it seems reasonable for the data to be modeled by a power law distribution. This family of distributions crops up whenever the winners win big and there is a long tail. This describes a lot of viral trends, including the distribution of streams among musicians. It also describes the frequencies of word occurrences in many languages."
   ]
  },
  {
   "cell_type": "markdown",
   "id": "0484a7cd",
   "metadata": {},
   "source": [
    "We want to see if the data fits the form $y = k x^{\\alpha}$, for some $k, \\alpha$. We will do this by linearly fitting $\\log(y) = k + \\alpha \\log(x)$"
   ]
  },
  {
   "cell_type": "markdown",
   "id": "e5ae64b3",
   "metadata": {},
   "source": [
    "We will cut off our analysis at $20$ plays, because below that the data is just a bunch of somewhat random ones and zeros."
   ]
  },
  {
   "cell_type": "code",
   "execution_count": 21,
   "id": "5366af17",
   "metadata": {},
   "outputs": [],
   "source": [
    "cutoff = 20\n",
    "hist, bins = np.histogram(num_plays_by_artist_np, bins = max_plays)\n",
    "\n",
    "x = np.arange(1, cutoff+1)\n",
    "y = hist[:cutoff]"
   ]
  },
  {
   "cell_type": "code",
   "execution_count": null,
   "id": "f65997dc",
   "metadata": {},
   "outputs": [],
   "source": []
  },
  {
   "cell_type": "code",
   "execution_count": 22,
   "id": "a21d9ca4",
   "metadata": {},
   "outputs": [],
   "source": [
    "logx, logy = np.log(x), np.log(y)"
   ]
  },
  {
   "cell_type": "code",
   "execution_count": 23,
   "id": "02371896",
   "metadata": {},
   "outputs": [],
   "source": [
    "def lin_func(lx, k, alpha):\n",
    "    return k + alpha * lx\n",
    "\n",
    "def const_func(x, k):\n",
    "    return 0 * x + k"
   ]
  },
  {
   "cell_type": "code",
   "execution_count": 24,
   "id": "ecf64c84",
   "metadata": {},
   "outputs": [
    {
     "name": "stdout",
     "output_type": "stream",
     "text": [
      "alpha_opt = -2.081098218921789\n"
     ]
    }
   ],
   "source": [
    "from scipy.optimize import curve_fit\n",
    "popt_powerlaw, resid_powerlaw = curve_fit(lin_func, logx, logy)\n",
    "alpha = popt_powerlaw[-1]\n",
    "print(\"alpha_opt = {}\".format(alpha))"
   ]
  },
  {
   "cell_type": "markdown",
   "id": "0c8ccea6",
   "metadata": {},
   "source": [
    "Looks like the best power law fit gives roughly a $y \\sim 1/x^2$ relationship"
   ]
  },
  {
   "cell_type": "code",
   "execution_count": 25,
   "id": "9b06db19",
   "metadata": {},
   "outputs": [],
   "source": [
    "xs = np.linspace(x[0], x[-1], 100)\n",
    "ly_fit = lin_func(np.log(xs), *popt_powerlaw)\n",
    "yfit_powerlaw = np.exp(ly_fit)\n",
    "\n",
    "ly_pred = lin_func(np.log(x), *popt_powerlaw)\n",
    "y_pred = np.exp(ly_pred)"
   ]
  },
  {
   "cell_type": "code",
   "execution_count": 26,
   "id": "5e815d91",
   "metadata": {},
   "outputs": [
    {
     "data": {
      "image/png": "[encoded data removed]",
      "text/plain": [
       "<Figure size 432x288 with 1 Axes>"
      ]
     },
     "metadata": {
      "needs_background": "light"
     },
     "output_type": "display_data"
    }
   ],
   "source": [
    "plt.scatter(x, y, label = r'My listens')\n",
    "plt.plot(xs, yfit_powerlaw, label = r'Power law fit')\n",
    "plt.legend(frameon = False)\n",
    "plt.xlabel(r'Number of listens')\n",
    "plt.ylabel(r'Number of artists')\n",
    "plt.show()"
   ]
  },
  {
   "cell_type": "markdown",
   "id": "478dc0e2",
   "metadata": {},
   "source": [
    "##### Goodness of fit"
   ]
  },
  {
   "cell_type": "code",
   "execution_count": 27,
   "id": "f1c9b5ab",
   "metadata": {},
   "outputs": [],
   "source": [
    "from sklearn.metrics import r2_score\n",
    "rsquared = r2_score(logy, ly_pred)\n",
    "\n",
    "\n",
    "#### Can also compute this by hand:\n",
    "## ly_mean = np.mean(logy)\n",
    "## denom = np.sum(np.square(logy - ly_mean))\n",
    "## numerator = np.sum(np.square(ly_pred - ly_mean))\n",
    "## rsquared = numerator/denom\n",
    "## print(rsquared)"
   ]
  },
  {
   "cell_type": "code",
   "execution_count": 28,
   "id": "db701c5e",
   "metadata": {},
   "outputs": [
    {
     "name": "stdout",
     "output_type": "stream",
     "text": [
      "R^2 = 0.953\n"
     ]
    }
   ],
   "source": [
    "print(\"R^2 = {}\".format(np.round(rsquared, 3)))"
   ]
  },
  {
   "cell_type": "markdown",
   "id": "0246a9b3",
   "metadata": {},
   "source": [
    "This confirms what we see in the plot above - the linear fit is fairly good: $R^2 = 1$ would be a perfect fit."
   ]
  },
  {
   "cell_type": "markdown",
   "id": "ed35583a",
   "metadata": {},
   "source": [
    "## Temporal distribution"
   ]
  },
  {
   "cell_type": "markdown",
   "id": "e8bdc7f4",
   "metadata": {},
   "source": [
    "First let's format the date in a more accessible way by extracting the relative day number, starting from the first day the data was collected:"
   ]
  },
  {
   "cell_type": "code",
   "execution_count": 29,
   "id": "911ef0fb",
   "metadata": {},
   "outputs": [],
   "source": [
    "from datetime import date, timedelta\n",
    "import datetime\n",
    "import pytz\n",
    "\n",
    "def format_date(date_str):\n",
    "    ymd = [int(x) for x in date_str.split('-')]\n",
    "    return date(*ymd)\n",
    "\n",
    "def convert_UTC_to_PT(utc_dateTime):\n",
    "    utc_timezone = pytz.timezone(\"UTC\")\n",
    "    pt_timezone = pytz.timezone(\"US/Pacific\")\n",
    "    utc_time = utc_timezone.localize(utc_dateTime)\n",
    "    pt_time = utc_time.astimezone(pt_timezone)\n",
    "    return datetime.datetime(pt_time.year, pt_time.month, pt_time.day, pt_time.hour, pt_time.minute)\n",
    "    return pt_time\n",
    "\n",
    "def get_date_from_datetime_obj(dt):\n",
    "    '''For extracting the start date'''\n",
    "    return datetime.datetime(dt.year, dt.month, dt.day)"
   ]
  },
  {
   "cell_type": "code",
   "execution_count": 30,
   "id": "ea4bb73c",
   "metadata": {},
   "outputs": [],
   "source": [
    "streaming_df['dateTime_UTC'] = streaming_df.apply(lambda x: datetime.datetime.strptime(x['endTime'], '%Y-%m-%d %H:%M'), axis = 1)\n",
    "### we have converted to a baseline of PT, and will assume this in absence of timezone _TZ ending\n",
    "streaming_df['dateTime'] = streaming_df.apply(lambda x: convert_UTC_to_PT(x['dateTime_UTC']), axis = 1)\n",
    "streaming_df = streaming_df.drop('endTime', axis = 1)\n",
    "# Use start date without hours and minutes so the relative number of days starts at midnight.\n",
    "start_date = get_date_from_datetime_obj(streaming_df['dateTime'][0])"
   ]
  },
  {
   "cell_type": "code",
   "execution_count": 31,
   "id": "251c89c8",
   "metadata": {},
   "outputs": [
    {
     "data": {
      "text/html": [
       "<div>\n",
       "<style scoped>\n",
       "    .dataframe tbody tr th:only-of-type {\n",
       "        vertical-align: middle;\n",
       "    }\n",
       "\n",
       "    .dataframe tbody tr th {\n",
       "        vertical-align: top;\n",
       "    }\n",
       "\n",
       "    .dataframe thead th {\n",
       "        text-align: right;\n",
       "    }\n",
       "</style>\n",
       "<table border=\"1\" class=\"dataframe\">\n",
       "  <thead>\n",
       "    <tr style=\"text-align: right;\">\n",
       "      <th></th>\n",
       "      <th>artistName</th>\n",
       "      <th>trackName</th>\n",
       "      <th>secondsPlayed</th>\n",
       "      <th>dateTime_UTC</th>\n",
       "      <th>dateTime</th>\n",
       "    </tr>\n",
       "  </thead>\n",
       "  <tbody>\n",
       "    <tr>\n",
       "      <th>0</th>\n",
       "      <td>Dua Lipa</td>\n",
       "      <td>Pretty Please</td>\n",
       "      <td>116.779</td>\n",
       "      <td>2021-09-16 09:07:00</td>\n",
       "      <td>2021-09-16 02:07:00</td>\n",
       "    </tr>\n",
       "    <tr>\n",
       "      <th>1</th>\n",
       "      <td>Remi Wolf</td>\n",
       "      <td>Photo ID</td>\n",
       "      <td>169.941</td>\n",
       "      <td>2021-09-17 02:12:00</td>\n",
       "      <td>2021-09-16 19:12:00</td>\n",
       "    </tr>\n",
       "    <tr>\n",
       "      <th>2</th>\n",
       "      <td>Remi Wolf</td>\n",
       "      <td>Photo ID</td>\n",
       "      <td>9.032</td>\n",
       "      <td>2021-09-17 02:15:00</td>\n",
       "      <td>2021-09-16 19:15:00</td>\n",
       "    </tr>\n",
       "    <tr>\n",
       "      <th>3</th>\n",
       "      <td>Remi Wolf</td>\n",
       "      <td>Disco Man</td>\n",
       "      <td>32.277</td>\n",
       "      <td>2021-09-17 02:15:00</td>\n",
       "      <td>2021-09-16 19:15:00</td>\n",
       "    </tr>\n",
       "    <tr>\n",
       "      <th>4</th>\n",
       "      <td>Remi Wolf</td>\n",
       "      <td>Down The Line</td>\n",
       "      <td>174.065</td>\n",
       "      <td>2021-09-17 02:15:00</td>\n",
       "      <td>2021-09-16 19:15:00</td>\n",
       "    </tr>\n",
       "  </tbody>\n",
       "</table>\n",
       "</div>"
      ],
      "text/plain": [
       "  artistName      trackName  secondsPlayed        dateTime_UTC  \\\n",
       "0   Dua Lipa  Pretty Please        116.779 2021-09-16 09:07:00   \n",
       "1  Remi Wolf       Photo ID        169.941 2021-09-17 02:12:00   \n",
       "2  Remi Wolf       Photo ID          9.032 2021-09-17 02:15:00   \n",
       "3  Remi Wolf      Disco Man         32.277 2021-09-17 02:15:00   \n",
       "4  Remi Wolf  Down The Line        174.065 2021-09-17 02:15:00   \n",
       "\n",
       "             dateTime  \n",
       "0 2021-09-16 02:07:00  \n",
       "1 2021-09-16 19:12:00  \n",
       "2 2021-09-16 19:15:00  \n",
       "3 2021-09-16 19:15:00  \n",
       "4 2021-09-16 19:15:00  "
      ]
     },
     "execution_count": 31,
     "metadata": {},
     "output_type": "execute_result"
    }
   ],
   "source": [
    "streaming_df.head()"
   ]
  },
  {
   "cell_type": "code",
   "execution_count": null,
   "id": "94701f47",
   "metadata": {},
   "outputs": [],
   "source": []
  },
  {
   "cell_type": "code",
   "execution_count": null,
   "id": "0ed76132",
   "metadata": {},
   "outputs": [],
   "source": []
  },
  {
   "cell_type": "code",
   "execution_count": 32,
   "id": "2b1ce2f0",
   "metadata": {},
   "outputs": [],
   "source": [
    "streaming_df['dayNumber'] = streaming_df.apply(lambda x: (x['dateTime'] - start_date).days, axis = 1)"
   ]
  },
  {
   "cell_type": "code",
   "execution_count": 33,
   "id": "a5fbb255",
   "metadata": {},
   "outputs": [],
   "source": [
    "streaming_df['dayOfWeek'] = streaming_df.apply(lambda x: x['dateTime'].strftime('%A'), axis = 1)"
   ]
  },
  {
   "cell_type": "code",
   "execution_count": 34,
   "id": "ae99f0cf",
   "metadata": {},
   "outputs": [],
   "source": [
    "streaming_df['hour'] = streaming_df.apply(lambda x: int(x['dateTime'].strftime('%H')), axis = 1)"
   ]
  },
  {
   "cell_type": "code",
   "execution_count": 35,
   "id": "b0ad605a",
   "metadata": {},
   "outputs": [
    {
     "data": {
      "text/html": [
       "<div>\n",
       "<style scoped>\n",
       "    .dataframe tbody tr th:only-of-type {\n",
       "        vertical-align: middle;\n",
       "    }\n",
       "\n",
       "    .dataframe tbody tr th {\n",
       "        vertical-align: top;\n",
       "    }\n",
       "\n",
       "    .dataframe thead th {\n",
       "        text-align: right;\n",
       "    }\n",
       "</style>\n",
       "<table border=\"1\" class=\"dataframe\">\n",
       "  <thead>\n",
       "    <tr style=\"text-align: right;\">\n",
       "      <th></th>\n",
       "      <th>artistName</th>\n",
       "      <th>trackName</th>\n",
       "      <th>secondsPlayed</th>\n",
       "      <th>dateTime_UTC</th>\n",
       "      <th>dateTime</th>\n",
       "      <th>dayNumber</th>\n",
       "      <th>dayOfWeek</th>\n",
       "      <th>hour</th>\n",
       "    </tr>\n",
       "  </thead>\n",
       "  <tbody>\n",
       "    <tr>\n",
       "      <th>0</th>\n",
       "      <td>Dua Lipa</td>\n",
       "      <td>Pretty Please</td>\n",
       "      <td>116.779</td>\n",
       "      <td>2021-09-16 09:07:00</td>\n",
       "      <td>2021-09-16 02:07:00</td>\n",
       "      <td>0</td>\n",
       "      <td>Thursday</td>\n",
       "      <td>2</td>\n",
       "    </tr>\n",
       "    <tr>\n",
       "      <th>1</th>\n",
       "      <td>Remi Wolf</td>\n",
       "      <td>Photo ID</td>\n",
       "      <td>169.941</td>\n",
       "      <td>2021-09-17 02:12:00</td>\n",
       "      <td>2021-09-16 19:12:00</td>\n",
       "      <td>0</td>\n",
       "      <td>Thursday</td>\n",
       "      <td>19</td>\n",
       "    </tr>\n",
       "    <tr>\n",
       "      <th>2</th>\n",
       "      <td>Remi Wolf</td>\n",
       "      <td>Photo ID</td>\n",
       "      <td>9.032</td>\n",
       "      <td>2021-09-17 02:15:00</td>\n",
       "      <td>2021-09-16 19:15:00</td>\n",
       "      <td>0</td>\n",
       "      <td>Thursday</td>\n",
       "      <td>19</td>\n",
       "    </tr>\n",
       "    <tr>\n",
       "      <th>3</th>\n",
       "      <td>Remi Wolf</td>\n",
       "      <td>Disco Man</td>\n",
       "      <td>32.277</td>\n",
       "      <td>2021-09-17 02:15:00</td>\n",
       "      <td>2021-09-16 19:15:00</td>\n",
       "      <td>0</td>\n",
       "      <td>Thursday</td>\n",
       "      <td>19</td>\n",
       "    </tr>\n",
       "    <tr>\n",
       "      <th>4</th>\n",
       "      <td>Remi Wolf</td>\n",
       "      <td>Down The Line</td>\n",
       "      <td>174.065</td>\n",
       "      <td>2021-09-17 02:15:00</td>\n",
       "      <td>2021-09-16 19:15:00</td>\n",
       "      <td>0</td>\n",
       "      <td>Thursday</td>\n",
       "      <td>19</td>\n",
       "    </tr>\n",
       "  </tbody>\n",
       "</table>\n",
       "</div>"
      ],
      "text/plain": [
       "  artistName      trackName  secondsPlayed        dateTime_UTC  \\\n",
       "0   Dua Lipa  Pretty Please        116.779 2021-09-16 09:07:00   \n",
       "1  Remi Wolf       Photo ID        169.941 2021-09-17 02:12:00   \n",
       "2  Remi Wolf       Photo ID          9.032 2021-09-17 02:15:00   \n",
       "3  Remi Wolf      Disco Man         32.277 2021-09-17 02:15:00   \n",
       "4  Remi Wolf  Down The Line        174.065 2021-09-17 02:15:00   \n",
       "\n",
       "             dateTime  dayNumber dayOfWeek  hour  \n",
       "0 2021-09-16 02:07:00          0  Thursday     2  \n",
       "1 2021-09-16 19:12:00          0  Thursday    19  \n",
       "2 2021-09-16 19:15:00          0  Thursday    19  \n",
       "3 2021-09-16 19:15:00          0  Thursday    19  \n",
       "4 2021-09-16 19:15:00          0  Thursday    19  "
      ]
     },
     "execution_count": 35,
     "metadata": {},
     "output_type": "execute_result"
    }
   ],
   "source": [
    "streaming_df.head()"
   ]
  },
  {
   "cell_type": "markdown",
   "id": "83a3843f",
   "metadata": {},
   "source": [
    "Let's save this dataframe"
   ]
  },
  {
   "cell_type": "code",
   "execution_count": 36,
   "id": "875ee4cf",
   "metadata": {},
   "outputs": [],
   "source": [
    "streaming_file = \"data/processed/streaming.csv\"\n",
    "streaming_df.to_csv(streaming_file, index=False)\n",
    "\n",
    "### to read from file:\n",
    "## df = pd.read_csv(streaming_file, index_col = None)"
   ]
  },
  {
   "cell_type": "markdown",
   "id": "b115a1cd",
   "metadata": {},
   "source": [
    "We can also get the time of day for each listening session."
   ]
  },
  {
   "cell_type": "code",
   "execution_count": 37,
   "id": "0d52e8f5",
   "metadata": {},
   "outputs": [],
   "source": [
    "streams_per_day = streaming_df['dayNumber'].value_counts().sort_index()"
   ]
  },
  {
   "cell_type": "markdown",
   "id": "fbbd2e31",
   "metadata": {},
   "source": [
    "Need to fill in missing days - there are some days I didn't listen to any tracks on Spotify 🫢"
   ]
  },
  {
   "cell_type": "code",
   "execution_count": 38,
   "id": "dd6ae30b",
   "metadata": {},
   "outputs": [],
   "source": [
    "start_day = streaming_df['dayNumber'].min()\n",
    "end_day = streaming_df['dayNumber'].max()\n",
    "idx = pd.Series(np.arange(0, end_day + 1))\n",
    "streams_per_day = streams_per_day.reindex(idx, fill_value=0)\n",
    "\n",
    "# print(streaming_df['dayNumber'].min())\n",
    "# print(len(streams_per_day))"
   ]
  },
  {
   "cell_type": "markdown",
   "id": "63c8e5a7",
   "metadata": {},
   "source": [
    "Now we can chart my listening over the course of the entire year. We'll apply some smoothing as well:"
   ]
  },
  {
   "cell_type": "code",
   "execution_count": 39,
   "id": "3c225230",
   "metadata": {},
   "outputs": [],
   "source": [
    "window = 3\n",
    "moving_streams_per_day = streams_per_day.rolling(window).sum()/window"
   ]
  },
  {
   "cell_type": "code",
   "execution_count": 40,
   "id": "0bff4b2e",
   "metadata": {},
   "outputs": [],
   "source": [
    "def get_absolute_date(relative_day_number):\n",
    "    return start_date + timedelta(int(relative_day_number))\n",
    "\n",
    "def format_absolute_date(relative_day_number):\n",
    "    return get_absolute_date(relative_day_number).strftime('%b %d, %Y')"
   ]
  },
  {
   "cell_type": "code",
   "execution_count": 41,
   "id": "1be795dc",
   "metadata": {},
   "outputs": [
    {
     "data": {
      "image/png": "[encoded data removed]",
      "text/plain": [
       "<Figure size 1080x360 with 1 Axes>"
      ]
     },
     "metadata": {
      "needs_background": "light"
     },
     "output_type": "display_data"
    }
   ],
   "source": [
    "fig, ax = plt.subplots(figsize = (15, 5))\n",
    "ax.plot(streams_per_day.to_numpy(), label = r'Streams on that day')\n",
    "ax.plot(moving_streams_per_day.to_numpy(), label = r'Moving average of {} days'.format(window))\n",
    "ax.legend(frameon = False)\n",
    "\n",
    "ticklabel_dates = [int(d) for d in np.linspace(start_day, end_day, 6, endpoint = True)]\n",
    "ticklabels = [format_absolute_date(d) for d in ticklabel_dates]\n",
    "ax.set_xticks(ticklabel_dates)\n",
    "ax.set_xticklabels(ticklabels)\n",
    "\n",
    "ax.set_xlabel(r'Date')\n",
    "ax.set_ylabel(r'Number of streams')\n",
    "plt.xlim(start_day, end_day)\n",
    "plt.show()"
   ]
  },
  {
   "cell_type": "markdown",
   "id": "70403a0d",
   "metadata": {},
   "source": [
    "Let's see if we can start to make sense of this a little bit..."
   ]
  },
  {
   "cell_type": "code",
   "execution_count": 42,
   "id": "1eecce34",
   "metadata": {},
   "outputs": [
    {
     "name": "stdout",
     "output_type": "stream",
     "text": [
      "The peak occurs on Jun 20, 2022, when I listened to 286 tracks.\n",
      "The day of week was MONDAY.\n"
     ]
    }
   ],
   "source": [
    "max_streams = streams_per_day.max()\n",
    "relative_day = streams_per_day.argmax()\n",
    "day_of_week = get_absolute_date(relative_day).strftime('%A')\n",
    "\n",
    "print('The peak occurs on ' + format_absolute_date(relative_day) + ', when I listened to {} tracks.'.format(max_streams))\n",
    "print('The day of week was {}.'.format(day_of_week.upper()))"
   ]
  },
  {
   "cell_type": "code",
   "execution_count": 43,
   "id": "6483255d",
   "metadata": {},
   "outputs": [
    {
     "data": {
      "text/plain": [
       "0       5\n",
       "1       0\n",
       "2      12\n",
       "3      17\n",
       "4      19\n",
       "       ..\n",
       "362     0\n",
       "363     9\n",
       "364    31\n",
       "365     2\n",
       "366     5\n",
       "Name: dayNumber, Length: 367, dtype: int64"
      ]
     },
     "execution_count": 43,
     "metadata": {},
     "output_type": "execute_result"
    }
   ],
   "source": [
    "streams_per_day"
   ]
  },
  {
   "cell_type": "markdown",
   "id": "8d8d7252",
   "metadata": {},
   "source": [
    "The sharp peak occurred on my first day of freedom! AKA this was the day that I completed the first rough draft of my Ph.D. thesis and took an 8 hour flight to Oslo with my brother. I think I listened to Spotify almost the entire flight."
   ]
  },
  {
   "cell_type": "markdown",
   "id": "5a39e3e3",
   "metadata": {},
   "source": [
    "I also tend to listen to a lot of music two days each week:\n",
    "1. Monday, when Spotify's Discover Weekly comes out.\n",
    "2. Thursday night/Friday, when New Music Friday drops. \n",
    "\n",
    "The former typically tends to be on Monday, but the latter is a bit variable. When I'm on the West coast, it drops at 9pm on Thursday night, so I listen to it then. From mid-June - August 30th I was in Europe and/or the East coast, so it did occur on Friday. Let's see what the data shows."
   ]
  },
  {
   "cell_type": "code",
   "execution_count": 44,
   "id": "ddb3f7c9",
   "metadata": {},
   "outputs": [
    {
     "data": {
      "text/plain": [
       "dayOfWeek\n",
       "Friday       1530\n",
       "Thursday     1405\n",
       "Saturday     1337\n",
       "Monday       1260\n",
       "Sunday       1228\n",
       "Wednesday     965\n",
       "Tuesday       730\n",
       "dtype: int64"
      ]
     },
     "execution_count": 44,
     "metadata": {},
     "output_type": "execute_result"
    }
   ],
   "source": [
    "streaming_df.value_counts('dayOfWeek')"
   ]
  },
  {
   "cell_type": "code",
   "execution_count": 45,
   "id": "aaea4e2d",
   "metadata": {},
   "outputs": [],
   "source": [
    "time_of_day_streams = streaming_df.groupby('dayOfWeek')['hour'].value_counts().sort_index()\n",
    "days_of_week = list(streaming_df['dayOfWeek'].unique())"
   ]
  },
  {
   "cell_type": "code",
   "execution_count": 46,
   "id": "00a59d7a",
   "metadata": {},
   "outputs": [],
   "source": [
    "hours_per_day = 24\n",
    "hours = np.arange(0, hours_per_day)\n",
    "idx = pd.Series(hours)\n",
    "markers = ['s', '^', 'v', '*', 'd', '+', 'x']\n",
    "colors = ['r', 'b', 'g', 'c', 'm', 'k', 'y']\n",
    "\n",
    "def format_timeofday(h):\n",
    "    mn_str = 'AM' if (h)//12 == 0 else 'PM'\n",
    "    hour_str = str(12) if h % 12 == 0 else str((h-1)%12+1)\n",
    "    return str((h-1)%12+1) + mn_str\n",
    "\n",
    "xticks = hours[::3]\n",
    "ticklabel_hours = [format_timeofday(h) for h in xticks]"
   ]
  },
  {
   "cell_type": "code",
   "execution_count": 47,
   "id": "4d90d45f",
   "metadata": {},
   "outputs": [
    {
     "data": {
      "image/png": "[encoded data removed]",
      "text/plain": [
       "<Figure size 1080x360 with 1 Axes>"
      ]
     },
     "metadata": {
      "needs_background": "light"
     },
     "output_type": "display_data"
    }
   ],
   "source": [
    "fig, ax = plt.subplots(figsize = (15, 5))\n",
    "for i, day in enumerate(days_of_week):\n",
    "    \n",
    "    streams_by_hour = time_of_day_streams[day]\n",
    "    streams_by_hour = streams_by_hour.reindex(idx, fill_value=0)\n",
    "    ax.plot(hours, streams_by_hour.to_numpy(), label = day, marker = markers[i], c = colors[i])\n",
    "    ax.plot(hours, streams_by_hour.to_numpy(), c = colors[i])\n",
    "ax.set_xticks(xticks)\n",
    "ax.set_xticklabels(ticklabel_hours)\n",
    "ax.legend(frameon = False, ncol = 2)\n",
    "ax.set_xlabel('Hour of day')\n",
    "ax.set_ylabel('Number of streams')\n",
    "plt.show()"
   ]
  },
  {
   "cell_type": "markdown",
   "id": "f2c3499f",
   "metadata": {},
   "source": [
    "Now let's normalize each day so we look at the relative listening frequency by hour across all days"
   ]
  },
  {
   "cell_type": "code",
   "execution_count": 48,
   "id": "aae519a3",
   "metadata": {},
   "outputs": [
    {
     "data": {
      "image/png": "[encoded data removed]",
      "text/plain": [
       "<Figure size 1080x360 with 1 Axes>"
      ]
     },
     "metadata": {
      "needs_background": "light"
     },
     "output_type": "display_data"
    }
   ],
   "source": [
    "fig, ax = plt.subplots(figsize = (15, 5))\n",
    "for i, day in enumerate(days_of_week):\n",
    "    \n",
    "    streams_by_hour = time_of_day_streams[day]\n",
    "    streams_by_hour = streams_by_hour.reindex(idx, fill_value=0)\n",
    "    tot_streams = streams_by_hour.sum()\n",
    "    ax.plot(hours, streams_by_hour.to_numpy()/tot_streams, label = day, marker = markers[i], c = colors[i])\n",
    "    ax.plot(hours, streams_by_hour.to_numpy()/tot_streams, c = colors[i])\n",
    "\n",
    "ax.set_xticks(xticks)\n",
    "ax.set_xticklabels(ticklabel_hours)\n",
    "ax.legend(frameon = False, ncol = 2)\n",
    "ax.set_xlabel('Hour of day')\n",
    "ax.set_ylabel('Fraction of daily streams')\n",
    "plt.show()"
   ]
  },
  {
   "cell_type": "markdown",
   "id": "407f43cd",
   "metadata": {},
   "source": [
    "We can see a few trends here. \n",
    "1. First, for all days except Thursday and Friday, I listen to almost no tracks between midnight and 6am. This is when I'm sleeping.\n",
    "2. There are notable midday peaks on Saturday and Sunday. I like to play music out loud on the weekends :)\n",
    "3. Even when normalized by day, the 9PM-11PM period on Mondays and Thursdays still stands out."
   ]
  },
  {
   "cell_type": "markdown",
   "id": "fe44dc0e",
   "metadata": {},
   "source": [
    "---"
   ]
  },
  {
   "cell_type": "markdown",
   "id": "f3233ff6",
   "metadata": {},
   "source": [
    "## My listening habits"
   ]
  },
  {
   "cell_type": "markdown",
   "id": "d46f4e68",
   "metadata": {},
   "source": [
    "## Do I go down the rabbit hole?"
   ]
  },
  {
   "cell_type": "markdown",
   "id": "b6e182e4",
   "metadata": {},
   "source": [
    "When I listen to one song by an artist, will the next song I listen to be by the same artist?"
   ]
  },
  {
   "cell_type": "code",
   "execution_count": 49,
   "id": "19e2da69",
   "metadata": {},
   "outputs": [],
   "source": [
    "artists = streaming_df['artistName']"
   ]
  },
  {
   "cell_type": "code",
   "execution_count": 50,
   "id": "2ff970a4",
   "metadata": {},
   "outputs": [],
   "source": [
    "ntracks = len(artists)\n",
    "same_artist_count = 0\n",
    "\n",
    "for i in range(ntracks-1):\n",
    "    if artists[i] == artists[i+1]:\n",
    "        same_artist_count += 1"
   ]
  },
  {
   "cell_type": "code",
   "execution_count": 51,
   "id": "67a38bdd",
   "metadata": {},
   "outputs": [
    {
     "name": "stdout",
     "output_type": "stream",
     "text": [
      "26.07% of the time the next track I listen to will be by the same artist\n"
     ]
    }
   ],
   "source": [
    "# print(same_artist_count)\n",
    "percent_same_artist = same_artist_count/(ntracks-1) * 100\n",
    "print(\"{}% of the time the next track I listen to will be by the same artist\".format(np.round(percent_same_artist, 2)))"
   ]
  },
  {
   "cell_type": "markdown",
   "id": "ebef1255",
   "metadata": {},
   "source": [
    "I strongly suspect that there is more structure here: I think that I listen to large portions of an artist's anthology at once. To test this, let's see what the probabilities are that if the last $k$ songs I've listened to are by one artist, track number $(k+1)$ will be by the same artist."
   ]
  },
  {
   "cell_type": "code",
   "execution_count": 52,
   "id": "30f38f55",
   "metadata": {},
   "outputs": [],
   "source": [
    "counts = []\n",
    "\n",
    "def update_counts(counts, tmp_count):\n",
    "    n = len(counts)\n",
    "    if tmp_count > n:\n",
    "        ndiff = tmp_count - n\n",
    "        counts = counts + [0]*ndiff\n",
    "    for i in range(tmp_count):\n",
    "        counts[i] += tmp_count -i\n",
    "    return counts\n",
    "\n",
    "## Initializations\n",
    "last_artist = artists[0]\n",
    "tmp_count = 0\n",
    "\n",
    "for i in range(1, ntracks):\n",
    "    curr_artist = artists[i]\n",
    "    if curr_artist == last_artist:\n",
    "        tmp_count += 1\n",
    "    else:\n",
    "        last_artist = curr_artist\n",
    "        counts = update_counts(counts, tmp_count)\n",
    "        tmp_count = 0\n",
    "\n",
    "### Add corrections for 2fold and 3fold occurrences based on our procedure\n",
    "counts[0] += 2\n",
    "counts[1] += 1"
   ]
  },
  {
   "cell_type": "code",
   "execution_count": 53,
   "id": "cca981e5",
   "metadata": {},
   "outputs": [],
   "source": [
    "def compute_relisten_probs(counts, ntracks):\n",
    "    probs = []\n",
    "    for i in range(len(counts)):\n",
    "        if i == 0:\n",
    "            probs += [counts[0]/(ntracks - 1)]\n",
    "        else:\n",
    "            probs += [counts[i]/(counts[i-1])]\n",
    "    return probs\n",
    "        \n",
    "relisten_probs = compute_relisten_probs(counts, ntracks)"
   ]
  },
  {
   "cell_type": "code",
   "execution_count": 54,
   "id": "532b4aee",
   "metadata": {},
   "outputs": [
    {
     "data": {
      "image/png": "[encoded data removed]",
      "text/plain": [
       "<Figure size 1080x360 with 2 Axes>"
      ]
     },
     "metadata": {
      "needs_background": "light"
     },
     "output_type": "display_data"
    }
   ],
   "source": [
    "fig, ax = plt.subplots(2, 1, figsize = (15, 5), sharex = True)\n",
    "x = np.arange(1, len(relisten_probs)+1)\n",
    "xs = np.linspace(0, 40, 100)\n",
    "\n",
    "\n",
    "ax[0].plot(x, relisten_probs, '-d', label = 'data')\n",
    "popt_const, _ = curve_fit(const_func, x[3:-3], relisten_probs[3:-3])\n",
    "ax[0].plot(xs, const_func(xs, *popt_const), label = r'$y = {}$'.format(np.round(popt_const[0], 3)))\n",
    "ax[0].set_ylabel(r'$P(x_{k+1}|x_k)$')\n",
    "ax[0].set_ylim(0, 1)\n",
    "ax[0].legend(frameon = False, fontsize = 14)\n",
    "\n",
    "ax[1].plot(x, np.log(counts), '-d', label = 'data')\n",
    "popt_exp, _ = curve_fit(lin_func, x, np.log(counts))\n",
    "ax[1].plot(xs, lin_func(xs, *popt_exp), label = r'$y = {}x + {}$'.format(*np.round(popt_exp, 3)))\n",
    "ax[1].set_ylabel(r'log(count)')\n",
    "ax[1].set_xlabel(r'Song number')\n",
    "ax[1].legend(frameon = False, fontsize = 14)\n",
    "\n",
    "plt.xlim(np.amin(x) - 0.5, np.amax(x) + 0.5)\n",
    "\n",
    "plt.show()"
   ]
  },
  {
   "cell_type": "markdown",
   "id": "59839438",
   "metadata": {},
   "source": [
    "Two things are clear from this plot:\n",
    "1. After the second or third song from one artist, it is almost equally likely that I stop listening at any point - the probability of continuing to listen remains relatively constant as the number of songs increases. This can be seen by fitting this probability curve to a constant value, as shown in the yellow line in the upper axes.\n",
    "2. The number of times I listen to $k$ songs by the same artist in a row falls off exponentially with $k$. Hence, the logarithm of the count is approximately linear in the song number."
   ]
  },
  {
   "cell_type": "markdown",
   "id": "3b36ecff",
   "metadata": {},
   "source": [
    "In fact, the former implies the latter! We can see this behavior arise when we try modeling these statistics with a [geometric distribution](https://en.wikipedia.org/wiki/Geometric_distribution#Assumptions:_When_is_the_geometric_distribution_an_appropriate_model?). Let $p$ be the 'success' probability, or the probability that the next track I listen to is from a different artist than the last, and $q = 1 - p$ is the failure probability, wherein we continue to listen to the same artist. We assume for simplicity that each trial is independent, and that $p$ is constant, i.e. the same for all trials."
   ]
  },
  {
   "cell_type": "markdown",
   "id": "eeb39700",
   "metadata": {},
   "source": [
    "In this model, the probability that I listen to $k$ consecutive tracks by one artist before listening to a track by another artist is the probability of $k$ 'failures' before the first 'success'. This is:\n",
    "$$ P(Y = k) = q^k p,$$\n",
    "which of course decays linearly with $k$! "
   ]
  },
  {
   "cell_type": "markdown",
   "id": "0ac8e309",
   "metadata": {},
   "source": [
    "It is worth noting that this model does not take into account the behavior at $k$ small or large. For $k = 1$, i.e. after I've listened to my first track by a given artist, the probability, $P(Y = 1) \\approx 26\\%$, which we calculated above, can be explained by the high frequencies at which I listen to playlists, including my own personal playlists, as well as Discover Weekly and New Music Friday. For large $k$, I suspect that the sample sizes are just too small to make for meaningful probabilities. For instance, only three times did I listen to $33$ songs in a row by a single artist, and only one of those times did I listen to $34$. Flipping one more of those to $34$ would increase the reported probability by $100\\%$."
   ]
  },
  {
   "cell_type": "markdown",
   "id": "a8c0b3c9",
   "metadata": {},
   "source": [
    "## Bringing in my library"
   ]
  },
  {
   "cell_type": "code",
   "execution_count": 55,
   "id": "c91536e2",
   "metadata": {},
   "outputs": [],
   "source": [
    "f = open(\"data/raw/YourLibrary.json\",)\n",
    "library_json = json.load(f)"
   ]
  },
  {
   "cell_type": "code",
   "execution_count": 56,
   "id": "ca191c9a",
   "metadata": {},
   "outputs": [],
   "source": [
    "artists_df = pd.DataFrame(library_json['artists'])"
   ]
  },
  {
   "cell_type": "code",
   "execution_count": 57,
   "id": "c6dbaba2",
   "metadata": {},
   "outputs": [],
   "source": [
    "tracks_df = pd.DataFrame(library_json['tracks'])"
   ]
  },
  {
   "cell_type": "code",
   "execution_count": 58,
   "id": "3cc023eb",
   "metadata": {},
   "outputs": [
    {
     "data": {
      "text/html": [
       "<div>\n",
       "<style scoped>\n",
       "    .dataframe tbody tr th:only-of-type {\n",
       "        vertical-align: middle;\n",
       "    }\n",
       "\n",
       "    .dataframe tbody tr th {\n",
       "        vertical-align: top;\n",
       "    }\n",
       "\n",
       "    .dataframe thead th {\n",
       "        text-align: right;\n",
       "    }\n",
       "</style>\n",
       "<table border=\"1\" class=\"dataframe\">\n",
       "  <thead>\n",
       "    <tr style=\"text-align: right;\">\n",
       "      <th></th>\n",
       "      <th>artist</th>\n",
       "      <th>album</th>\n",
       "      <th>track</th>\n",
       "      <th>uri</th>\n",
       "    </tr>\n",
       "  </thead>\n",
       "  <tbody>\n",
       "    <tr>\n",
       "      <th>0</th>\n",
       "      <td>Maroon 5</td>\n",
       "      <td>Overexposed Track By Track</td>\n",
       "      <td>Daylight</td>\n",
       "      <td>spotify:track:1NNAI51EuoRWw1ydX1zV7S</td>\n",
       "    </tr>\n",
       "    <tr>\n",
       "      <th>1</th>\n",
       "      <td>Sam Smith</td>\n",
       "      <td>In The Lonely Hour</td>\n",
       "      <td>Stay With Me</td>\n",
       "      <td>spotify:track:5Db9VIdDsN5yu3Eu7CT0i4</td>\n",
       "    </tr>\n",
       "    <tr>\n",
       "      <th>2</th>\n",
       "      <td>Billie Eilish</td>\n",
       "      <td>dont smile at me</td>\n",
       "      <td>bellyache</td>\n",
       "      <td>spotify:track:1ni8ZTAY1GHXEFOGHl7fdg</td>\n",
       "    </tr>\n",
       "    <tr>\n",
       "      <th>3</th>\n",
       "      <td>Lianne La Havas</td>\n",
       "      <td>Blood</td>\n",
       "      <td>Grow</td>\n",
       "      <td>spotify:track:6tgdUQbvTVasO8CWWIt3hO</td>\n",
       "    </tr>\n",
       "    <tr>\n",
       "      <th>4</th>\n",
       "      <td>Ariana Grande</td>\n",
       "      <td>Dangerous Woman</td>\n",
       "      <td>Leave Me Lonely</td>\n",
       "      <td>spotify:track:0zXXqCxifU2u8jfW2r4POb</td>\n",
       "    </tr>\n",
       "  </tbody>\n",
       "</table>\n",
       "</div>"
      ],
      "text/plain": [
       "            artist                       album            track  \\\n",
       "0         Maroon 5  Overexposed Track By Track         Daylight   \n",
       "1        Sam Smith          In The Lonely Hour     Stay With Me   \n",
       "2    Billie Eilish            dont smile at me        bellyache   \n",
       "3  Lianne La Havas                       Blood             Grow   \n",
       "4    Ariana Grande             Dangerous Woman  Leave Me Lonely   \n",
       "\n",
       "                                    uri  \n",
       "0  spotify:track:1NNAI51EuoRWw1ydX1zV7S  \n",
       "1  spotify:track:5Db9VIdDsN5yu3Eu7CT0i4  \n",
       "2  spotify:track:1ni8ZTAY1GHXEFOGHl7fdg  \n",
       "3  spotify:track:6tgdUQbvTVasO8CWWIt3hO  \n",
       "4  spotify:track:0zXXqCxifU2u8jfW2r4POb  "
      ]
     },
     "execution_count": 58,
     "metadata": {},
     "output_type": "execute_result"
    }
   ],
   "source": [
    "tracks_df.head()"
   ]
  },
  {
   "cell_type": "markdown",
   "id": "9bd0fa2c",
   "metadata": {},
   "source": [
    "### Track I listened to most without adding to my library?"
   ]
  },
  {
   "cell_type": "code",
   "execution_count": 59,
   "id": "c67516fc",
   "metadata": {},
   "outputs": [
    {
     "data": {
      "text/plain": [
       "artistName    trackName      \n",
       "Remi Wolf     Photo ID           45\n",
       "              Down The Line      39\n",
       "Doja Cat      Woman              35\n",
       "Mac Miller    Woods              31\n",
       "Remi Wolf     Sauce              29\n",
       "                                 ..\n",
       "Jordan Ward   Lil Baby Crush      1\n",
       "Jordan Rakei  Send My Love        1\n",
       "              Selfish             1\n",
       "              Borderline          1\n",
       "King Von      Don't Play That     1\n",
       "Length: 4497, dtype: int64"
      ]
     },
     "execution_count": 59,
     "metadata": {},
     "output_type": "execute_result"
    }
   ],
   "source": [
    "num_listens"
   ]
  },
  {
   "cell_type": "code",
   "execution_count": 60,
   "id": "f9d15975",
   "metadata": {},
   "outputs": [
    {
     "name": "stdout",
     "output_type": "stream",
     "text": [
      "Glen Hansard, All The Way Down: listened 8 times\n"
     ]
    }
   ],
   "source": [
    "for i in range(len(num_listens)):\n",
    "    artist, track = num_listens.keys()[i]\n",
    "    artist_cond = (tracks_df['artist'] == artist)\n",
    "    track_cond = (tracks_df['track'] == track)\n",
    "    if len(tracks_df[artist_cond & track_cond]) == 0:\n",
    "        nl = num_listens[i]\n",
    "        print('{}, {}: listened {} times'.format(artist, track, nl))\n",
    "        break"
   ]
  },
  {
   "cell_type": "markdown",
   "id": "10f7a256",
   "metadata": {},
   "source": [
    "### Artist I listened to most without adding to my library?"
   ]
  },
  {
   "cell_type": "code",
   "execution_count": 61,
   "id": "173d66fa",
   "metadata": {},
   "outputs": [
    {
     "name": "stdout",
     "output_type": "stream",
     "text": [
      "Listened to Mac Miller 136 times, but they were not in my library\n"
     ]
    }
   ],
   "source": [
    "for artist in num_plays_by_artist.keys():\n",
    "    \n",
    "    if len(artists_df[(artists_df['name'] == artist)]) == 0:\n",
    "        nlistens = num_plays_by_artist[artist]\n",
    "        print('Listened to {} {} times, but they were not in my library'.format(artist, nlistens))\n",
    "        break"
   ]
  },
  {
   "cell_type": "markdown",
   "id": "75ad1333",
   "metadata": {},
   "source": [
    "## Supplement Artist DataFrame"
   ]
  },
  {
   "cell_type": "markdown",
   "id": "cc866e85",
   "metadata": {},
   "source": [
    "We'll use the spotify API (via Spotipy) to get the popularity, main genres, and total number of followers for the artists in our library: "
   ]
  },
  {
   "cell_type": "code",
   "execution_count": 62,
   "id": "5fbc1073",
   "metadata": {},
   "outputs": [
    {
     "data": {
      "text/html": [
       "<div>\n",
       "<style scoped>\n",
       "    .dataframe tbody tr th:only-of-type {\n",
       "        vertical-align: middle;\n",
       "    }\n",
       "\n",
       "    .dataframe tbody tr th {\n",
       "        vertical-align: top;\n",
       "    }\n",
       "\n",
       "    .dataframe thead th {\n",
       "        text-align: right;\n",
       "    }\n",
       "</style>\n",
       "<table border=\"1\" class=\"dataframe\">\n",
       "  <thead>\n",
       "    <tr style=\"text-align: right;\">\n",
       "      <th></th>\n",
       "      <th>name</th>\n",
       "      <th>uri</th>\n",
       "    </tr>\n",
       "  </thead>\n",
       "  <tbody>\n",
       "    <tr>\n",
       "      <th>0</th>\n",
       "      <td>Alicia Keys</td>\n",
       "      <td>spotify:artist:3DiDSECUqqY1AuBP8qtaIa</td>\n",
       "    </tr>\n",
       "    <tr>\n",
       "      <th>1</th>\n",
       "      <td>Allen Stone</td>\n",
       "      <td>spotify:artist:536osqBGKzeozje8BfcGsa</td>\n",
       "    </tr>\n",
       "    <tr>\n",
       "      <th>2</th>\n",
       "      <td>Alxndr London</td>\n",
       "      <td>spotify:artist:6ofPJGFZsNAUlzAYBVJB11</td>\n",
       "    </tr>\n",
       "    <tr>\n",
       "      <th>3</th>\n",
       "      <td>Aminé</td>\n",
       "      <td>spotify:artist:3Gm5F95VdRxW3mqCn8RPBJ</td>\n",
       "    </tr>\n",
       "    <tr>\n",
       "      <th>4</th>\n",
       "      <td>Anderson .Paak</td>\n",
       "      <td>spotify:artist:3jK9MiCrA42lLAdMGUZpwa</td>\n",
       "    </tr>\n",
       "  </tbody>\n",
       "</table>\n",
       "</div>"
      ],
      "text/plain": [
       "             name                                    uri\n",
       "0     Alicia Keys  spotify:artist:3DiDSECUqqY1AuBP8qtaIa\n",
       "1     Allen Stone  spotify:artist:536osqBGKzeozje8BfcGsa\n",
       "2   Alxndr London  spotify:artist:6ofPJGFZsNAUlzAYBVJB11\n",
       "3           Aminé  spotify:artist:3Gm5F95VdRxW3mqCn8RPBJ\n",
       "4  Anderson .Paak  spotify:artist:3jK9MiCrA42lLAdMGUZpwa"
      ]
     },
     "execution_count": 62,
     "metadata": {},
     "output_type": "execute_result"
    }
   ],
   "source": [
    "artists_df.head()"
   ]
  },
  {
   "cell_type": "code",
   "execution_count": 63,
   "id": "9b2993d3",
   "metadata": {},
   "outputs": [],
   "source": [
    "import spotipy\n",
    "from spotipy.oauth2 import SpotifyClientCredentials"
   ]
  },
  {
   "cell_type": "code",
   "execution_count": 64,
   "id": "225f90d8",
   "metadata": {},
   "outputs": [],
   "source": [
    "cid = \"979b8f6eb0bf4016bc873a80f6e902e6\"\n",
    "secret = \"07caf2e11ff64f74b955c6bb318b5363\""
   ]
  },
  {
   "cell_type": "code",
   "execution_count": 65,
   "id": "ea8de896",
   "metadata": {},
   "outputs": [],
   "source": [
    "client_credentials_manager = SpotifyClientCredentials(client_id=cid, client_secret=secret)\n",
    "sp = spotipy.Spotify(client_credentials_manager=client_credentials_manager)"
   ]
  },
  {
   "cell_type": "code",
   "execution_count": 66,
   "id": "2891e8b0",
   "metadata": {},
   "outputs": [],
   "source": [
    "from time import sleep"
   ]
  },
  {
   "cell_type": "code",
   "execution_count": null,
   "id": "71b32d4e",
   "metadata": {},
   "outputs": [],
   "source": []
  },
  {
   "cell_type": "code",
   "execution_count": 76,
   "id": "d9d32347",
   "metadata": {},
   "outputs": [],
   "source": [
    "def supplement_artist_df(artists_df):\n",
    "    artists_df['popularity'] = np.nan\n",
    "    artists_df['followers'] = np.nan\n",
    "    artists_df['genres'] = ''\n",
    "    \n",
    "    for i in range(len(artists_df)):\n",
    "        uri = artists_df['uri'][i]\n",
    "        response = sp.artist(uri)\n",
    "        artists_df.at[i, 'popularity'] = response['popularity']\n",
    "        artists_df.at[i, 'followers'] = response['followers']['total']\n",
    "        artists_df.at[i, 'genres'] = ' '.join(response['genres'])\n",
    "        sleep(0.5)\n",
    "    return artists_df"
   ]
  },
  {
   "cell_type": "code",
   "execution_count": 77,
   "id": "d38e79be",
   "metadata": {},
   "outputs": [],
   "source": [
    "artists_df = supplement_artist_df(artists_df)"
   ]
  },
  {
   "cell_type": "code",
   "execution_count": 78,
   "id": "314238f6",
   "metadata": {},
   "outputs": [
    {
     "data": {
      "text/html": [
       "<div>\n",
       "<style scoped>\n",
       "    .dataframe tbody tr th:only-of-type {\n",
       "        vertical-align: middle;\n",
       "    }\n",
       "\n",
       "    .dataframe tbody tr th {\n",
       "        vertical-align: top;\n",
       "    }\n",
       "\n",
       "    .dataframe thead th {\n",
       "        text-align: right;\n",
       "    }\n",
       "</style>\n",
       "<table border=\"1\" class=\"dataframe\">\n",
       "  <thead>\n",
       "    <tr style=\"text-align: right;\">\n",
       "      <th></th>\n",
       "      <th>name</th>\n",
       "      <th>uri</th>\n",
       "      <th>popularity</th>\n",
       "      <th>followers</th>\n",
       "      <th>genres</th>\n",
       "    </tr>\n",
       "  </thead>\n",
       "  <tbody>\n",
       "    <tr>\n",
       "      <th>0</th>\n",
       "      <td>Alicia Keys</td>\n",
       "      <td>spotify:artist:3DiDSECUqqY1AuBP8qtaIa</td>\n",
       "      <td>77.0</td>\n",
       "      <td>9955924.0</td>\n",
       "      <td>hip pop neo soul pop r&amp;b urban contemporary</td>\n",
       "    </tr>\n",
       "    <tr>\n",
       "      <th>1</th>\n",
       "      <td>Allen Stone</td>\n",
       "      <td>spotify:artist:536osqBGKzeozje8BfcGsa</td>\n",
       "      <td>54.0</td>\n",
       "      <td>309690.0</td>\n",
       "      <td>neo mellow retro soul</td>\n",
       "    </tr>\n",
       "    <tr>\n",
       "      <th>2</th>\n",
       "      <td>Alxndr London</td>\n",
       "      <td>spotify:artist:6ofPJGFZsNAUlzAYBVJB11</td>\n",
       "      <td>29.0</td>\n",
       "      <td>11773.0</td>\n",
       "      <td>neo r&amp;b</td>\n",
       "    </tr>\n",
       "    <tr>\n",
       "      <th>3</th>\n",
       "      <td>Aminé</td>\n",
       "      <td>spotify:artist:3Gm5F95VdRxW3mqCn8RPBJ</td>\n",
       "      <td>69.0</td>\n",
       "      <td>1806953.0</td>\n",
       "      <td>hip hop pop portland hip hop rap</td>\n",
       "    </tr>\n",
       "    <tr>\n",
       "      <th>4</th>\n",
       "      <td>Anderson .Paak</td>\n",
       "      <td>spotify:artist:3jK9MiCrA42lLAdMGUZpwa</td>\n",
       "      <td>78.0</td>\n",
       "      <td>2227344.0</td>\n",
       "      <td>escape room</td>\n",
       "    </tr>\n",
       "  </tbody>\n",
       "</table>\n",
       "</div>"
      ],
      "text/plain": [
       "             name                                    uri  popularity  \\\n",
       "0     Alicia Keys  spotify:artist:3DiDSECUqqY1AuBP8qtaIa        77.0   \n",
       "1     Allen Stone  spotify:artist:536osqBGKzeozje8BfcGsa        54.0   \n",
       "2   Alxndr London  spotify:artist:6ofPJGFZsNAUlzAYBVJB11        29.0   \n",
       "3           Aminé  spotify:artist:3Gm5F95VdRxW3mqCn8RPBJ        69.0   \n",
       "4  Anderson .Paak  spotify:artist:3jK9MiCrA42lLAdMGUZpwa        78.0   \n",
       "\n",
       "   followers                                       genres  \n",
       "0  9955924.0  hip pop neo soul pop r&b urban contemporary  \n",
       "1   309690.0                        neo mellow retro soul  \n",
       "2    11773.0                                      neo r&b  \n",
       "3  1806953.0             hip hop pop portland hip hop rap  \n",
       "4  2227344.0                                  escape room  "
      ]
     },
     "execution_count": 78,
     "metadata": {},
     "output_type": "execute_result"
    }
   ],
   "source": [
    "artists_df.head()"
   ]
  },
  {
   "cell_type": "markdown",
   "id": "f2c8dec6",
   "metadata": {},
   "source": [
    "#### Save Artist DataFrame"
   ]
  },
  {
   "cell_type": "code",
   "execution_count": 79,
   "id": "6210fa46",
   "metadata": {},
   "outputs": [],
   "source": [
    "artists_file = \"data/processed/artists.csv\"\n",
    "# artists_df.to_csv(artists_file, index=False)\n",
    "\n",
    "### to read from file:\n",
    "artists_df = pd.read_csv(artists_file, index_col = None)"
   ]
  },
  {
   "cell_type": "markdown",
   "id": "ffe6c548",
   "metadata": {},
   "source": [
    "#### Popularity of Artists I follow"
   ]
  },
  {
   "cell_type": "code",
   "execution_count": 80,
   "id": "0d92f206",
   "metadata": {},
   "outputs": [
    {
     "data": {
      "text/html": [
       "<div>\n",
       "<style scoped>\n",
       "    .dataframe tbody tr th:only-of-type {\n",
       "        vertical-align: middle;\n",
       "    }\n",
       "\n",
       "    .dataframe tbody tr th {\n",
       "        vertical-align: top;\n",
       "    }\n",
       "\n",
       "    .dataframe thead th {\n",
       "        text-align: right;\n",
       "    }\n",
       "</style>\n",
       "<table border=\"1\" class=\"dataframe\">\n",
       "  <thead>\n",
       "    <tr style=\"text-align: right;\">\n",
       "      <th></th>\n",
       "      <th>popularity</th>\n",
       "      <th>followers</th>\n",
       "    </tr>\n",
       "  </thead>\n",
       "  <tbody>\n",
       "    <tr>\n",
       "      <th>min</th>\n",
       "      <td>0.0</td>\n",
       "      <td>121.00</td>\n",
       "    </tr>\n",
       "    <tr>\n",
       "      <th>mean</th>\n",
       "      <td>64.3</td>\n",
       "      <td>6491994.26</td>\n",
       "    </tr>\n",
       "    <tr>\n",
       "      <th>max</th>\n",
       "      <td>95.0</td>\n",
       "      <td>68569580.00</td>\n",
       "    </tr>\n",
       "  </tbody>\n",
       "</table>\n",
       "</div>"
      ],
      "text/plain": [
       "      popularity    followers\n",
       "min          0.0       121.00\n",
       "mean        64.3   6491994.26\n",
       "max         95.0  68569580.00"
      ]
     },
     "execution_count": 80,
     "metadata": {},
     "output_type": "execute_result"
    }
   ],
   "source": [
    "artists_df[['popularity','followers']].agg(['min','mean','max'])"
   ]
  },
  {
   "cell_type": "markdown",
   "id": "22053355",
   "metadata": {},
   "source": [
    "Most and least popular/followed artists in my library:"
   ]
  },
  {
   "cell_type": "code",
   "execution_count": 81,
   "id": "37d93148",
   "metadata": {},
   "outputs": [
    {
     "name": "stdout",
     "output_type": "stream",
     "text": [
      "====================\n",
      "Most popular:\n",
      "14    Drake\n",
      "====================\n",
      "Least popular:\n",
      "37    PICO\n",
      "====================\n",
      "Most followed:\n",
      "8    Billie Eilish\n",
      "====================\n",
      "Least followed:\n",
      "37    PICO\n",
      "====================\n"
     ]
    }
   ],
   "source": [
    "print(\"=\"*20)\n",
    "print(\"Most popular:\")\n",
    "print(artists_df[artists_df.popularity == artists_df.popularity.max()]['name'].to_string())\n",
    "print(\"=\"*20)\n",
    "print(\"Least popular:\")\n",
    "print(artists_df[artists_df.popularity == artists_df.popularity.min()]['name'].to_string())\n",
    "print(\"=\"*20)\n",
    "print(\"Most followed:\")\n",
    "print(artists_df[artists_df.followers == artists_df.followers.max()]['name'].to_string())\n",
    "print(\"=\"*20)\n",
    "print(\"Least followed:\")\n",
    "print(artists_df[artists_df.followers == artists_df.followers.min()]['name'].to_string())\n",
    "print(\"=\"*20)"
   ]
  },
  {
   "cell_type": "markdown",
   "id": "6023436b",
   "metadata": {},
   "source": [
    "PICO is a friend of mine - he was my founding CTO at Synphonic. "
   ]
  },
  {
   "cell_type": "markdown",
   "id": "eae4794a",
   "metadata": {},
   "source": [
    "### My artist genres visualized"
   ]
  },
  {
   "cell_type": "code",
   "execution_count": 82,
   "id": "4154a723",
   "metadata": {},
   "outputs": [],
   "source": [
    "from wordcloud import WordCloud"
   ]
  },
  {
   "cell_type": "code",
   "execution_count": 95,
   "id": "f8ba9b63",
   "metadata": {},
   "outputs": [],
   "source": [
    "genres = ' '.join(list(artists_df.genres.dropna()))"
   ]
  },
  {
   "cell_type": "code",
   "execution_count": 98,
   "id": "9a2ab613",
   "metadata": {},
   "outputs": [
    {
     "data": {
      "image/png": "[encoded data removed]",
      "text/plain": [
       "<Figure size 864x576 with 1 Axes>"
      ]
     },
     "metadata": {
      "needs_background": "light"
     },
     "output_type": "display_data"
    }
   ],
   "source": [
    "plt.figure(figsize=(12,8))\n",
    "wc = WordCloud(background_color=\"white\")\n",
    "wc.generate(genres)\n",
    "plt.axis(\"off\")\n",
    "plt.imshow(wc, interpolation=\"bilinear\")\n",
    "plt.show()"
   ]
  },
  {
   "cell_type": "code",
   "execution_count": null,
   "id": "7a453c1a",
   "metadata": {},
   "outputs": [],
   "source": []
  },
  {
   "cell_type": "markdown",
   "id": "0d51c85e",
   "metadata": {},
   "source": [
    "## Supplement Tracks DataFrame"
   ]
  },
  {
   "cell_type": "markdown",
   "id": "adaa58bc",
   "metadata": {},
   "source": [
    "We will make use of the `spotipy.audio_features()` method to supplement the data Spotify has given us with additional features. Per [Spotify's Web API Reference](https://developer.spotify.com/documentation/web-api/reference/#/operations/get-several-audio-features). For completeness, here are brief descriptions of what each feature captures, and the range of numerical values it can take, paraphrased from the API reference:\n",
    "\n",
    "* `acousticness`: Confidence measure of whether track is acoustic. **Allowed values**: $\\in [0, 1]$. A value of $1.0$ means we are confident the track is acoustic.\n",
    "* `danceability`: How suitable a track is for dancing. **Allowed values**: $\\in [0, 1]$. A value of $1.0$ means the track is very danceable.\n",
    "* `energy`: How 'intense' or 'active' the track feels. **Allowed values**: $\\in [0, 1]$. A value of $1.0$ means the track is very energetic.\n",
    "* `instrumentalness`: Prediction of whether the track contains no vocals. **Allowed values**: $\\in [0, 1]$. A value of $1.0$ means we are confident the track contains no vocals.\n",
    "* `liveness`: Whether an audience was or was not present. **Allowed values**: $\\in [0, 1]$. A value above $0.8$ means we are confident the track was recorded from a live performance.\n",
    "* `speechiness`: How strongly the track is dominated by spoken words. **Allowed values**: $\\in [0, 1]$. A value of $1.0$ means the track is entirely speech-like.\n",
    "* `valence`: Essentially how happy the track sounds. **Allowed values**: $\\in [0, 1]$. A value of $1.0$ means the track is very happy.\n",
    "* `tempo`: Estimated BPM of track. **Allowed values**: $\\in \\mathbb{R}$.\n",
    "* `loudness`: Average loudness in decibals (dB). **Range**: $\\in [-60, 0]$.\n",
    "* `mode`: Modality - major or minor. **Allowed values**: $\\in \\{0, 1\\}$. Major $\\rightarrow 1$, and minor $\\rightarrow 0$.\n",
    "* `time_signature`: Meter - number of beats per bar. **Allowed values**: $\\in [3, 7]$.\n",
    "* `key`: Key the track is in, in pitch notation. **Allowed values**: $\\in \\{-1, \\ldots, 11\\}$, with $-1$ associated with no key being found."
   ]
  },
  {
   "cell_type": "code",
   "execution_count": 99,
   "id": "b89db954",
   "metadata": {},
   "outputs": [],
   "source": [
    "tracks_df = pd.DataFrame(library_json['tracks'])"
   ]
  },
  {
   "cell_type": "code",
   "execution_count": 100,
   "id": "b1988d47",
   "metadata": {},
   "outputs": [],
   "source": [
    "def add_audio_features(tracks_df):\n",
    "    new_keys = ['danceability', 'energy', 'key', 'loudness', 'mode', 'speechiness',\n",
    "                     'acousticness', 'instrumentalness', 'liveness', 'valence', 'tempo', \n",
    "                     'duration_ms', 'time_signature']\n",
    "    ### Add new columns to the df\n",
    "    for k in new_keys:\n",
    "        tracks_df[k] = np.nan\n",
    "\n",
    "    nrows = len(tracks_df)\n",
    "    rows_per_call = 100 ### \n",
    "    ncalls = int(np.ceil(nrows/rows_per_call))\n",
    "    \n",
    "    for i in range(ncalls):\n",
    "        lb, ub = i * rows_per_call, min((i+1)* rows_per_call, nrows+1)-1\n",
    "        tids = list(tracks_df.loc[lb:ub]['uri'])\n",
    "        response = sp.audio_features(tracks = tids)\n",
    "        inds = np.arange(lb, ub)\n",
    "        \n",
    "        for k in new_keys:\n",
    "            vals = [response[i][k] for i in range(len(inds))]\n",
    "            tracks_df.loc[inds , k] = vals\n",
    "    \n",
    "    return tracks_df\n",
    "\n",
    "    \n",
    "    "
   ]
  },
  {
   "cell_type": "code",
   "execution_count": 101,
   "id": "db8ec056",
   "metadata": {},
   "outputs": [],
   "source": [
    "# tracks_df = add_audio_features(tracks_df)"
   ]
  },
  {
   "cell_type": "markdown",
   "id": "f73002e3",
   "metadata": {},
   "source": [
    "Let's once again convert milliseconds to seconds"
   ]
  },
  {
   "cell_type": "code",
   "execution_count": 103,
   "id": "01aa27b6",
   "metadata": {},
   "outputs": [],
   "source": [
    "# tracks_df['duration_s'] = tracks_df['duration_ms']/1000\n",
    "# tracks_df = tracks_df.drop('duration_ms', axis = 1)"
   ]
  },
  {
   "cell_type": "markdown",
   "id": "6faa000d",
   "metadata": {},
   "source": [
    "We will also drop all rows containing `NaN` entries, of which there are $40$."
   ]
  },
  {
   "cell_type": "code",
   "execution_count": 104,
   "id": "30ce11d2",
   "metadata": {},
   "outputs": [],
   "source": [
    "tracks_df = tracks_df.dropna()"
   ]
  },
  {
   "cell_type": "code",
   "execution_count": 105,
   "id": "20c402f5",
   "metadata": {},
   "outputs": [
    {
     "data": {
      "text/html": [
       "<div>\n",
       "<style scoped>\n",
       "    .dataframe tbody tr th:only-of-type {\n",
       "        vertical-align: middle;\n",
       "    }\n",
       "\n",
       "    .dataframe tbody tr th {\n",
       "        vertical-align: top;\n",
       "    }\n",
       "\n",
       "    .dataframe thead th {\n",
       "        text-align: right;\n",
       "    }\n",
       "</style>\n",
       "<table border=\"1\" class=\"dataframe\">\n",
       "  <thead>\n",
       "    <tr style=\"text-align: right;\">\n",
       "      <th></th>\n",
       "      <th>artist</th>\n",
       "      <th>album</th>\n",
       "      <th>track</th>\n",
       "      <th>uri</th>\n",
       "    </tr>\n",
       "  </thead>\n",
       "  <tbody>\n",
       "    <tr>\n",
       "      <th>0</th>\n",
       "      <td>Maroon 5</td>\n",
       "      <td>Overexposed Track By Track</td>\n",
       "      <td>Daylight</td>\n",
       "      <td>spotify:track:1NNAI51EuoRWw1ydX1zV7S</td>\n",
       "    </tr>\n",
       "    <tr>\n",
       "      <th>1</th>\n",
       "      <td>Sam Smith</td>\n",
       "      <td>In The Lonely Hour</td>\n",
       "      <td>Stay With Me</td>\n",
       "      <td>spotify:track:5Db9VIdDsN5yu3Eu7CT0i4</td>\n",
       "    </tr>\n",
       "    <tr>\n",
       "      <th>2</th>\n",
       "      <td>Billie Eilish</td>\n",
       "      <td>dont smile at me</td>\n",
       "      <td>bellyache</td>\n",
       "      <td>spotify:track:1ni8ZTAY1GHXEFOGHl7fdg</td>\n",
       "    </tr>\n",
       "    <tr>\n",
       "      <th>3</th>\n",
       "      <td>Lianne La Havas</td>\n",
       "      <td>Blood</td>\n",
       "      <td>Grow</td>\n",
       "      <td>spotify:track:6tgdUQbvTVasO8CWWIt3hO</td>\n",
       "    </tr>\n",
       "    <tr>\n",
       "      <th>4</th>\n",
       "      <td>Ariana Grande</td>\n",
       "      <td>Dangerous Woman</td>\n",
       "      <td>Leave Me Lonely</td>\n",
       "      <td>spotify:track:0zXXqCxifU2u8jfW2r4POb</td>\n",
       "    </tr>\n",
       "  </tbody>\n",
       "</table>\n",
       "</div>"
      ],
      "text/plain": [
       "            artist                       album            track  \\\n",
       "0         Maroon 5  Overexposed Track By Track         Daylight   \n",
       "1        Sam Smith          In The Lonely Hour     Stay With Me   \n",
       "2    Billie Eilish            dont smile at me        bellyache   \n",
       "3  Lianne La Havas                       Blood             Grow   \n",
       "4    Ariana Grande             Dangerous Woman  Leave Me Lonely   \n",
       "\n",
       "                                    uri  \n",
       "0  spotify:track:1NNAI51EuoRWw1ydX1zV7S  \n",
       "1  spotify:track:5Db9VIdDsN5yu3Eu7CT0i4  \n",
       "2  spotify:track:1ni8ZTAY1GHXEFOGHl7fdg  \n",
       "3  spotify:track:6tgdUQbvTVasO8CWWIt3hO  \n",
       "4  spotify:track:0zXXqCxifU2u8jfW2r4POb  "
      ]
     },
     "execution_count": 105,
     "metadata": {},
     "output_type": "execute_result"
    }
   ],
   "source": [
    "tracks_df.head()"
   ]
  },
  {
   "cell_type": "code",
   "execution_count": 106,
   "id": "c2e9930e",
   "metadata": {},
   "outputs": [],
   "source": [
    "tracks_file = \"data/processed/tracks.csv\"\n",
    "# tracks_df.to_csv(tracks_file, index=False)\n",
    "\n",
    "### to read from file:\n",
    "tracks_df = pd.read_csv(tracks_file, index_col = None)"
   ]
  },
  {
   "cell_type": "markdown",
   "id": "fcae00f4",
   "metadata": {},
   "source": [
    "The mode, key, and time_signature are categorical. For the moment, let's ignore them and focus on the continuous variables. We will create a feature vector for each track by standardizing the data in the continuous variable columns. We will also ignore the artist, album, and track name, as well as uri for now."
   ]
  },
  {
   "cell_type": "code",
   "execution_count": 108,
   "id": "9c5c78cc",
   "metadata": {},
   "outputs": [],
   "source": [
    "features = ['danceability', 'energy', 'loudness', 'speechiness', 'acousticness', 'instrumentalness', \n",
    "            'liveness', 'valence', 'tempo', 'duration_s']\n",
    "features_df = tracks_df[features]"
   ]
  },
  {
   "cell_type": "code",
   "execution_count": 109,
   "id": "48fbfc9c",
   "metadata": {},
   "outputs": [],
   "source": [
    "X = features_df.to_numpy()"
   ]
  },
  {
   "cell_type": "markdown",
   "id": "c8eaf7e2",
   "metadata": {},
   "source": [
    "Now let's standardize this:"
   ]
  },
  {
   "cell_type": "code",
   "execution_count": 110,
   "id": "c221583a",
   "metadata": {},
   "outputs": [],
   "source": [
    "means, mins, maxs, stds = features_df.mean(), features_df.min(), features_df.max(), features_df.std()"
   ]
  },
  {
   "cell_type": "code",
   "execution_count": 111,
   "id": "54252027",
   "metadata": {},
   "outputs": [],
   "source": [
    "standardized_features_df = (features_df - mins)/(maxs - mins) - 0.5"
   ]
  },
  {
   "cell_type": "code",
   "execution_count": 112,
   "id": "b85e9b21",
   "metadata": {},
   "outputs": [
    {
     "data": {
      "text/html": [
       "<div>\n",
       "<style scoped>\n",
       "    .dataframe tbody tr th:only-of-type {\n",
       "        vertical-align: middle;\n",
       "    }\n",
       "\n",
       "    .dataframe tbody tr th {\n",
       "        vertical-align: top;\n",
       "    }\n",
       "\n",
       "    .dataframe thead th {\n",
       "        text-align: right;\n",
       "    }\n",
       "</style>\n",
       "<table border=\"1\" class=\"dataframe\">\n",
       "  <thead>\n",
       "    <tr style=\"text-align: right;\">\n",
       "      <th></th>\n",
       "      <th>danceability</th>\n",
       "      <th>energy</th>\n",
       "      <th>loudness</th>\n",
       "      <th>speechiness</th>\n",
       "      <th>acousticness</th>\n",
       "      <th>instrumentalness</th>\n",
       "      <th>liveness</th>\n",
       "      <th>valence</th>\n",
       "      <th>tempo</th>\n",
       "      <th>duration_s</th>\n",
       "    </tr>\n",
       "  </thead>\n",
       "  <tbody>\n",
       "    <tr>\n",
       "      <th>0</th>\n",
       "      <td>0.174203</td>\n",
       "      <td>0.180359</td>\n",
       "      <td>0.391214</td>\n",
       "      <td>-0.471654</td>\n",
       "      <td>-0.497592</td>\n",
       "      <td>-0.500000</td>\n",
       "      <td>-0.240590</td>\n",
       "      <td>-0.124619</td>\n",
       "      <td>0.061308</td>\n",
       "      <td>-0.371841</td>\n",
       "    </tr>\n",
       "    <tr>\n",
       "      <th>1</th>\n",
       "      <td>-0.007708</td>\n",
       "      <td>-0.078398</td>\n",
       "      <td>0.363972</td>\n",
       "      <td>-0.459009</td>\n",
       "      <td>0.070844</td>\n",
       "      <td>-0.499778</td>\n",
       "      <td>-0.388098</td>\n",
       "      <td>-0.310783</td>\n",
       "      <td>-0.102344</td>\n",
       "      <td>-0.402635</td>\n",
       "    </tr>\n",
       "    <tr>\n",
       "      <th>2</th>\n",
       "      <td>0.214286</td>\n",
       "      <td>0.077871</td>\n",
       "      <td>0.309697</td>\n",
       "      <td>-0.388303</td>\n",
       "      <td>-0.037701</td>\n",
       "      <td>-0.425026</td>\n",
       "      <td>-0.009664</td>\n",
       "      <td>-0.084944</td>\n",
       "      <td>-0.032532</td>\n",
       "      <td>-0.398842</td>\n",
       "    </tr>\n",
       "    <tr>\n",
       "      <th>3</th>\n",
       "      <td>-0.002569</td>\n",
       "      <td>0.098165</td>\n",
       "      <td>0.375010</td>\n",
       "      <td>-0.446470</td>\n",
       "      <td>-0.352282</td>\n",
       "      <td>-0.496088</td>\n",
       "      <td>-0.384028</td>\n",
       "      <td>0.126653</td>\n",
       "      <td>0.322113</td>\n",
       "      <td>-0.375473</td>\n",
       "    </tr>\n",
       "    <tr>\n",
       "      <th>4</th>\n",
       "      <td>-0.042652</td>\n",
       "      <td>-0.051001</td>\n",
       "      <td>0.339157</td>\n",
       "      <td>-0.467123</td>\n",
       "      <td>0.102000</td>\n",
       "      <td>-0.499977</td>\n",
       "      <td>-0.155137</td>\n",
       "      <td>-0.104273</td>\n",
       "      <td>-0.074686</td>\n",
       "      <td>-0.369127</td>\n",
       "    </tr>\n",
       "  </tbody>\n",
       "</table>\n",
       "</div>"
      ],
      "text/plain": [
       "   danceability    energy  loudness  speechiness  acousticness  \\\n",
       "0      0.174203  0.180359  0.391214    -0.471654     -0.497592   \n",
       "1     -0.007708 -0.078398  0.363972    -0.459009      0.070844   \n",
       "2      0.214286  0.077871  0.309697    -0.388303     -0.037701   \n",
       "3     -0.002569  0.098165  0.375010    -0.446470     -0.352282   \n",
       "4     -0.042652 -0.051001  0.339157    -0.467123      0.102000   \n",
       "\n",
       "   instrumentalness  liveness   valence     tempo  duration_s  \n",
       "0         -0.500000 -0.240590 -0.124619  0.061308   -0.371841  \n",
       "1         -0.499778 -0.388098 -0.310783 -0.102344   -0.402635  \n",
       "2         -0.425026 -0.009664 -0.084944 -0.032532   -0.398842  \n",
       "3         -0.496088 -0.384028  0.126653  0.322113   -0.375473  \n",
       "4         -0.499977 -0.155137 -0.104273 -0.074686   -0.369127  "
      ]
     },
     "execution_count": 112,
     "metadata": {},
     "output_type": "execute_result"
    }
   ],
   "source": [
    "standardized_features_df.head()"
   ]
  },
  {
   "cell_type": "code",
   "execution_count": 113,
   "id": "e41af577",
   "metadata": {},
   "outputs": [
    {
     "data": {
      "text/plain": [
       "danceability        0.5\n",
       "energy              0.5\n",
       "loudness            0.5\n",
       "speechiness         0.5\n",
       "acousticness        0.5\n",
       "instrumentalness    0.5\n",
       "liveness            0.5\n",
       "valence             0.5\n",
       "tempo               0.5\n",
       "duration_s          0.5\n",
       "dtype: float64"
      ]
     },
     "execution_count": 113,
     "metadata": {},
     "output_type": "execute_result"
    }
   ],
   "source": [
    "standardized_features_df.max()"
   ]
  },
  {
   "cell_type": "code",
   "execution_count": 114,
   "id": "7627b5b6",
   "metadata": {},
   "outputs": [],
   "source": [
    "X = standardized_features_df.to_numpy()"
   ]
  },
  {
   "cell_type": "code",
   "execution_count": 115,
   "id": "a9f32835",
   "metadata": {},
   "outputs": [
    {
     "data": {
      "text/plain": [
       "(4021, 10)"
      ]
     },
     "execution_count": 115,
     "metadata": {},
     "output_type": "execute_result"
    }
   ],
   "source": [
    "X.shape"
   ]
  },
  {
   "cell_type": "markdown",
   "id": "d54ffdca",
   "metadata": {},
   "source": [
    "#### Initial Visualization using t-SNE"
   ]
  },
  {
   "cell_type": "code",
   "execution_count": 299,
   "id": "3cc3fc83",
   "metadata": {},
   "outputs": [
    {
     "name": "stdout",
     "output_type": "stream",
     "text": [
      "[t-SNE] Computing 91 nearest neighbors...\n",
      "[t-SNE] Indexed 4021 samples in 0.003s...\n",
      "[t-SNE] Computed neighbors for 4021 samples in 0.386s...\n",
      "[t-SNE] Computed conditional probabilities for sample 1000 / 4021\n",
      "[t-SNE] Computed conditional probabilities for sample 2000 / 4021\n",
      "[t-SNE] Computed conditional probabilities for sample 3000 / 4021\n",
      "[t-SNE] Computed conditional probabilities for sample 4000 / 4021\n",
      "[t-SNE] Computed conditional probabilities for sample 4021 / 4021\n",
      "[t-SNE] Mean sigma: 0.117438\n",
      "[t-SNE] KL divergence after 250 iterations with early exaggeration: 80.063034\n",
      "[t-SNE] KL divergence after 1000 iterations: 1.644362\n"
     ]
    }
   ],
   "source": [
    "tsne = TSNE(n_components=2, verbose=1, random_state=123)\n",
    "z = tsne.fit_transform(X)"
   ]
  },
  {
   "cell_type": "code",
   "execution_count": 302,
   "id": "059305ea",
   "metadata": {},
   "outputs": [],
   "source": [
    "import seaborn as sns"
   ]
  },
  {
   "cell_type": "code",
   "execution_count": 303,
   "id": "e92e4c3c",
   "metadata": {},
   "outputs": [],
   "source": [
    "df = pd.DataFrame()\n",
    "df[\"comp-1\"] = z[:,0]\n",
    "df[\"comp-2\"] = z[:,1]"
   ]
  },
  {
   "cell_type": "code",
   "execution_count": 304,
   "id": "e88050bf",
   "metadata": {},
   "outputs": [
    {
     "data": {
      "text/plain": [
       "[Text(0.5, 1.0, 'Track Features')]"
      ]
     },
     "execution_count": 304,
     "metadata": {},
     "output_type": "execute_result"
    },
    {
     "data": {
      "image/png": "[encoded data removed]",
      "text/plain": [
       "<Figure size 432x288 with 1 Axes>"
      ]
     },
     "metadata": {
      "needs_background": "light"
     },
     "output_type": "display_data"
    }
   ],
   "source": [
    "sns.scatterplot(x=\"comp-1\", y=\"comp-2\",\n",
    "                data=df).set(title=\"Track Features\") "
   ]
  },
  {
   "cell_type": "markdown",
   "id": "a3737589",
   "metadata": {},
   "source": [
    "Looks like when t-SNE embeds the $10$-dimensional feature vector into a two-dimensional space, it naturally splits into two clusters. It looks like we can peak inside these clusters by thresholding on component $2$ - we don't even need to train a classifier. Let's print out the track title and artist for tracks that fall into both clusters."
   ]
  },
  {
   "cell_type": "markdown",
   "id": "3285bc86",
   "metadata": {},
   "source": [
    "**Lower cluster**"
   ]
  },
  {
   "cell_type": "code",
   "execution_count": 320,
   "id": "1f2365db",
   "metadata": {},
   "outputs": [
    {
     "data": {
      "text/html": [
       "<div>\n",
       "<style scoped>\n",
       "    .dataframe tbody tr th:only-of-type {\n",
       "        vertical-align: middle;\n",
       "    }\n",
       "\n",
       "    .dataframe tbody tr th {\n",
       "        vertical-align: top;\n",
       "    }\n",
       "\n",
       "    .dataframe thead th {\n",
       "        text-align: right;\n",
       "    }\n",
       "</style>\n",
       "<table border=\"1\" class=\"dataframe\">\n",
       "  <thead>\n",
       "    <tr style=\"text-align: right;\">\n",
       "      <th></th>\n",
       "      <th>track</th>\n",
       "      <th>artist</th>\n",
       "    </tr>\n",
       "  </thead>\n",
       "  <tbody>\n",
       "    <tr>\n",
       "      <th>11</th>\n",
       "      <td>Hi There</td>\n",
       "      <td>Blue Lab Beats</td>\n",
       "    </tr>\n",
       "    <tr>\n",
       "      <th>60</th>\n",
       "      <td>Say My Name - Instrumental</td>\n",
       "      <td>ODESZA</td>\n",
       "    </tr>\n",
       "    <tr>\n",
       "      <th>69</th>\n",
       "      <td>Le Pronostic - Remix Instrumental</td>\n",
       "      <td>Funky DL</td>\n",
       "    </tr>\n",
       "    <tr>\n",
       "      <th>75</th>\n",
       "      <td>Goodnight, Good Afternoon</td>\n",
       "      <td>Nieve</td>\n",
       "    </tr>\n",
       "    <tr>\n",
       "      <th>77</th>\n",
       "      <td>Chevalier Bulltoe</td>\n",
       "      <td>Totorro</td>\n",
       "    </tr>\n",
       "    <tr>\n",
       "      <th>87</th>\n",
       "      <td>Waste A Moment</td>\n",
       "      <td>Kings of Leon</td>\n",
       "    </tr>\n",
       "    <tr>\n",
       "      <th>89</th>\n",
       "      <td>Sun Models (feat. Madelyn Grant)</td>\n",
       "      <td>ODESZA</td>\n",
       "    </tr>\n",
       "    <tr>\n",
       "      <th>90</th>\n",
       "      <td>Lifted</td>\n",
       "      <td>DAO</td>\n",
       "    </tr>\n",
       "    <tr>\n",
       "      <th>111</th>\n",
       "      <td>Don't Kill My Vibe</td>\n",
       "      <td>Justice Der</td>\n",
       "    </tr>\n",
       "    <tr>\n",
       "      <th>112</th>\n",
       "      <td>dancing</td>\n",
       "      <td>NEIL FRANCES</td>\n",
       "    </tr>\n",
       "    <tr>\n",
       "      <th>118</th>\n",
       "      <td>Frontline</td>\n",
       "      <td>Butcher Brown</td>\n",
       "    </tr>\n",
       "    <tr>\n",
       "      <th>121</th>\n",
       "      <td>What Kinda Music</td>\n",
       "      <td>Tom Misch</td>\n",
       "    </tr>\n",
       "    <tr>\n",
       "      <th>124</th>\n",
       "      <td>Attitude</td>\n",
       "      <td>Seb Zillner</td>\n",
       "    </tr>\n",
       "    <tr>\n",
       "      <th>127</th>\n",
       "      <td>Us and Them</td>\n",
       "      <td>Pink Floyd</td>\n",
       "    </tr>\n",
       "    <tr>\n",
       "      <th>133</th>\n",
       "      <td>Ti-de</td>\n",
       "      <td>Kokoroko</td>\n",
       "    </tr>\n",
       "    <tr>\n",
       "      <th>142</th>\n",
       "      <td>Amazone</td>\n",
       "      <td>Djosa</td>\n",
       "    </tr>\n",
       "    <tr>\n",
       "      <th>179</th>\n",
       "      <td>Always in My Head</td>\n",
       "      <td>Coldplay</td>\n",
       "    </tr>\n",
       "    <tr>\n",
       "      <th>191</th>\n",
       "      <td>5 A.M.</td>\n",
       "      <td>David Gilmour</td>\n",
       "    </tr>\n",
       "    <tr>\n",
       "      <th>193</th>\n",
       "      <td>Gobstopper</td>\n",
       "      <td>J Dilla</td>\n",
       "    </tr>\n",
       "    <tr>\n",
       "      <th>215</th>\n",
       "      <td>F.T.B.</td>\n",
       "      <td>Robert Glasper</td>\n",
       "    </tr>\n",
       "  </tbody>\n",
       "</table>\n",
       "</div>"
      ],
      "text/plain": [
       "                                 track          artist\n",
       "11                            Hi There  Blue Lab Beats\n",
       "60          Say My Name - Instrumental          ODESZA\n",
       "69   Le Pronostic - Remix Instrumental        Funky DL\n",
       "75           Goodnight, Good Afternoon           Nieve\n",
       "77                   Chevalier Bulltoe         Totorro\n",
       "87                      Waste A Moment   Kings of Leon\n",
       "89    Sun Models (feat. Madelyn Grant)          ODESZA\n",
       "90                              Lifted             DAO\n",
       "111                 Don't Kill My Vibe     Justice Der\n",
       "112                            dancing    NEIL FRANCES\n",
       "118                          Frontline   Butcher Brown\n",
       "121                   What Kinda Music       Tom Misch\n",
       "124                           Attitude     Seb Zillner\n",
       "127                        Us and Them      Pink Floyd\n",
       "133                              Ti-de        Kokoroko\n",
       "142                            Amazone           Djosa\n",
       "179                  Always in My Head        Coldplay\n",
       "191                             5 A.M.   David Gilmour\n",
       "193                         Gobstopper         J Dilla\n",
       "215                             F.T.B.  Robert Glasper"
      ]
     },
     "execution_count": 320,
     "metadata": {},
     "output_type": "execute_result"
    }
   ],
   "source": [
    "tracks_df.iloc[df[df['comp-2'] < -50].index][['track', 'artist']].head(20)"
   ]
  },
  {
   "cell_type": "markdown",
   "id": "56e3f5c4",
   "metadata": {},
   "source": [
    "**Upper cluster**"
   ]
  },
  {
   "cell_type": "code",
   "execution_count": 321,
   "id": "f62189ae",
   "metadata": {},
   "outputs": [
    {
     "data": {
      "text/html": [
       "<div>\n",
       "<style scoped>\n",
       "    .dataframe tbody tr th:only-of-type {\n",
       "        vertical-align: middle;\n",
       "    }\n",
       "\n",
       "    .dataframe tbody tr th {\n",
       "        vertical-align: top;\n",
       "    }\n",
       "\n",
       "    .dataframe thead th {\n",
       "        text-align: right;\n",
       "    }\n",
       "</style>\n",
       "<table border=\"1\" class=\"dataframe\">\n",
       "  <thead>\n",
       "    <tr style=\"text-align: right;\">\n",
       "      <th></th>\n",
       "      <th>track</th>\n",
       "      <th>artist</th>\n",
       "    </tr>\n",
       "  </thead>\n",
       "  <tbody>\n",
       "    <tr>\n",
       "      <th>0</th>\n",
       "      <td>Daylight</td>\n",
       "      <td>Maroon 5</td>\n",
       "    </tr>\n",
       "    <tr>\n",
       "      <th>1</th>\n",
       "      <td>Stay With Me</td>\n",
       "      <td>Sam Smith</td>\n",
       "    </tr>\n",
       "    <tr>\n",
       "      <th>2</th>\n",
       "      <td>bellyache</td>\n",
       "      <td>Billie Eilish</td>\n",
       "    </tr>\n",
       "    <tr>\n",
       "      <th>3</th>\n",
       "      <td>Grow</td>\n",
       "      <td>Lianne La Havas</td>\n",
       "    </tr>\n",
       "    <tr>\n",
       "      <th>4</th>\n",
       "      <td>Leave Me Lonely</td>\n",
       "      <td>Ariana Grande</td>\n",
       "    </tr>\n",
       "    <tr>\n",
       "      <th>5</th>\n",
       "      <td>Come Over - Acoustic Mixtape</td>\n",
       "      <td>Sam Hunt</td>\n",
       "    </tr>\n",
       "    <tr>\n",
       "      <th>6</th>\n",
       "      <td>IV. Sweatpants</td>\n",
       "      <td>Childish Gambino</td>\n",
       "    </tr>\n",
       "    <tr>\n",
       "      <th>7</th>\n",
       "      <td>where u are</td>\n",
       "      <td>Miloe</td>\n",
       "    </tr>\n",
       "    <tr>\n",
       "      <th>8</th>\n",
       "      <td>Found (feat. Brent Faiyaz)</td>\n",
       "      <td>Tems</td>\n",
       "    </tr>\n",
       "    <tr>\n",
       "      <th>9</th>\n",
       "      <td>Guy</td>\n",
       "      <td>Remi Wolf</td>\n",
       "    </tr>\n",
       "    <tr>\n",
       "      <th>10</th>\n",
       "      <td>Actual Proof</td>\n",
       "      <td>Julius Rodriguez</td>\n",
       "    </tr>\n",
       "    <tr>\n",
       "      <th>12</th>\n",
       "      <td>Inferno</td>\n",
       "      <td>JMSN</td>\n",
       "    </tr>\n",
       "    <tr>\n",
       "      <th>13</th>\n",
       "      <td>My World</td>\n",
       "      <td>OSHUN</td>\n",
       "    </tr>\n",
       "    <tr>\n",
       "      <th>14</th>\n",
       "      <td>New Day (Otis Parham)</td>\n",
       "      <td>Sean C. Johnson</td>\n",
       "    </tr>\n",
       "    <tr>\n",
       "      <th>15</th>\n",
       "      <td>Work</td>\n",
       "      <td>Amaria</td>\n",
       "    </tr>\n",
       "    <tr>\n",
       "      <th>16</th>\n",
       "      <td>It's My Fault</td>\n",
       "      <td>Lolo Zouaï</td>\n",
       "    </tr>\n",
       "    <tr>\n",
       "      <th>17</th>\n",
       "      <td>Butterflies Pt. 2 - Wale Remix</td>\n",
       "      <td>Queen Naija</td>\n",
       "    </tr>\n",
       "    <tr>\n",
       "      <th>18</th>\n",
       "      <td>Don't Keep It To Yourself</td>\n",
       "      <td>Ruthven</td>\n",
       "    </tr>\n",
       "    <tr>\n",
       "      <th>19</th>\n",
       "      <td>He Won't Hold You (feat. Rapsody)</td>\n",
       "      <td>Jacob Collier</td>\n",
       "    </tr>\n",
       "    <tr>\n",
       "      <th>20</th>\n",
       "      <td>House Party</td>\n",
       "      <td>OverDoz.</td>\n",
       "    </tr>\n",
       "  </tbody>\n",
       "</table>\n",
       "</div>"
      ],
      "text/plain": [
       "                                track            artist\n",
       "0                            Daylight          Maroon 5\n",
       "1                        Stay With Me         Sam Smith\n",
       "2                           bellyache     Billie Eilish\n",
       "3                                Grow   Lianne La Havas\n",
       "4                     Leave Me Lonely     Ariana Grande\n",
       "5        Come Over - Acoustic Mixtape          Sam Hunt\n",
       "6                      IV. Sweatpants  Childish Gambino\n",
       "7                         where u are             Miloe\n",
       "8          Found (feat. Brent Faiyaz)              Tems\n",
       "9                                 Guy         Remi Wolf\n",
       "10                       Actual Proof  Julius Rodriguez\n",
       "12                            Inferno              JMSN\n",
       "13                           My World             OSHUN\n",
       "14              New Day (Otis Parham)   Sean C. Johnson\n",
       "15                               Work            Amaria\n",
       "16                      It's My Fault        Lolo Zouaï\n",
       "17     Butterflies Pt. 2 - Wale Remix       Queen Naija\n",
       "18          Don't Keep It To Yourself           Ruthven\n",
       "19  He Won't Hold You (feat. Rapsody)     Jacob Collier\n",
       "20                        House Party          OverDoz."
      ]
     },
     "execution_count": 321,
     "metadata": {},
     "output_type": "execute_result"
    }
   ],
   "source": [
    "tracks_df.iloc[df[df['comp-2'] > -25].index][['track', 'artist']].head(20)"
   ]
  },
  {
   "cell_type": "markdown",
   "id": "04041572",
   "metadata": {},
   "source": [
    "It appears that the dominant trait has to do with how instrumental and $\\sim$jazzy$\\sim$ the tracks are. Tracks in the lower, smaller cluster are very instrumentally dominated!"
   ]
  },
  {
   "cell_type": "code",
   "execution_count": null,
   "id": "33e35ed4",
   "metadata": {},
   "outputs": [],
   "source": []
  },
  {
   "cell_type": "markdown",
   "id": "2225c9a3",
   "metadata": {},
   "source": [
    "Genius API Credentials:"
   ]
  },
  {
   "cell_type": "code",
   "execution_count": 368,
   "id": "4e8af51a",
   "metadata": {},
   "outputs": [],
   "source": [
    "genius_cid = \"64eYD784MxB6CGKzhVqdo4B-5Bonq-RvPVjb9xyCq4ryp83mgiVCCPRPKgz4iBu6\"\n",
    "genius_cs = \"QUxPjn22MFLY_E6nIo0OefqulirxE1Cpf0ijgV9ngLK01h2jeS_UY9NsxjXuYgtCamAZeEgg6SRKEX_qCZXFKA\"\n",
    "genius_token = \"ZIms6p--hmp80ne3Uf5wGjmaTEexPweNnzay5MmkKxcJ-mKcMkIDX15h279zcr9Q\""
   ]
  },
  {
   "cell_type": "markdown",
   "id": "c3ddb662",
   "metadata": {},
   "source": [
    "[LyricsGenius documentation](https://lyricsgenius.readthedocs.io/en/master/)"
   ]
  },
  {
   "cell_type": "code",
   "execution_count": 370,
   "id": "f832154e",
   "metadata": {},
   "outputs": [],
   "source": [
    "from lyricsgenius import Genius\n",
    "genius = Genius(genius_token)"
   ]
  },
  {
   "cell_type": "code",
   "execution_count": 386,
   "id": "bbd47f47",
   "metadata": {},
   "outputs": [
    {
     "name": "stdout",
     "output_type": "stream",
     "text": [
      "Searching for songs by PICO...\n",
      "\n",
      "Changing artist name to 'Pico'\n",
      "Song 1: \"Symphonie\"\n",
      "Song 2: \"Catalogué\"\n",
      "\"Balotelli\" is not valid. Skipping.\n",
      "Song 3: \"Bip bip\"\n",
      "Song 4: \"S.E\"\n",
      "Song 5: \"Paname\"\n",
      "\n",
      "Reached user-specified song limit (5).\n",
      "Done. Found 5 songs.\n",
      "Pico, 5 songs\n",
      "Pico\n"
     ]
    }
   ],
   "source": [
    "artist = genius.search_artist('PICO', max_songs = 5)\n",
    "print(artist)\n",
    "print(artist.name)\n",
    "# artist.save_lyrics()"
   ]
  },
  {
   "cell_type": "code",
   "execution_count": 383,
   "id": "f09ade8a",
   "metadata": {},
   "outputs": [
    {
     "name": "stdout",
     "output_type": "stream",
     "text": [
      "Searching for \"Navajo\" by Masego...\n",
      "Done.\n"
     ]
    }
   ],
   "source": [
    "song = genius.search_song('Navajo', artist.name)"
   ]
  },
  {
   "cell_type": "code",
   "execution_count": 384,
   "id": "799991fd",
   "metadata": {},
   "outputs": [
    {
     "data": {
      "text/plain": [
       "\"Navajo Lyrics[Intro]\\nI love you, I love you, I love you. Until I... until I...\\nI love you, I love you, I love, you. Until I find the ...\\n...say the only words I know that you'll\\nUntil I... until I... say the only words I know that you'll... until I...\\n\\n[Pre-Chorus]\\nI know you see it, girl\\nThis ain't sittin' real good in my soul\\nEverywhere this little girl goes\\nShe pick up another obstacle, ah\\nShe was my heart\\nI don't know the tribe or the fall\\nBut by default she don't think of me\\n[Chorus]\\nI thought she was an Indian (Navajo)\\nShe be slangin’ thangs like a simian (Now I know), uh\\nAll my life I wanted me an Indian (There she goes)\\nNow she’s far away\\nBut I had to know\\n\\n[Pre-Chorus]\\nListen, I know you see it, girl\\nThis ain't sittin' real good in my soul\\nEverywhere this little girl goes\\nShe pick up another obstacle, ah\\nShe was my heart\\nI don't know the tribe or the fall\\nBut by default she don't think of me\\n\\n[Chorus]\\nI thought she was an Indian, woo (Navajo)\\nNow she be slangin’ thangs like a simian (Now I know)\\nAll my life I wanted me an Indian (There she goes)\\nOoo girl lemme in (Oh-oh)\\n\\n[Verse]\\nIn the street\\nWith a wedding ring\\nAnd she hit the bar\\nCity babe, are you down to cheat?\\nHe looked in her eye\\nChivalry is it really dead?\\nHe pulled out a tip? (Pay up)\\nJumpin’ right on him\\nThinkin’ when’s it good to intervene\\nThen I lost her\\nLost her to the world and the girls and impostors\\nEntertain? I doubt it'll pay and it cost her\\nI ain't mad at me but it hurts\\nYou might also like[Chorus]\\nAnd I thought she was an Indian (Navajo), uh\\nNow she only worried 'bout the Benjamin’s, eh, ah (Grab the gold)\\nShe been lurking’ in my dreams (There she goes)\\nI swear that eye's on me\\nAnd now she goes\\n\\n[Post-Chorus]\\nI swear that eye's on me\\nI swear that eye's on me\\nI swear that eye's on me\\nI swear that eye's on me\\nI swear that eye's on me\\n\\n[Outro]\\nI need you, I need you, I need you\\nI need to make you see\\nWhat you mean to me\\nUntil I do, I'm hoping you will know what I mean32Embed\""
      ]
     },
     "execution_count": 384,
     "metadata": {},
     "output_type": "execute_result"
    }
   ],
   "source": [
    "song.lyrics"
   ]
  },
  {
   "cell_type": "code",
   "execution_count": null,
   "id": "6fe0f646",
   "metadata": {},
   "outputs": [],
   "source": []
  },
  {
   "cell_type": "code",
   "execution_count": null,
   "id": "554b4dd0",
   "metadata": {},
   "outputs": [],
   "source": []
  },
  {
   "cell_type": "code",
   "execution_count": null,
   "id": "3555a020",
   "metadata": {},
   "outputs": [
    {
     "name": "stdout",
     "output_type": "stream",
     "text": [
      "Collecting package metadata (current_repodata.json): done\n",
      "Solving environment: | \n",
      "The environment is inconsistent, please check the package plan carefully\n",
      "The following packages are causing the inconsistency:\n",
      "\n",
      "  - defaults/osx-64::pyopenssl==19.0.0=py37_0\n",
      "  - defaults/noarch::qtawesome==0.6.0=py_0\n",
      "  - defaults/noarch::prompt_toolkit==2.0.10=py_0\n",
      "  - defaults/osx-64::pytest-astropy==0.5.0=py37_0\n",
      "  - defaults/osx-64::imageio==2.6.0=py37_0\n",
      "  - defaults/osx-64::pyrsistent==0.15.4=py37h1de35cc_0\n",
      "  - defaults/noarch::flask==1.1.1=py_0\n",
      "  - defaults/osx-64::jupyter==1.0.0=py37_7\n",
      "  - defaults/osx-64::pytables==3.5.2=py37h5bccee9_1\n",
      "  - defaults/osx-64::retrying==1.3.3=py37_2\n",
      "  - defaults/osx-64::scikit-image==0.15.0=py37h0a44026_0\n",
      "  - defaults/osx-64::mock==3.0.5=py37_0\n",
      "  - defaults/osx-64::widgetsnbextension==3.5.1=py37_0\n",
      "  - defaults/noarch::numpydoc==0.9.1=py_0\n",
      "  - defaults/osx-64::conda-package-handling==1.6.0=py37h1de35cc_0\n",
      "  - defaults/noarch::keras-preprocessing==1.1.0=py_1\n",
      "  - defaults/osx-64::cycler==0.10.0=py37_0\n",
      "  - weinbe58/osx-64::quspin==0.3.4=py37h832c846_0\n",
      "  - defaults/osx-64::pytest==5.2.1=py37_0\n",
      "  - defaults/osx-64::pathlib2==2.3.5=py37_0\n",
      "  - defaults/noarch::anaconda-project==0.8.3=py_0\n",
      "  - defaults/osx-64::bottleneck==1.2.1=py37h1d22016_1\n",
      "  - defaults/noarch::opt_einsum==3.1.0=py_0\n",
      "  - defaults/osx-64::ipython==7.8.0=py37h39e3cac_0\n",
      "  - defaults/osx-64::pytest-arraydiff==0.3=py37h39e3cac_0\n",
      "  - defaults/noarch::ipywidgets==7.5.1=py_0\n",
      "  - defaults/osx-64::terminado==0.8.2=py37_0\n",
      "  - defaults/osx-64::pywavelets==1.0.3=py37h1d22016_1\n",
      "  - defaults/osx-64::matplotlib==3.1.1=py37h54f8f79_0\n",
      "  - defaults/osx-64::protobuf==3.11.2=py37h0a44026_0\n",
      "  - defaults/osx-64::numexpr==2.7.0=py37h7413580_0\n",
      "  - defaults/noarch::keras-applications==1.0.8=py_0\n",
      "  - defaults/noarch::sphinx==2.2.0=py_0\n",
      "  - defaults/osx-64::conda==4.13.0=py37hecd8cb5_0\n",
      "  - defaults/noarch::tensorboard==2.0.0=pyhb38c66f_1\n",
      "  - defaults/osx-64::jedi==0.15.1=py37_0\n",
      "  - defaults/osx-64::bkcharts==0.2=py37_0\n",
      "  - defaults/osx-64::grpcio==1.16.1=py37h044775b_1\n",
      "  - defaults/osx-64::scikit-learn==0.21.3=py37h27c97d8_0\n",
      "  - defaults/osx-64::h5py==2.9.0=py37h3134771_0\n",
      "  - defaults/noarch::jupyterlab_server==1.0.6=py_0\n",
      "  - defaults/osx-64::torchvision==0.8.2=cpu_py37hde629fd_0\n",
      "  - defaults/osx-64::astroid==2.3.1=py37_0\n",
      "  - defaults/noarch::qtconsole==4.5.5=py_0\n",
      "  - defaults/noarch::jupyterlab==1.1.4=pyhf63ae98_0\n",
      "  - defaults/osx-64::pylint==2.4.2=py37_0\n",
      "  - defaults/osx-64::spyder-kernels==0.5.2=py37_0\n",
      "  - defaults/osx-64::singledispatch==3.4.0.3=py37_0\n",
      "  - defaults/osx-64::anaconda-navigator==1.9.7=py37_0\n",
      "  - defaults/noarch::plotly==4.3.0=py_0\n",
      "  - defaults/noarch::conda-verify==3.4.2=py_1\n",
      "  - defaults/osx-64::jupyter_console==6.0.0=py37_0\n",
      "  - defaults/osx-64::mkl_fft==1.0.14=py37h5e564d8_0\n",
      "  - defaults/osx-64::jsonschema==3.0.2=py37_0\n",
      "  - defaults/osx-64::absl-py==0.8.1=py37_0\n",
      "  - defaults/osx-64::cryptography==2.7=py37ha12b0ac_0\n",
      "  - defaults/noarch::pytest-openfiles==0.4.0=py_0\n",
      "  - defaults/osx-64::statsmodels==0.10.1=py37h1d22016_0\n",
      "  - defaults/osx-64::bleach==3.1.0=py37_0\n",
      "  - defaults/osx-64::pytorch==1.7.1=cpu_py37hb87dcc5_0\n",
      "  - defaults/osx-64::html5lib==1.0.1=py37_0\n",
      "  - defaults/osx-64::seaborn==0.9.0=py37_0\n",
      "  - defaults/noarch::google-pasta==0.1.8=py_0\n",
      "  - defaults/osx-64::numpy-base==1.17.2=py37h6575580_0\n",
      "  - defaults/osx-64::bokeh==1.3.4=py37_0\n",
      "  - defaults/osx-64::numpy==1.17.2=py37h99e6662_0\n",
      "  - defaults/osx-64::anaconda-client==1.7.2=py37_0\n",
      "  - defaults/noarch::tensorflow-estimator==2.0.0=pyh2649769_0\n",
      "  - defaults/osx-64::pluggy==0.13.0=py37_0\n",
      "  - defaults/osx-64::pytest-remotedata==0.3.2=py37_0\n",
      "  - defaults/osx-64::patsy==0.5.1=py37_0\n",
      "  - pytorch/osx-64::torchtext==0.8.1=py37\n",
      "  - defaults/osx-64::multipledispatch==0.6.0=py37_0\n",
      "  - defaults/osx-64::notebook==6.0.1=py37_0\n",
      "  - defaults/noarch::distributed==2.5.2=py_0\n",
      "  - defaults/noarch::pytest-doctestplus==0.4.0=py_0\n",
      "  - defaults/osx-64::_ipyw_jlab_nb_ext_conf==0.1.0=py37_0\n",
      "  - defaults/osx-64::nbconvert==5.6.0=py37_1\n",
      "  - defaults/osx-64::mkl_random==1.1.0=py37ha771720_0\n",
      "  - defaults/osx-64::astropy==3.2.2=py37h1de35cc_0\n",
      "  - defaults/osx-64::scipy==1.3.1=py37h1410ff5_0\n",
      "  - defaults/osx-64::ipykernel==5.1.2=py37h39e3cac_0\n",
      "  - defaults/osx-64::mkl-service==2.3.0=py37hfbe908c_0\n",
      "  - defaults/osx-64::spyder==3.3.6=py37_0\n",
      "  - defaults/noarch::path.py==12.0.1=py_0\n",
      "  - defaults/noarch::dask==2.5.2=py_0\n",
      "  - defaults/osx-64::anaconda==custom=py37_1\n",
      "  - defaults/osx-64::conda-build==3.18.9=py37_3\n",
      "  - defaults/osx-64::tensorflow==2.0.0=mkl_py37hda344b4_0\n",
      "  - defaults/osx-64::_anaconda_depends==2019.10=py37_0\n",
      "  - defaults/osx-64::nltk==3.4.5=py37_0\n",
      "  - defaults/osx-64::numba==0.45.1=py37h6440ff4_0\n",
      "  - defaults/osx-64::tensorflow-base==2.0.0=mkl_py37h66b1bf0_0\n",
      "/ "
     ]
    }
   ],
   "source": [
    "!conda install nb_conda"
   ]
  },
  {
   "cell_type": "code",
   "execution_count": 122,
   "id": "c131871f",
   "metadata": {},
   "outputs": [
    {
     "name": "stdout",
     "output_type": "stream",
     "text": [
      "no change     /Users/jacobmarks/opt/anaconda3/condabin/conda\r\n",
      "no change     /Users/jacobmarks/opt/anaconda3/bin/conda\r\n",
      "no change     /Users/jacobmarks/opt/anaconda3/bin/conda-env\r\n",
      "no change     /Users/jacobmarks/opt/anaconda3/bin/activate\r\n",
      "no change     /Users/jacobmarks/opt/anaconda3/bin/deactivate\r\n",
      "no change     /Users/jacobmarks/opt/anaconda3/etc/profile.d/conda.sh\r\n",
      "no change     /Users/jacobmarks/opt/anaconda3/etc/fish/conf.d/conda.fish\r\n",
      "no change     /Users/jacobmarks/opt/anaconda3/shell/condabin/Conda.psm1\r\n",
      "modified      /Users/jacobmarks/opt/anaconda3/shell/condabin/conda-hook.ps1\r\n",
      "no change     /Users/jacobmarks/opt/anaconda3/lib/python3.7/site-packages/xontrib/conda.xsh\r\n",
      "no change     /Users/jacobmarks/opt/anaconda3/etc/profile.d/conda.csh\r\n",
      "modified      /Users/jacobmarks/.bash_profile\r\n",
      "\r\n",
      "==> For changes to take effect, close and re-open your current shell. <==\r\n",
      "\r\n"
     ]
    }
   ],
   "source": [
    "!conda init bash"
   ]
  },
  {
   "cell_type": "code",
   "execution_count": 123,
   "id": "5ed778e8",
   "metadata": {},
   "outputs": [
    {
     "name": "stdout",
     "output_type": "stream",
     "text": [
      "\r\n",
      "CommandNotFoundError: Your shell has not been properly configured to use 'conda activate'.\r\n",
      "To initialize your shell, run\r\n",
      "\r\n",
      "    $ conda init <SHELL_NAME>\r\n",
      "\r\n",
      "Currently supported shells are:\r\n",
      "  - bash\r\n",
      "  - fish\r\n",
      "  - tcsh\r\n",
      "  - xonsh\r\n",
      "  - zsh\r\n",
      "  - powershell\r\n",
      "\r\n",
      "See 'conda init --help' for more information and options.\r\n",
      "\r\n",
      "IMPORTANT: You may need to close and restart your shell after running 'conda init'.\r\n",
      "\r\n",
      "\r\n"
     ]
    }
   ],
   "source": [
    "!conda activate diffusion"
   ]
  },
  {
   "cell_type": "code",
   "execution_count": 118,
   "id": "a47874b7",
   "metadata": {},
   "outputs": [
    {
     "name": "stderr",
     "output_type": "stream",
     "text": [
      "ERROR:root:Internal Python error in the inspect module.\n",
      "Below is the traceback from this internal error.\n",
      "\n",
      "ERROR:root:Internal Python error in the inspect module.\n",
      "Below is the traceback from this internal error.\n",
      "\n",
      "ERROR:root:Internal Python error in the inspect module.\n",
      "Below is the traceback from this internal error.\n",
      "\n"
     ]
    },
    {
     "name": "stdout",
     "output_type": "stream",
     "text": [
      "Traceback (most recent call last):\n",
      "  File \"/Users/jacobmarks/opt/anaconda3/lib/python3.7/site-packages/transformers/utils/import_utils.py\", line 1002, in _get_module\n",
      "    return importlib.import_module(\".\" + module_name, self.__name__)\n",
      "  File \"/Users/jacobmarks/opt/anaconda3/lib/python3.7/importlib/__init__.py\", line 127, in import_module\n",
      "    return _bootstrap._gcd_import(name[level:], package, level)\n",
      "  File \"<frozen importlib._bootstrap>\", line 1006, in _gcd_import\n",
      "  File \"<frozen importlib._bootstrap>\", line 983, in _find_and_load\n",
      "  File \"<frozen importlib._bootstrap>\", line 967, in _find_and_load_unlocked\n",
      "  File \"<frozen importlib._bootstrap>\", line 677, in _load_unlocked\n",
      "  File \"<frozen importlib._bootstrap_external>\", line 728, in exec_module\n",
      "  File \"<frozen importlib._bootstrap>\", line 219, in _call_with_frames_removed\n",
      "  File \"/Users/jacobmarks/opt/anaconda3/lib/python3.7/site-packages/transformers/pipelines/__init__.py\", line 53, in <module>\n",
      "    from .fill_mask import FillMaskPipeline\n",
      "  File \"/Users/jacobmarks/opt/anaconda3/lib/python3.7/site-packages/transformers/pipelines/fill_mask.py\", line 12, in <module>\n",
      "    from ..tf_utils import stable_softmax\n",
      "  File \"/Users/jacobmarks/opt/anaconda3/lib/python3.7/site-packages/transformers/tf_utils.py\", line 26, in <module>\n",
      "    def shape_list(tensor: Union[tf.Tensor, np.ndarray]) -> List[int]:\n",
      "AttributeError: module 'tensorflow' has no attribute 'Tensor'\n",
      "\n",
      "The above exception was the direct cause of the following exception:\n",
      "\n",
      "Traceback (most recent call last):\n",
      "  File \"/Users/jacobmarks/opt/anaconda3/lib/python3.7/site-packages/IPython/core/interactiveshell.py\", line 3326, in run_code\n",
      "    exec(code_obj, self.user_global_ns, self.user_ns)\n",
      "  File \"<ipython-input-118-69a9fd07ccac>\", line 1, in <module>\n",
      "    from transformers import pipeline\n",
      "  File \"<frozen importlib._bootstrap>\", line 1032, in _handle_fromlist\n",
      "  File \"/Users/jacobmarks/opt/anaconda3/lib/python3.7/site-packages/transformers/utils/import_utils.py\", line 992, in __getattr__\n",
      "    module = self._get_module(self._class_to_module[name])\n",
      "  File \"/Users/jacobmarks/opt/anaconda3/lib/python3.7/site-packages/transformers/utils/import_utils.py\", line 1007, in _get_module\n",
      "    ) from e\n",
      "RuntimeError: Failed to import transformers.pipelines because of the following error (look up to see its traceback):\n",
      "module 'tensorflow' has no attribute 'Tensor'\n",
      "\n",
      "During handling of the above exception, another exception occurred:\n",
      "\n",
      "Traceback (most recent call last):\n",
      "  File \"/Users/jacobmarks/opt/anaconda3/lib/python3.7/site-packages/IPython/core/interactiveshell.py\", line 2040, in showtraceback\n",
      "    stb = value._render_traceback_()\n",
      "AttributeError: 'RuntimeError' object has no attribute '_render_traceback_'\n",
      "\n",
      "During handling of the above exception, another exception occurred:\n",
      "\n",
      "Traceback (most recent call last):\n",
      "  File \"/Users/jacobmarks/opt/anaconda3/lib/python3.7/site-packages/tensorflow_core/python/pywrap_tensorflow_internal.py\", line 18, in swig_import_helper\n",
      "    fp, pathname, description = imp.find_module('_pywrap_tensorflow_internal', [dirname(__file__)])\n",
      "  File \"/Users/jacobmarks/opt/anaconda3/lib/python3.7/imp.py\", line 296, in find_module\n",
      "    raise ImportError(_ERR_MSG.format(name), name=name)\n",
      "ImportError: No module named '_pywrap_tensorflow_internal'\n",
      "\n",
      "During handling of the above exception, another exception occurred:\n",
      "\n",
      "Traceback (most recent call last):\n",
      "  File \"/Users/jacobmarks/opt/anaconda3/lib/python3.7/site-packages/tensorflow_core/python/pywrap_tensorflow.py\", line 58, in <module>\n",
      "    from tensorflow.python.pywrap_tensorflow_internal import *\n",
      "  File \"/Users/jacobmarks/opt/anaconda3/lib/python3.7/site-packages/tensorflow_core/python/pywrap_tensorflow_internal.py\", line 28, in <module>\n",
      "    _pywrap_tensorflow_internal = swig_import_helper()\n",
      "  File \"/Users/jacobmarks/opt/anaconda3/lib/python3.7/site-packages/tensorflow_core/python/pywrap_tensorflow_internal.py\", line 20, in swig_import_helper\n",
      "    import _pywrap_tensorflow_internal\n",
      "ModuleNotFoundError: No module named '_pywrap_tensorflow_internal'\n",
      "\n",
      "During handling of the above exception, another exception occurred:\n",
      "\n",
      "Traceback (most recent call last):\n",
      "  File \"/Users/jacobmarks/opt/anaconda3/lib/python3.7/site-packages/IPython/core/ultratb.py\", line 1101, in get_records\n",
      "    return _fixed_getinnerframes(etb, number_of_lines_of_context, tb_offset)\n",
      "  File \"/Users/jacobmarks/opt/anaconda3/lib/python3.7/site-packages/IPython/core/ultratb.py\", line 319, in wrapped\n",
      "    return f(*args, **kwargs)\n",
      "  File \"/Users/jacobmarks/opt/anaconda3/lib/python3.7/site-packages/IPython/core/ultratb.py\", line 353, in _fixed_getinnerframes\n",
      "    records = fix_frame_records_filenames(inspect.getinnerframes(etb, context))\n",
      "  File \"/Users/jacobmarks/opt/anaconda3/lib/python3.7/inspect.py\", line 1502, in getinnerframes\n",
      "    frameinfo = (tb.tb_frame,) + getframeinfo(tb, context)\n",
      "  File \"/Users/jacobmarks/opt/anaconda3/lib/python3.7/inspect.py\", line 1460, in getframeinfo\n",
      "    filename = getsourcefile(frame) or getfile(frame)\n",
      "  File \"/Users/jacobmarks/opt/anaconda3/lib/python3.7/inspect.py\", line 696, in getsourcefile\n",
      "    if getattr(getmodule(object, filename), '__loader__', None) is not None:\n",
      "  File \"/Users/jacobmarks/opt/anaconda3/lib/python3.7/inspect.py\", line 733, in getmodule\n",
      "    if ismodule(module) and hasattr(module, '__file__'):\n",
      "  File \"/Users/jacobmarks/opt/anaconda3/lib/python3.7/site-packages/tensorflow/__init__.py\", line 50, in __getattr__\n",
      "    module = self._load()\n",
      "  File \"/Users/jacobmarks/opt/anaconda3/lib/python3.7/site-packages/tensorflow/__init__.py\", line 44, in _load\n",
      "    module = _importlib.import_module(self.__name__)\n",
      "  File \"/Users/jacobmarks/opt/anaconda3/lib/python3.7/importlib/__init__.py\", line 127, in import_module\n",
      "    return _bootstrap._gcd_import(name[level:], package, level)\n",
      "  File \"<frozen importlib._bootstrap>\", line 1006, in _gcd_import\n",
      "  File \"<frozen importlib._bootstrap>\", line 983, in _find_and_load\n",
      "  File \"<frozen importlib._bootstrap>\", line 953, in _find_and_load_unlocked\n",
      "  File \"<frozen importlib._bootstrap>\", line 219, in _call_with_frames_removed\n",
      "  File \"<frozen importlib._bootstrap>\", line 1006, in _gcd_import\n",
      "  File \"<frozen importlib._bootstrap>\", line 983, in _find_and_load\n",
      "  File \"<frozen importlib._bootstrap>\", line 967, in _find_and_load_unlocked\n",
      "  File \"<frozen importlib._bootstrap>\", line 677, in _load_unlocked\n",
      "  File \"<frozen importlib._bootstrap_external>\", line 728, in exec_module\n",
      "  File \"<frozen importlib._bootstrap>\", line 219, in _call_with_frames_removed\n",
      "  File \"/Users/jacobmarks/opt/anaconda3/lib/python3.7/site-packages/tensorflow_core/__init__.py\", line 42, in <module>\n",
      "    from . _api.v2 import audio\n",
      "  File \"/Users/jacobmarks/opt/anaconda3/lib/python3.7/site-packages/tensorflow_core/_api/v2/audio/__init__.py\", line 10, in <module>\n",
      "    from tensorflow.python.ops.gen_audio_ops import decode_wav\n",
      "  File \"/Users/jacobmarks/opt/anaconda3/lib/python3.7/site-packages/tensorflow_core/python/ops/gen_audio_ops.py\", line 10, in <module>\n",
      "    from tensorflow.python import pywrap_tensorflow as _pywrap_tensorflow\n",
      "  File \"/Users/jacobmarks/opt/anaconda3/lib/python3.7/site-packages/tensorflow/__init__.py\", line 50, in __getattr__\n",
      "    module = self._load()\n",
      "  File \"/Users/jacobmarks/opt/anaconda3/lib/python3.7/site-packages/tensorflow/__init__.py\", line 44, in _load\n",
      "    module = _importlib.import_module(self.__name__)\n",
      "  File \"/Users/jacobmarks/opt/anaconda3/lib/python3.7/importlib/__init__.py\", line 127, in import_module\n",
      "    return _bootstrap._gcd_import(name[level:], package, level)\n",
      "  File \"/Users/jacobmarks/opt/anaconda3/lib/python3.7/site-packages/tensorflow_core/python/__init__.py\", line 49, in <module>\n",
      "    from tensorflow.python import pywrap_tensorflow\n",
      "  File \"/Users/jacobmarks/opt/anaconda3/lib/python3.7/site-packages/tensorflow_core/python/pywrap_tensorflow.py\", line 74, in <module>\n",
      "    raise ImportError(msg)\n",
      "ImportError: Traceback (most recent call last):\n",
      "  File \"/Users/jacobmarks/opt/anaconda3/lib/python3.7/site-packages/transformers/utils/import_utils.py\", line 1002, in _get_module\n",
      "    return importlib.import_module(\".\" + module_name, self.__name__)\n",
      "  File \"/Users/jacobmarks/opt/anaconda3/lib/python3.7/importlib/__init__.py\", line 127, in import_module\n",
      "    return _bootstrap._gcd_import(name[level:], package, level)\n",
      "  File \"<frozen importlib._bootstrap>\", line 1006, in _gcd_import\n",
      "  File \"<frozen importlib._bootstrap>\", line 983, in _find_and_load\n",
      "  File \"<frozen importlib._bootstrap>\", line 967, in _find_and_load_unlocked\n",
      "  File \"<frozen importlib._bootstrap>\", line 677, in _load_unlocked\n",
      "  File \"<frozen importlib._bootstrap_external>\", line 728, in exec_module\n",
      "  File \"<frozen importlib._bootstrap>\", line 219, in _call_with_frames_removed\n",
      "  File \"/Users/jacobmarks/opt/anaconda3/lib/python3.7/site-packages/transformers/pipelines/__init__.py\", line 53, in <module>\n",
      "    from .fill_mask import FillMaskPipeline\n",
      "  File \"/Users/jacobmarks/opt/anaconda3/lib/python3.7/site-packages/transformers/pipelines/fill_mask.py\", line 12, in <module>\n",
      "    from ..tf_utils import stable_softmax\n",
      "  File \"/Users/jacobmarks/opt/anaconda3/lib/python3.7/site-packages/transformers/tf_utils.py\", line 26, in <module>\n",
      "    def shape_list(tensor: Union[tf.Tensor, np.ndarray]) -> List[int]:\n",
      "AttributeError: module 'tensorflow' has no attribute 'Tensor'\n",
      "\n",
      "The above exception was the direct cause of the following exception:\n",
      "\n",
      "Traceback (most recent call last):\n",
      "  File \"/Users/jacobmarks/opt/anaconda3/lib/python3.7/site-packages/IPython/core/interactiveshell.py\", line 3326, in run_code\n",
      "    exec(code_obj, self.user_global_ns, self.user_ns)\n",
      "  File \"<ipython-input-118-69a9fd07ccac>\", line 1, in <module>\n",
      "    from transformers import pipeline\n",
      "  File \"<frozen importlib._bootstrap>\", line 1032, in _handle_fromlist\n",
      "  File \"/Users/jacobmarks/opt/anaconda3/lib/python3.7/site-packages/transformers/utils/import_utils.py\", line 992, in __getattr__\n",
      "    module = self._get_module(self._class_to_module[name])\n",
      "  File \"/Users/jacobmarks/opt/anaconda3/lib/python3.7/site-packages/transformers/utils/import_utils.py\", line 1007, in _get_module\n",
      "    ) from e\n",
      "RuntimeError: Failed to import transformers.pipelines because of the following error (look up to see its traceback):\n",
      "module 'tensorflow' has no attribute 'Tensor'\n",
      "\n",
      "During handling of the above exception, another exception occurred:\n",
      "\n",
      "Traceback (most recent call last):\n",
      "  File \"/Users/jacobmarks/opt/anaconda3/lib/python3.7/site-packages/IPython/core/interactiveshell.py\", line 2040, in showtraceback\n",
      "    stb = value._render_traceback_()\n",
      "AttributeError: 'RuntimeError' object has no attribute '_render_traceback_'\n",
      "\n",
      "During handling of the above exception, another exception occurred:\n",
      "\n",
      "Traceback (most recent call last):\n",
      "  File \"/Users/jacobmarks/opt/anaconda3/lib/python3.7/site-packages/tensorflow_core/python/pywrap_tensorflow_internal.py\", line 18, in swig_import_helper\n",
      "    fp, pathname, description = imp.find_module('_pywrap_tensorflow_internal', [dirname(__file__)])\n",
      "  File \"/Users/jacobmarks/opt/anaconda3/lib/python3.7/imp.py\", line 296, in find_module\n",
      "    raise ImportError(_ERR_MSG.format(name), name=name)\n",
      "ImportError: No module named '_pywrap_tensorflow_internal'\n",
      "\n",
      "During handling of the above exception, another exception occurred:\n",
      "\n",
      "Traceback (most recent call last):\n",
      "  File \"/Users/jacobmarks/opt/anaconda3/lib/python3.7/site-packages/tensorflow_core/python/pywrap_tensorflow.py\", line 58, in <module>\n",
      "    from tensorflow.python.pywrap_tensorflow_internal import *\n",
      "  File \"/Users/jacobmarks/opt/anaconda3/lib/python3.7/site-packages/tensorflow_core/python/pywrap_tensorflow_internal.py\", line 28, in <module>\n",
      "    _pywrap_tensorflow_internal = swig_import_helper()\n",
      "  File \"/Users/jacobmarks/opt/anaconda3/lib/python3.7/site-packages/tensorflow_core/python/pywrap_tensorflow_internal.py\", line 20, in swig_import_helper\n",
      "    import _pywrap_tensorflow_internal\n",
      "ModuleNotFoundError: No module named '_pywrap_tensorflow_internal'\n",
      "\n",
      "\n",
      "Failed to load the native TensorFlow runtime.\n",
      "\n",
      "See https://www.tensorflow.org/install/errors\n",
      "\n",
      "for some common reasons and solutions.  Include the entire stack trace\n",
      "above this error message when asking for help.\n",
      "Traceback (most recent call last):\n",
      "  File \"/Users/jacobmarks/opt/anaconda3/lib/python3.7/site-packages/transformers/utils/import_utils.py\", line 1002, in _get_module\n",
      "    return importlib.import_module(\".\" + module_name, self.__name__)\n",
      "  File \"/Users/jacobmarks/opt/anaconda3/lib/python3.7/importlib/__init__.py\", line 127, in import_module\n",
      "    return _bootstrap._gcd_import(name[level:], package, level)\n",
      "  File \"<frozen importlib._bootstrap>\", line 1006, in _gcd_import\n",
      "  File \"<frozen importlib._bootstrap>\", line 983, in _find_and_load\n",
      "  File \"<frozen importlib._bootstrap>\", line 967, in _find_and_load_unlocked\n",
      "  File \"<frozen importlib._bootstrap>\", line 677, in _load_unlocked\n",
      "  File \"<frozen importlib._bootstrap_external>\", line 728, in exec_module\n",
      "  File \"<frozen importlib._bootstrap>\", line 219, in _call_with_frames_removed\n",
      "  File \"/Users/jacobmarks/opt/anaconda3/lib/python3.7/site-packages/transformers/pipelines/__init__.py\", line 53, in <module>\n",
      "    from .fill_mask import FillMaskPipeline\n",
      "  File \"/Users/jacobmarks/opt/anaconda3/lib/python3.7/site-packages/transformers/pipelines/fill_mask.py\", line 12, in <module>\n",
      "    from ..tf_utils import stable_softmax\n",
      "  File \"/Users/jacobmarks/opt/anaconda3/lib/python3.7/site-packages/transformers/tf_utils.py\", line 26, in <module>\n",
      "    def shape_list(tensor: Union[tf.Tensor, np.ndarray]) -> List[int]:\n",
      "AttributeError: module 'tensorflow' has no attribute 'Tensor'\n",
      "\n",
      "The above exception was the direct cause of the following exception:\n",
      "\n",
      "Traceback (most recent call last):\n",
      "  File \"/Users/jacobmarks/opt/anaconda3/lib/python3.7/site-packages/IPython/core/interactiveshell.py\", line 3326, in run_code\n",
      "    exec(code_obj, self.user_global_ns, self.user_ns)\n",
      "  File \"<ipython-input-118-69a9fd07ccac>\", line 1, in <module>\n",
      "    from transformers import pipeline\n",
      "  File \"<frozen importlib._bootstrap>\", line 1032, in _handle_fromlist\n",
      "  File \"/Users/jacobmarks/opt/anaconda3/lib/python3.7/site-packages/transformers/utils/import_utils.py\", line 992, in __getattr__\n",
      "    module = self._get_module(self._class_to_module[name])\n",
      "  File \"/Users/jacobmarks/opt/anaconda3/lib/python3.7/site-packages/transformers/utils/import_utils.py\", line 1007, in _get_module\n",
      "    ) from e\n",
      "RuntimeError: Failed to import transformers.pipelines because of the following error (look up to see its traceback):\n",
      "module 'tensorflow' has no attribute 'Tensor'\n",
      "\n",
      "During handling of the above exception, another exception occurred:\n",
      "\n",
      "Traceback (most recent call last):\n",
      "  File \"/Users/jacobmarks/opt/anaconda3/lib/python3.7/site-packages/IPython/core/interactiveshell.py\", line 2040, in showtraceback\n",
      "    stb = value._render_traceback_()\n",
      "AttributeError: 'RuntimeError' object has no attribute '_render_traceback_'\n",
      "\n",
      "During handling of the above exception, another exception occurred:\n",
      "\n",
      "Traceback (most recent call last):\n",
      "  File \"/Users/jacobmarks/opt/anaconda3/lib/python3.7/site-packages/IPython/core/interactiveshell.py\", line 3249, in run_ast_nodes\n",
      "    if (await self.run_code(code, result,  async_=asy)):\n",
      "  File \"/Users/jacobmarks/opt/anaconda3/lib/python3.7/site-packages/IPython/core/interactiveshell.py\", line 3343, in run_code\n",
      "    self.showtraceback(running_compiled_code=True)\n",
      "  File \"/Users/jacobmarks/opt/anaconda3/lib/python3.7/site-packages/IPython/core/interactiveshell.py\", line 2043, in showtraceback\n",
      "    value, tb, tb_offset=tb_offset)\n",
      "  File \"/Users/jacobmarks/opt/anaconda3/lib/python3.7/site-packages/IPython/core/ultratb.py\", line 1385, in structured_traceback\n",
      "    self, etype, value, tb, tb_offset, number_of_lines_of_context)\n",
      "  File \"/Users/jacobmarks/opt/anaconda3/lib/python3.7/site-packages/IPython/core/ultratb.py\", line 1288, in structured_traceback\n",
      "    self, etype, value, tb, tb_offset, number_of_lines_of_context\n",
      "  File \"/Users/jacobmarks/opt/anaconda3/lib/python3.7/site-packages/IPython/core/ultratb.py\", line 1150, in structured_traceback\n",
      "    formatted_exceptions += self.prepare_chained_exception_message(evalue.__cause__)\n",
      "TypeError: can only concatenate str (not \"list\") to str\n",
      "\n",
      "During handling of the above exception, another exception occurred:\n",
      "\n",
      "Traceback (most recent call last):\n",
      "  File \"/Users/jacobmarks/opt/anaconda3/lib/python3.7/site-packages/IPython/core/interactiveshell.py\", line 2040, in showtraceback\n",
      "    stb = value._render_traceback_()\n",
      "AttributeError: 'TypeError' object has no attribute '_render_traceback_'\n",
      "\n",
      "During handling of the above exception, another exception occurred:\n",
      "\n",
      "Traceback (most recent call last):\n",
      "  File \"/Users/jacobmarks/opt/anaconda3/lib/python3.7/site-packages/tensorflow_core/python/pywrap_tensorflow_internal.py\", line 18, in swig_import_helper\n",
      "    fp, pathname, description = imp.find_module('_pywrap_tensorflow_internal', [dirname(__file__)])\n",
      "  File \"/Users/jacobmarks/opt/anaconda3/lib/python3.7/imp.py\", line 296, in find_module\n",
      "    raise ImportError(_ERR_MSG.format(name), name=name)\n",
      "ImportError: No module named '_pywrap_tensorflow_internal'\n",
      "\n",
      "During handling of the above exception, another exception occurred:\n",
      "\n",
      "Traceback (most recent call last):\n",
      "  File \"/Users/jacobmarks/opt/anaconda3/lib/python3.7/site-packages/tensorflow_core/python/pywrap_tensorflow.py\", line 58, in <module>\n",
      "    from tensorflow.python.pywrap_tensorflow_internal import *\n",
      "  File \"/Users/jacobmarks/opt/anaconda3/lib/python3.7/site-packages/tensorflow_core/python/pywrap_tensorflow_internal.py\", line 28, in <module>\n",
      "    _pywrap_tensorflow_internal = swig_import_helper()\n",
      "  File \"/Users/jacobmarks/opt/anaconda3/lib/python3.7/site-packages/tensorflow_core/python/pywrap_tensorflow_internal.py\", line 20, in swig_import_helper\n",
      "    import _pywrap_tensorflow_internal\n",
      "ModuleNotFoundError: No module named '_pywrap_tensorflow_internal'\n",
      "\n",
      "During handling of the above exception, another exception occurred:\n",
      "\n",
      "Traceback (most recent call last):\n",
      "  File \"/Users/jacobmarks/opt/anaconda3/lib/python3.7/site-packages/IPython/core/ultratb.py\", line 1101, in get_records\n",
      "    return _fixed_getinnerframes(etb, number_of_lines_of_context, tb_offset)\n",
      "  File \"/Users/jacobmarks/opt/anaconda3/lib/python3.7/site-packages/IPython/core/ultratb.py\", line 319, in wrapped\n",
      "    return f(*args, **kwargs)\n",
      "  File \"/Users/jacobmarks/opt/anaconda3/lib/python3.7/site-packages/IPython/core/ultratb.py\", line 353, in _fixed_getinnerframes\n",
      "    records = fix_frame_records_filenames(inspect.getinnerframes(etb, context))\n",
      "  File \"/Users/jacobmarks/opt/anaconda3/lib/python3.7/inspect.py\", line 1502, in getinnerframes\n",
      "    frameinfo = (tb.tb_frame,) + getframeinfo(tb, context)\n",
      "  File \"/Users/jacobmarks/opt/anaconda3/lib/python3.7/inspect.py\", line 1460, in getframeinfo\n",
      "    filename = getsourcefile(frame) or getfile(frame)\n",
      "  File \"/Users/jacobmarks/opt/anaconda3/lib/python3.7/inspect.py\", line 696, in getsourcefile\n",
      "    if getattr(getmodule(object, filename), '__loader__', None) is not None:\n",
      "  File \"/Users/jacobmarks/opt/anaconda3/lib/python3.7/inspect.py\", line 733, in getmodule\n",
      "    if ismodule(module) and hasattr(module, '__file__'):\n",
      "  File \"/Users/jacobmarks/opt/anaconda3/lib/python3.7/site-packages/tensorflow/__init__.py\", line 50, in __getattr__\n",
      "    module = self._load()\n",
      "  File \"/Users/jacobmarks/opt/anaconda3/lib/python3.7/site-packages/tensorflow/__init__.py\", line 44, in _load\n",
      "    module = _importlib.import_module(self.__name__)\n",
      "  File \"/Users/jacobmarks/opt/anaconda3/lib/python3.7/importlib/__init__.py\", line 127, in import_module\n",
      "    return _bootstrap._gcd_import(name[level:], package, level)\n",
      "  File \"<frozen importlib._bootstrap>\", line 1006, in _gcd_import\n",
      "  File \"<frozen importlib._bootstrap>\", line 983, in _find_and_load\n",
      "  File \"<frozen importlib._bootstrap>\", line 953, in _find_and_load_unlocked\n",
      "  File \"<frozen importlib._bootstrap>\", line 219, in _call_with_frames_removed\n",
      "  File \"<frozen importlib._bootstrap>\", line 1006, in _gcd_import\n",
      "  File \"<frozen importlib._bootstrap>\", line 983, in _find_and_load\n",
      "  File \"<frozen importlib._bootstrap>\", line 967, in _find_and_load_unlocked\n",
      "  File \"<frozen importlib._bootstrap>\", line 677, in _load_unlocked\n",
      "  File \"<frozen importlib._bootstrap_external>\", line 728, in exec_module\n",
      "  File \"<frozen importlib._bootstrap>\", line 219, in _call_with_frames_removed\n",
      "  File \"/Users/jacobmarks/opt/anaconda3/lib/python3.7/site-packages/tensorflow_core/__init__.py\", line 42, in <module>\n",
      "    from . _api.v2 import audio\n",
      "  File \"/Users/jacobmarks/opt/anaconda3/lib/python3.7/site-packages/tensorflow_core/_api/v2/audio/__init__.py\", line 10, in <module>\n",
      "    from tensorflow.python.ops.gen_audio_ops import decode_wav\n",
      "  File \"/Users/jacobmarks/opt/anaconda3/lib/python3.7/site-packages/tensorflow_core/python/ops/gen_audio_ops.py\", line 10, in <module>\n",
      "    from tensorflow.python import pywrap_tensorflow as _pywrap_tensorflow\n",
      "  File \"/Users/jacobmarks/opt/anaconda3/lib/python3.7/site-packages/tensorflow/__init__.py\", line 50, in __getattr__\n",
      "    module = self._load()\n",
      "  File \"/Users/jacobmarks/opt/anaconda3/lib/python3.7/site-packages/tensorflow/__init__.py\", line 44, in _load\n",
      "    module = _importlib.import_module(self.__name__)\n",
      "  File \"/Users/jacobmarks/opt/anaconda3/lib/python3.7/importlib/__init__.py\", line 127, in import_module\n",
      "    return _bootstrap._gcd_import(name[level:], package, level)\n",
      "  File \"/Users/jacobmarks/opt/anaconda3/lib/python3.7/site-packages/tensorflow_core/python/__init__.py\", line 49, in <module>\n",
      "    from tensorflow.python import pywrap_tensorflow\n",
      "  File \"/Users/jacobmarks/opt/anaconda3/lib/python3.7/site-packages/tensorflow_core/python/pywrap_tensorflow.py\", line 74, in <module>\n",
      "    raise ImportError(msg)\n",
      "ImportError: Traceback (most recent call last):\n",
      "  File \"/Users/jacobmarks/opt/anaconda3/lib/python3.7/site-packages/transformers/utils/import_utils.py\", line 1002, in _get_module\n",
      "    return importlib.import_module(\".\" + module_name, self.__name__)\n",
      "  File \"/Users/jacobmarks/opt/anaconda3/lib/python3.7/importlib/__init__.py\", line 127, in import_module\n",
      "    return _bootstrap._gcd_import(name[level:], package, level)\n",
      "  File \"<frozen importlib._bootstrap>\", line 1006, in _gcd_import\n",
      "  File \"<frozen importlib._bootstrap>\", line 983, in _find_and_load\n",
      "  File \"<frozen importlib._bootstrap>\", line 967, in _find_and_load_unlocked\n",
      "  File \"<frozen importlib._bootstrap>\", line 677, in _load_unlocked\n",
      "  File \"<frozen importlib._bootstrap_external>\", line 728, in exec_module\n",
      "  File \"<frozen importlib._bootstrap>\", line 219, in _call_with_frames_removed\n",
      "  File \"/Users/jacobmarks/opt/anaconda3/lib/python3.7/site-packages/transformers/pipelines/__init__.py\", line 53, in <module>\n",
      "    from .fill_mask import FillMaskPipeline\n",
      "  File \"/Users/jacobmarks/opt/anaconda3/lib/python3.7/site-packages/transformers/pipelines/fill_mask.py\", line 12, in <module>\n",
      "    from ..tf_utils import stable_softmax\n",
      "  File \"/Users/jacobmarks/opt/anaconda3/lib/python3.7/site-packages/transformers/tf_utils.py\", line 26, in <module>\n",
      "    def shape_list(tensor: Union[tf.Tensor, np.ndarray]) -> List[int]:\n",
      "AttributeError: module 'tensorflow' has no attribute 'Tensor'\n",
      "\n",
      "The above exception was the direct cause of the following exception:\n",
      "\n",
      "Traceback (most recent call last):\n",
      "  File \"/Users/jacobmarks/opt/anaconda3/lib/python3.7/site-packages/IPython/core/interactiveshell.py\", line 3326, in run_code\n",
      "    exec(code_obj, self.user_global_ns, self.user_ns)\n",
      "  File \"<ipython-input-118-69a9fd07ccac>\", line 1, in <module>\n",
      "    from transformers import pipeline\n",
      "  File \"<frozen importlib._bootstrap>\", line 1032, in _handle_fromlist\n",
      "  File \"/Users/jacobmarks/opt/anaconda3/lib/python3.7/site-packages/transformers/utils/import_utils.py\", line 992, in __getattr__\n",
      "    module = self._get_module(self._class_to_module[name])\n",
      "  File \"/Users/jacobmarks/opt/anaconda3/lib/python3.7/site-packages/transformers/utils/import_utils.py\", line 1007, in _get_module\n",
      "    ) from e\n",
      "RuntimeError: Failed to import transformers.pipelines because of the following error (look up to see its traceback):\n",
      "module 'tensorflow' has no attribute 'Tensor'\n",
      "\n",
      "During handling of the above exception, another exception occurred:\n",
      "\n",
      "Traceback (most recent call last):\n",
      "  File \"/Users/jacobmarks/opt/anaconda3/lib/python3.7/site-packages/IPython/core/interactiveshell.py\", line 2040, in showtraceback\n",
      "    stb = value._render_traceback_()\n",
      "AttributeError: 'RuntimeError' object has no attribute '_render_traceback_'\n",
      "\n",
      "During handling of the above exception, another exception occurred:\n",
      "\n",
      "Traceback (most recent call last):\n",
      "  File \"/Users/jacobmarks/opt/anaconda3/lib/python3.7/site-packages/IPython/core/interactiveshell.py\", line 3249, in run_ast_nodes\n",
      "    if (await self.run_code(code, result,  async_=asy)):\n",
      "  File \"/Users/jacobmarks/opt/anaconda3/lib/python3.7/site-packages/IPython/core/interactiveshell.py\", line 3343, in run_code\n",
      "    self.showtraceback(running_compiled_code=True)\n",
      "  File \"/Users/jacobmarks/opt/anaconda3/lib/python3.7/site-packages/IPython/core/interactiveshell.py\", line 2043, in showtraceback\n",
      "    value, tb, tb_offset=tb_offset)\n",
      "  File \"/Users/jacobmarks/opt/anaconda3/lib/python3.7/site-packages/IPython/core/ultratb.py\", line 1385, in structured_traceback\n",
      "    self, etype, value, tb, tb_offset, number_of_lines_of_context)\n",
      "  File \"/Users/jacobmarks/opt/anaconda3/lib/python3.7/site-packages/IPython/core/ultratb.py\", line 1288, in structured_traceback\n",
      "    self, etype, value, tb, tb_offset, number_of_lines_of_context\n",
      "  File \"/Users/jacobmarks/opt/anaconda3/lib/python3.7/site-packages/IPython/core/ultratb.py\", line 1150, in structured_traceback\n",
      "    formatted_exceptions += self.prepare_chained_exception_message(evalue.__cause__)\n",
      "TypeError: can only concatenate str (not \"list\") to str\n",
      "\n",
      "During handling of the above exception, another exception occurred:\n",
      "\n",
      "Traceback (most recent call last):\n",
      "  File \"/Users/jacobmarks/opt/anaconda3/lib/python3.7/site-packages/IPython/core/interactiveshell.py\", line 2040, in showtraceback\n",
      "    stb = value._render_traceback_()\n",
      "AttributeError: 'TypeError' object has no attribute '_render_traceback_'\n",
      "\n",
      "During handling of the above exception, another exception occurred:\n",
      "\n",
      "Traceback (most recent call last):\n",
      "  File \"/Users/jacobmarks/opt/anaconda3/lib/python3.7/site-packages/tensorflow_core/python/pywrap_tensorflow_internal.py\", line 18, in swig_import_helper\n",
      "    fp, pathname, description = imp.find_module('_pywrap_tensorflow_internal', [dirname(__file__)])\n",
      "  File \"/Users/jacobmarks/opt/anaconda3/lib/python3.7/imp.py\", line 296, in find_module\n",
      "    raise ImportError(_ERR_MSG.format(name), name=name)\n",
      "ImportError: No module named '_pywrap_tensorflow_internal'\n",
      "\n",
      "During handling of the above exception, another exception occurred:\n",
      "\n",
      "Traceback (most recent call last):\n",
      "  File \"/Users/jacobmarks/opt/anaconda3/lib/python3.7/site-packages/tensorflow_core/python/pywrap_tensorflow.py\", line 58, in <module>\n",
      "    from tensorflow.python.pywrap_tensorflow_internal import *\n",
      "  File \"/Users/jacobmarks/opt/anaconda3/lib/python3.7/site-packages/tensorflow_core/python/pywrap_tensorflow_internal.py\", line 28, in <module>\n",
      "    _pywrap_tensorflow_internal = swig_import_helper()\n",
      "  File \"/Users/jacobmarks/opt/anaconda3/lib/python3.7/site-packages/tensorflow_core/python/pywrap_tensorflow_internal.py\", line 20, in swig_import_helper\n",
      "    import _pywrap_tensorflow_internal\n",
      "ModuleNotFoundError: No module named '_pywrap_tensorflow_internal'\n",
      "\n",
      "\n",
      "Failed to load the native TensorFlow runtime.\n",
      "\n",
      "See https://www.tensorflow.org/install/errors\n",
      "\n",
      "for some common reasons and solutions.  Include the entire stack trace\n",
      "above this error message when asking for help.\n",
      "Traceback (most recent call last):\n",
      "  File \"/Users/jacobmarks/opt/anaconda3/lib/python3.7/site-packages/transformers/utils/import_utils.py\", line 1002, in _get_module\n",
      "    return importlib.import_module(\".\" + module_name, self.__name__)\n",
      "  File \"/Users/jacobmarks/opt/anaconda3/lib/python3.7/importlib/__init__.py\", line 127, in import_module\n",
      "    return _bootstrap._gcd_import(name[level:], package, level)\n",
      "  File \"<frozen importlib._bootstrap>\", line 1006, in _gcd_import\n",
      "  File \"<frozen importlib._bootstrap>\", line 983, in _find_and_load\n",
      "  File \"<frozen importlib._bootstrap>\", line 967, in _find_and_load_unlocked\n",
      "  File \"<frozen importlib._bootstrap>\", line 677, in _load_unlocked\n",
      "  File \"<frozen importlib._bootstrap_external>\", line 728, in exec_module\n",
      "  File \"<frozen importlib._bootstrap>\", line 219, in _call_with_frames_removed\n",
      "  File \"/Users/jacobmarks/opt/anaconda3/lib/python3.7/site-packages/transformers/pipelines/__init__.py\", line 53, in <module>\n",
      "    from .fill_mask import FillMaskPipeline\n",
      "  File \"/Users/jacobmarks/opt/anaconda3/lib/python3.7/site-packages/transformers/pipelines/fill_mask.py\", line 12, in <module>\n",
      "    from ..tf_utils import stable_softmax\n",
      "  File \"/Users/jacobmarks/opt/anaconda3/lib/python3.7/site-packages/transformers/tf_utils.py\", line 26, in <module>\n",
      "    def shape_list(tensor: Union[tf.Tensor, np.ndarray]) -> List[int]:\n",
      "AttributeError: module 'tensorflow' has no attribute 'Tensor'\n",
      "\n",
      "The above exception was the direct cause of the following exception:\n",
      "\n",
      "Traceback (most recent call last):\n",
      "  File \"/Users/jacobmarks/opt/anaconda3/lib/python3.7/site-packages/IPython/core/interactiveshell.py\", line 3326, in run_code\n",
      "    exec(code_obj, self.user_global_ns, self.user_ns)\n",
      "  File \"<ipython-input-118-69a9fd07ccac>\", line 1, in <module>\n",
      "    from transformers import pipeline\n",
      "  File \"<frozen importlib._bootstrap>\", line 1032, in _handle_fromlist\n",
      "  File \"/Users/jacobmarks/opt/anaconda3/lib/python3.7/site-packages/transformers/utils/import_utils.py\", line 992, in __getattr__\n",
      "    module = self._get_module(self._class_to_module[name])\n",
      "  File \"/Users/jacobmarks/opt/anaconda3/lib/python3.7/site-packages/transformers/utils/import_utils.py\", line 1007, in _get_module\n",
      "    ) from e\n",
      "RuntimeError: Failed to import transformers.pipelines because of the following error (look up to see its traceback):\n",
      "module 'tensorflow' has no attribute 'Tensor'\n",
      "\n",
      "During handling of the above exception, another exception occurred:\n",
      "\n",
      "Traceback (most recent call last):\n",
      "  File \"/Users/jacobmarks/opt/anaconda3/lib/python3.7/site-packages/IPython/core/interactiveshell.py\", line 2040, in showtraceback\n",
      "    stb = value._render_traceback_()\n",
      "AttributeError: 'RuntimeError' object has no attribute '_render_traceback_'\n",
      "\n",
      "During handling of the above exception, another exception occurred:\n",
      "\n",
      "Traceback (most recent call last):\n",
      "  File \"/Users/jacobmarks/opt/anaconda3/lib/python3.7/site-packages/IPython/core/interactiveshell.py\", line 3249, in run_ast_nodes\n",
      "    if (await self.run_code(code, result,  async_=asy)):\n",
      "  File \"/Users/jacobmarks/opt/anaconda3/lib/python3.7/site-packages/IPython/core/interactiveshell.py\", line 3343, in run_code\n",
      "    self.showtraceback(running_compiled_code=True)\n",
      "  File \"/Users/jacobmarks/opt/anaconda3/lib/python3.7/site-packages/IPython/core/interactiveshell.py\", line 2043, in showtraceback\n",
      "    value, tb, tb_offset=tb_offset)\n",
      "  File \"/Users/jacobmarks/opt/anaconda3/lib/python3.7/site-packages/IPython/core/ultratb.py\", line 1385, in structured_traceback\n",
      "    self, etype, value, tb, tb_offset, number_of_lines_of_context)\n",
      "  File \"/Users/jacobmarks/opt/anaconda3/lib/python3.7/site-packages/IPython/core/ultratb.py\", line 1288, in structured_traceback\n",
      "    self, etype, value, tb, tb_offset, number_of_lines_of_context\n",
      "  File \"/Users/jacobmarks/opt/anaconda3/lib/python3.7/site-packages/IPython/core/ultratb.py\", line 1150, in structured_traceback\n",
      "    formatted_exceptions += self.prepare_chained_exception_message(evalue.__cause__)\n",
      "TypeError: can only concatenate str (not \"list\") to str\n",
      "\n",
      "During handling of the above exception, another exception occurred:\n",
      "\n",
      "Traceback (most recent call last):\n",
      "  File \"/Users/jacobmarks/opt/anaconda3/lib/python3.7/site-packages/IPython/core/interactiveshell.py\", line 2040, in showtraceback\n",
      "    stb = value._render_traceback_()\n",
      "AttributeError: 'TypeError' object has no attribute '_render_traceback_'\n",
      "\n",
      "During handling of the above exception, another exception occurred:\n",
      "\n",
      "Traceback (most recent call last):\n",
      "  File \"/Users/jacobmarks/opt/anaconda3/lib/python3.7/site-packages/tensorflow_core/python/pywrap_tensorflow_internal.py\", line 18, in swig_import_helper\n",
      "    fp, pathname, description = imp.find_module('_pywrap_tensorflow_internal', [dirname(__file__)])\n",
      "  File \"/Users/jacobmarks/opt/anaconda3/lib/python3.7/imp.py\", line 296, in find_module\n",
      "    raise ImportError(_ERR_MSG.format(name), name=name)\n",
      "ImportError: No module named '_pywrap_tensorflow_internal'\n",
      "\n",
      "During handling of the above exception, another exception occurred:\n",
      "\n",
      "Traceback (most recent call last):\n",
      "  File \"/Users/jacobmarks/opt/anaconda3/lib/python3.7/site-packages/tensorflow_core/python/pywrap_tensorflow.py\", line 58, in <module>\n",
      "    from tensorflow.python.pywrap_tensorflow_internal import *\n",
      "  File \"/Users/jacobmarks/opt/anaconda3/lib/python3.7/site-packages/tensorflow_core/python/pywrap_tensorflow_internal.py\", line 28, in <module>\n",
      "    _pywrap_tensorflow_internal = swig_import_helper()\n",
      "  File \"/Users/jacobmarks/opt/anaconda3/lib/python3.7/site-packages/tensorflow_core/python/pywrap_tensorflow_internal.py\", line 20, in swig_import_helper\n",
      "    import _pywrap_tensorflow_internal\n",
      "ModuleNotFoundError: No module named '_pywrap_tensorflow_internal'\n",
      "\n",
      "During handling of the above exception, another exception occurred:\n",
      "\n",
      "Traceback (most recent call last):\n",
      "  File \"/Users/jacobmarks/opt/anaconda3/lib/python3.7/site-packages/IPython/core/ultratb.py\", line 1101, in get_records\n",
      "    return _fixed_getinnerframes(etb, number_of_lines_of_context, tb_offset)\n",
      "  File \"/Users/jacobmarks/opt/anaconda3/lib/python3.7/site-packages/IPython/core/ultratb.py\", line 319, in wrapped\n",
      "    return f(*args, **kwargs)\n",
      "  File \"/Users/jacobmarks/opt/anaconda3/lib/python3.7/site-packages/IPython/core/ultratb.py\", line 353, in _fixed_getinnerframes\n",
      "    records = fix_frame_records_filenames(inspect.getinnerframes(etb, context))\n",
      "  File \"/Users/jacobmarks/opt/anaconda3/lib/python3.7/inspect.py\", line 1502, in getinnerframes\n",
      "    frameinfo = (tb.tb_frame,) + getframeinfo(tb, context)\n",
      "  File \"/Users/jacobmarks/opt/anaconda3/lib/python3.7/inspect.py\", line 1460, in getframeinfo\n",
      "    filename = getsourcefile(frame) or getfile(frame)\n",
      "  File \"/Users/jacobmarks/opt/anaconda3/lib/python3.7/inspect.py\", line 696, in getsourcefile\n",
      "    if getattr(getmodule(object, filename), '__loader__', None) is not None:\n",
      "  File \"/Users/jacobmarks/opt/anaconda3/lib/python3.7/inspect.py\", line 733, in getmodule\n",
      "    if ismodule(module) and hasattr(module, '__file__'):\n",
      "  File \"/Users/jacobmarks/opt/anaconda3/lib/python3.7/site-packages/tensorflow/__init__.py\", line 50, in __getattr__\n",
      "    module = self._load()\n",
      "  File \"/Users/jacobmarks/opt/anaconda3/lib/python3.7/site-packages/tensorflow/__init__.py\", line 44, in _load\n",
      "    module = _importlib.import_module(self.__name__)\n",
      "  File \"/Users/jacobmarks/opt/anaconda3/lib/python3.7/importlib/__init__.py\", line 127, in import_module\n",
      "    return _bootstrap._gcd_import(name[level:], package, level)\n",
      "  File \"<frozen importlib._bootstrap>\", line 1006, in _gcd_import\n",
      "  File \"<frozen importlib._bootstrap>\", line 983, in _find_and_load\n",
      "  File \"<frozen importlib._bootstrap>\", line 953, in _find_and_load_unlocked\n",
      "  File \"<frozen importlib._bootstrap>\", line 219, in _call_with_frames_removed\n",
      "  File \"<frozen importlib._bootstrap>\", line 1006, in _gcd_import\n",
      "  File \"<frozen importlib._bootstrap>\", line 983, in _find_and_load\n",
      "  File \"<frozen importlib._bootstrap>\", line 967, in _find_and_load_unlocked\n",
      "  File \"<frozen importlib._bootstrap>\", line 677, in _load_unlocked\n",
      "  File \"<frozen importlib._bootstrap_external>\", line 728, in exec_module\n",
      "  File \"<frozen importlib._bootstrap>\", line 219, in _call_with_frames_removed\n",
      "  File \"/Users/jacobmarks/opt/anaconda3/lib/python3.7/site-packages/tensorflow_core/__init__.py\", line 42, in <module>\n",
      "    from . _api.v2 import audio\n",
      "  File \"/Users/jacobmarks/opt/anaconda3/lib/python3.7/site-packages/tensorflow_core/_api/v2/audio/__init__.py\", line 10, in <module>\n",
      "    from tensorflow.python.ops.gen_audio_ops import decode_wav\n",
      "  File \"/Users/jacobmarks/opt/anaconda3/lib/python3.7/site-packages/tensorflow_core/python/ops/gen_audio_ops.py\", line 10, in <module>\n",
      "    from tensorflow.python import pywrap_tensorflow as _pywrap_tensorflow\n",
      "  File \"/Users/jacobmarks/opt/anaconda3/lib/python3.7/site-packages/tensorflow/__init__.py\", line 50, in __getattr__\n",
      "    module = self._load()\n",
      "  File \"/Users/jacobmarks/opt/anaconda3/lib/python3.7/site-packages/tensorflow/__init__.py\", line 44, in _load\n",
      "    module = _importlib.import_module(self.__name__)\n",
      "  File \"/Users/jacobmarks/opt/anaconda3/lib/python3.7/importlib/__init__.py\", line 127, in import_module\n",
      "    return _bootstrap._gcd_import(name[level:], package, level)\n",
      "  File \"/Users/jacobmarks/opt/anaconda3/lib/python3.7/site-packages/tensorflow_core/python/__init__.py\", line 49, in <module>\n",
      "    from tensorflow.python import pywrap_tensorflow\n",
      "  File \"/Users/jacobmarks/opt/anaconda3/lib/python3.7/site-packages/tensorflow_core/python/pywrap_tensorflow.py\", line 74, in <module>\n",
      "    raise ImportError(msg)\n",
      "ImportError: Traceback (most recent call last):\n",
      "  File \"/Users/jacobmarks/opt/anaconda3/lib/python3.7/site-packages/transformers/utils/import_utils.py\", line 1002, in _get_module\n",
      "    return importlib.import_module(\".\" + module_name, self.__name__)\n",
      "  File \"/Users/jacobmarks/opt/anaconda3/lib/python3.7/importlib/__init__.py\", line 127, in import_module\n",
      "    return _bootstrap._gcd_import(name[level:], package, level)\n",
      "  File \"<frozen importlib._bootstrap>\", line 1006, in _gcd_import\n",
      "  File \"<frozen importlib._bootstrap>\", line 983, in _find_and_load\n",
      "  File \"<frozen importlib._bootstrap>\", line 967, in _find_and_load_unlocked\n",
      "  File \"<frozen importlib._bootstrap>\", line 677, in _load_unlocked\n",
      "  File \"<frozen importlib._bootstrap_external>\", line 728, in exec_module\n",
      "  File \"<frozen importlib._bootstrap>\", line 219, in _call_with_frames_removed\n",
      "  File \"/Users/jacobmarks/opt/anaconda3/lib/python3.7/site-packages/transformers/pipelines/__init__.py\", line 53, in <module>\n",
      "    from .fill_mask import FillMaskPipeline\n",
      "  File \"/Users/jacobmarks/opt/anaconda3/lib/python3.7/site-packages/transformers/pipelines/fill_mask.py\", line 12, in <module>\n",
      "    from ..tf_utils import stable_softmax\n",
      "  File \"/Users/jacobmarks/opt/anaconda3/lib/python3.7/site-packages/transformers/tf_utils.py\", line 26, in <module>\n",
      "    def shape_list(tensor: Union[tf.Tensor, np.ndarray]) -> List[int]:\n",
      "AttributeError: module 'tensorflow' has no attribute 'Tensor'\n",
      "\n",
      "The above exception was the direct cause of the following exception:\n",
      "\n",
      "Traceback (most recent call last):\n",
      "  File \"/Users/jacobmarks/opt/anaconda3/lib/python3.7/site-packages/IPython/core/interactiveshell.py\", line 3326, in run_code\n",
      "    exec(code_obj, self.user_global_ns, self.user_ns)\n",
      "  File \"<ipython-input-118-69a9fd07ccac>\", line 1, in <module>\n",
      "    from transformers import pipeline\n",
      "  File \"<frozen importlib._bootstrap>\", line 1032, in _handle_fromlist\n",
      "  File \"/Users/jacobmarks/opt/anaconda3/lib/python3.7/site-packages/transformers/utils/import_utils.py\", line 992, in __getattr__\n",
      "    module = self._get_module(self._class_to_module[name])\n",
      "  File \"/Users/jacobmarks/opt/anaconda3/lib/python3.7/site-packages/transformers/utils/import_utils.py\", line 1007, in _get_module\n",
      "    ) from e\n",
      "RuntimeError: Failed to import transformers.pipelines because of the following error (look up to see its traceback):\n",
      "module 'tensorflow' has no attribute 'Tensor'\n",
      "\n",
      "During handling of the above exception, another exception occurred:\n",
      "\n",
      "Traceback (most recent call last):\n",
      "  File \"/Users/jacobmarks/opt/anaconda3/lib/python3.7/site-packages/IPython/core/interactiveshell.py\", line 2040, in showtraceback\n",
      "    stb = value._render_traceback_()\n",
      "AttributeError: 'RuntimeError' object has no attribute '_render_traceback_'\n",
      "\n",
      "During handling of the above exception, another exception occurred:\n",
      "\n",
      "Traceback (most recent call last):\n",
      "  File \"/Users/jacobmarks/opt/anaconda3/lib/python3.7/site-packages/IPython/core/interactiveshell.py\", line 3249, in run_ast_nodes\n",
      "    if (await self.run_code(code, result,  async_=asy)):\n",
      "  File \"/Users/jacobmarks/opt/anaconda3/lib/python3.7/site-packages/IPython/core/interactiveshell.py\", line 3343, in run_code\n",
      "    self.showtraceback(running_compiled_code=True)\n",
      "  File \"/Users/jacobmarks/opt/anaconda3/lib/python3.7/site-packages/IPython/core/interactiveshell.py\", line 2043, in showtraceback\n",
      "    value, tb, tb_offset=tb_offset)\n",
      "  File \"/Users/jacobmarks/opt/anaconda3/lib/python3.7/site-packages/IPython/core/ultratb.py\", line 1385, in structured_traceback\n",
      "    self, etype, value, tb, tb_offset, number_of_lines_of_context)\n",
      "  File \"/Users/jacobmarks/opt/anaconda3/lib/python3.7/site-packages/IPython/core/ultratb.py\", line 1288, in structured_traceback\n",
      "    self, etype, value, tb, tb_offset, number_of_lines_of_context\n",
      "  File \"/Users/jacobmarks/opt/anaconda3/lib/python3.7/site-packages/IPython/core/ultratb.py\", line 1150, in structured_traceback\n",
      "    formatted_exceptions += self.prepare_chained_exception_message(evalue.__cause__)\n",
      "TypeError: can only concatenate str (not \"list\") to str\n",
      "\n",
      "During handling of the above exception, another exception occurred:\n",
      "\n",
      "Traceback (most recent call last):\n",
      "  File \"/Users/jacobmarks/opt/anaconda3/lib/python3.7/site-packages/IPython/core/interactiveshell.py\", line 2040, in showtraceback\n",
      "    stb = value._render_traceback_()\n",
      "AttributeError: 'TypeError' object has no attribute '_render_traceback_'\n",
      "\n",
      "During handling of the above exception, another exception occurred:\n",
      "\n",
      "Traceback (most recent call last):\n",
      "  File \"/Users/jacobmarks/opt/anaconda3/lib/python3.7/site-packages/tensorflow_core/python/pywrap_tensorflow_internal.py\", line 18, in swig_import_helper\n",
      "    fp, pathname, description = imp.find_module('_pywrap_tensorflow_internal', [dirname(__file__)])\n",
      "  File \"/Users/jacobmarks/opt/anaconda3/lib/python3.7/imp.py\", line 296, in find_module\n",
      "    raise ImportError(_ERR_MSG.format(name), name=name)\n",
      "ImportError: No module named '_pywrap_tensorflow_internal'\n",
      "\n",
      "During handling of the above exception, another exception occurred:\n",
      "\n",
      "Traceback (most recent call last):\n",
      "  File \"/Users/jacobmarks/opt/anaconda3/lib/python3.7/site-packages/tensorflow_core/python/pywrap_tensorflow.py\", line 58, in <module>\n",
      "    from tensorflow.python.pywrap_tensorflow_internal import *\n",
      "  File \"/Users/jacobmarks/opt/anaconda3/lib/python3.7/site-packages/tensorflow_core/python/pywrap_tensorflow_internal.py\", line 28, in <module>\n",
      "    _pywrap_tensorflow_internal = swig_import_helper()\n",
      "  File \"/Users/jacobmarks/opt/anaconda3/lib/python3.7/site-packages/tensorflow_core/python/pywrap_tensorflow_internal.py\", line 20, in swig_import_helper\n",
      "    import _pywrap_tensorflow_internal\n",
      "ModuleNotFoundError: No module named '_pywrap_tensorflow_internal'\n",
      "\n",
      "\n",
      "Failed to load the native TensorFlow runtime.\n",
      "\n",
      "See https://www.tensorflow.org/install/errors\n",
      "\n",
      "for some common reasons and solutions.  Include the entire stack trace\n",
      "above this error message when asking for help.\n"
     ]
    },
    {
     "ename": "TypeError",
     "evalue": "can only concatenate str (not \"list\") to str",
     "output_type": "error",
     "traceback": [
      "\u001b[0;31m---------------------------------------------------------------------------\u001b[0m",
      "\nThe above exception was the direct cause of the following exception:\n",
      "\nDuring handling of the above exception, another exception occurred:\n",
      "\u001b[0;31mAttributeError\u001b[0m                            Traceback (most recent call last)",
      "\u001b[0;32m~/opt/anaconda3/lib/python3.7/site-packages/IPython/core/interactiveshell.py\u001b[0m in \u001b[0;36mshowtraceback\u001b[0;34m(self, exc_tuple, filename, tb_offset, exception_only, running_compiled_code)\u001b[0m\n\u001b[1;32m   2039\u001b[0m                         \u001b[0;31m# in the engines. This should return a list of strings.\u001b[0m\u001b[0;34m\u001b[0m\u001b[0;34m\u001b[0m\u001b[0;34m\u001b[0m\u001b[0m\n\u001b[0;32m-> 2040\u001b[0;31m                         \u001b[0mstb\u001b[0m \u001b[0;34m=\u001b[0m \u001b[0mvalue\u001b[0m\u001b[0;34m.\u001b[0m\u001b[0m_render_traceback_\u001b[0m\u001b[0;34m(\u001b[0m\u001b[0;34m)\u001b[0m\u001b[0;34m\u001b[0m\u001b[0;34m\u001b[0m\u001b[0m\n\u001b[0m\u001b[1;32m   2041\u001b[0m                     \u001b[0;32mexcept\u001b[0m \u001b[0mException\u001b[0m\u001b[0;34m:\u001b[0m\u001b[0;34m\u001b[0m\u001b[0;34m\u001b[0m\u001b[0m\n",
      "\u001b[0;31mAttributeError\u001b[0m: 'RuntimeError' object has no attribute '_render_traceback_'",
      "\nDuring handling of the above exception, another exception occurred:\n",
      "\u001b[0;31mTypeError\u001b[0m                                 Traceback (most recent call last)",
      "\u001b[0;32m~/opt/anaconda3/lib/python3.7/site-packages/IPython/core/interactiveshell.py\u001b[0m in \u001b[0;36mrun_code\u001b[0;34m(self, code_obj, result, async_)\u001b[0m\n\u001b[1;32m   3341\u001b[0m             \u001b[0;32mif\u001b[0m \u001b[0mresult\u001b[0m \u001b[0;32mis\u001b[0m \u001b[0;32mnot\u001b[0m \u001b[0;32mNone\u001b[0m\u001b[0;34m:\u001b[0m\u001b[0;34m\u001b[0m\u001b[0;34m\u001b[0m\u001b[0m\n\u001b[1;32m   3342\u001b[0m                 \u001b[0mresult\u001b[0m\u001b[0;34m.\u001b[0m\u001b[0merror_in_exec\u001b[0m \u001b[0;34m=\u001b[0m \u001b[0msys\u001b[0m\u001b[0;34m.\u001b[0m\u001b[0mexc_info\u001b[0m\u001b[0;34m(\u001b[0m\u001b[0;34m)\u001b[0m\u001b[0;34m[\u001b[0m\u001b[0;36m1\u001b[0m\u001b[0;34m]\u001b[0m\u001b[0;34m\u001b[0m\u001b[0;34m\u001b[0m\u001b[0m\n\u001b[0;32m-> 3343\u001b[0;31m             \u001b[0mself\u001b[0m\u001b[0;34m.\u001b[0m\u001b[0mshowtraceback\u001b[0m\u001b[0;34m(\u001b[0m\u001b[0mrunning_compiled_code\u001b[0m\u001b[0;34m=\u001b[0m\u001b[0;32mTrue\u001b[0m\u001b[0;34m)\u001b[0m\u001b[0;34m\u001b[0m\u001b[0;34m\u001b[0m\u001b[0m\n\u001b[0m\u001b[1;32m   3344\u001b[0m         \u001b[0;32melse\u001b[0m\u001b[0;34m:\u001b[0m\u001b[0;34m\u001b[0m\u001b[0;34m\u001b[0m\u001b[0m\n\u001b[1;32m   3345\u001b[0m             \u001b[0moutflag\u001b[0m \u001b[0;34m=\u001b[0m \u001b[0;32mFalse\u001b[0m\u001b[0;34m\u001b[0m\u001b[0;34m\u001b[0m\u001b[0m\n",
      "\u001b[0;32m~/opt/anaconda3/lib/python3.7/site-packages/IPython/core/interactiveshell.py\u001b[0m in \u001b[0;36mshowtraceback\u001b[0;34m(self, exc_tuple, filename, tb_offset, exception_only, running_compiled_code)\u001b[0m\n\u001b[1;32m   2041\u001b[0m                     \u001b[0;32mexcept\u001b[0m \u001b[0mException\u001b[0m\u001b[0;34m:\u001b[0m\u001b[0;34m\u001b[0m\u001b[0;34m\u001b[0m\u001b[0m\n\u001b[1;32m   2042\u001b[0m                         stb = self.InteractiveTB.structured_traceback(etype,\n\u001b[0;32m-> 2043\u001b[0;31m                                             value, tb, tb_offset=tb_offset)\n\u001b[0m\u001b[1;32m   2044\u001b[0m \u001b[0;34m\u001b[0m\u001b[0m\n\u001b[1;32m   2045\u001b[0m                     \u001b[0mself\u001b[0m\u001b[0;34m.\u001b[0m\u001b[0m_showtraceback\u001b[0m\u001b[0;34m(\u001b[0m\u001b[0metype\u001b[0m\u001b[0;34m,\u001b[0m \u001b[0mvalue\u001b[0m\u001b[0;34m,\u001b[0m \u001b[0mstb\u001b[0m\u001b[0;34m)\u001b[0m\u001b[0;34m\u001b[0m\u001b[0;34m\u001b[0m\u001b[0m\n",
      "\u001b[0;32m~/opt/anaconda3/lib/python3.7/site-packages/IPython/core/ultratb.py\u001b[0m in \u001b[0;36mstructured_traceback\u001b[0;34m(self, etype, value, tb, tb_offset, number_of_lines_of_context)\u001b[0m\n\u001b[1;32m   1383\u001b[0m         \u001b[0mself\u001b[0m\u001b[0;34m.\u001b[0m\u001b[0mtb\u001b[0m \u001b[0;34m=\u001b[0m \u001b[0mtb\u001b[0m\u001b[0;34m\u001b[0m\u001b[0;34m\u001b[0m\u001b[0m\n\u001b[1;32m   1384\u001b[0m         return FormattedTB.structured_traceback(\n\u001b[0;32m-> 1385\u001b[0;31m             self, etype, value, tb, tb_offset, number_of_lines_of_context)\n\u001b[0m\u001b[1;32m   1386\u001b[0m \u001b[0;34m\u001b[0m\u001b[0m\n\u001b[1;32m   1387\u001b[0m \u001b[0;34m\u001b[0m\u001b[0m\n",
      "\u001b[0;32m~/opt/anaconda3/lib/python3.7/site-packages/IPython/core/ultratb.py\u001b[0m in \u001b[0;36mstructured_traceback\u001b[0;34m(self, etype, value, tb, tb_offset, number_of_lines_of_context)\u001b[0m\n\u001b[1;32m   1286\u001b[0m             \u001b[0;31m# Verbose modes need a full traceback\u001b[0m\u001b[0;34m\u001b[0m\u001b[0;34m\u001b[0m\u001b[0;34m\u001b[0m\u001b[0m\n\u001b[1;32m   1287\u001b[0m             return VerboseTB.structured_traceback(\n\u001b[0;32m-> 1288\u001b[0;31m                 \u001b[0mself\u001b[0m\u001b[0;34m,\u001b[0m \u001b[0metype\u001b[0m\u001b[0;34m,\u001b[0m \u001b[0mvalue\u001b[0m\u001b[0;34m,\u001b[0m \u001b[0mtb\u001b[0m\u001b[0;34m,\u001b[0m \u001b[0mtb_offset\u001b[0m\u001b[0;34m,\u001b[0m \u001b[0mnumber_of_lines_of_context\u001b[0m\u001b[0;34m\u001b[0m\u001b[0;34m\u001b[0m\u001b[0m\n\u001b[0m\u001b[1;32m   1289\u001b[0m             )\n\u001b[1;32m   1290\u001b[0m         \u001b[0;32melif\u001b[0m \u001b[0mmode\u001b[0m \u001b[0;34m==\u001b[0m \u001b[0;34m'Minimal'\u001b[0m\u001b[0;34m:\u001b[0m\u001b[0;34m\u001b[0m\u001b[0;34m\u001b[0m\u001b[0m\n",
      "\u001b[0;32m~/opt/anaconda3/lib/python3.7/site-packages/IPython/core/ultratb.py\u001b[0m in \u001b[0;36mstructured_traceback\u001b[0;34m(self, etype, evalue, etb, tb_offset, number_of_lines_of_context)\u001b[0m\n\u001b[1;32m   1148\u001b[0m         \u001b[0mexception\u001b[0m \u001b[0;34m=\u001b[0m \u001b[0mself\u001b[0m\u001b[0;34m.\u001b[0m\u001b[0mget_parts_of_chained_exception\u001b[0m\u001b[0;34m(\u001b[0m\u001b[0mevalue\u001b[0m\u001b[0;34m)\u001b[0m\u001b[0;34m\u001b[0m\u001b[0;34m\u001b[0m\u001b[0m\n\u001b[1;32m   1149\u001b[0m         \u001b[0;32mif\u001b[0m \u001b[0mexception\u001b[0m\u001b[0;34m:\u001b[0m\u001b[0;34m\u001b[0m\u001b[0;34m\u001b[0m\u001b[0m\n\u001b[0;32m-> 1150\u001b[0;31m             \u001b[0mformatted_exceptions\u001b[0m \u001b[0;34m+=\u001b[0m \u001b[0mself\u001b[0m\u001b[0;34m.\u001b[0m\u001b[0mprepare_chained_exception_message\u001b[0m\u001b[0;34m(\u001b[0m\u001b[0mevalue\u001b[0m\u001b[0;34m.\u001b[0m\u001b[0m__cause__\u001b[0m\u001b[0;34m)\u001b[0m\u001b[0;34m\u001b[0m\u001b[0;34m\u001b[0m\u001b[0m\n\u001b[0m\u001b[1;32m   1151\u001b[0m             \u001b[0metype\u001b[0m\u001b[0;34m,\u001b[0m \u001b[0mevalue\u001b[0m\u001b[0;34m,\u001b[0m \u001b[0metb\u001b[0m \u001b[0;34m=\u001b[0m \u001b[0mexception\u001b[0m\u001b[0;34m\u001b[0m\u001b[0;34m\u001b[0m\u001b[0m\n\u001b[1;32m   1152\u001b[0m         \u001b[0;32melse\u001b[0m\u001b[0;34m:\u001b[0m\u001b[0;34m\u001b[0m\u001b[0;34m\u001b[0m\u001b[0m\n",
      "\u001b[0;31mTypeError\u001b[0m: can only concatenate str (not \"list\") to str"
     ]
    }
   ],
   "source": [
    "from transformers import pipeline"
   ]
  },
  {
   "cell_type": "code",
   "execution_count": 391,
   "id": "077962f6",
   "metadata": {},
   "outputs": [],
   "source": [
    "import torch\n",
    "from transformers import BartTokenizer, BartForSequenceClassification"
   ]
  },
  {
   "cell_type": "code",
   "execution_count": 398,
   "id": "6cb1ce21",
   "metadata": {},
   "outputs": [],
   "source": [
    "tokenizer = BartTokenizer.from_pretrained(\"valhalla/bart-large-sst2\")"
   ]
  },
  {
   "cell_type": "code",
   "execution_count": 401,
   "id": "d0c4e926",
   "metadata": {},
   "outputs": [
    {
     "name": "stderr",
     "output_type": "stream",
     "text": [
      "ERROR:root:Internal Python error in the inspect module.\n",
      "Below is the traceback from this internal error.\n",
      "\n",
      "ERROR:root:Internal Python error in the inspect module.\n",
      "Below is the traceback from this internal error.\n",
      "\n",
      "ERROR:root:Internal Python error in the inspect module.\n",
      "Below is the traceback from this internal error.\n",
      "\n"
     ]
    },
    {
     "name": "stdout",
     "output_type": "stream",
     "text": [
      "Traceback (most recent call last):\n",
      "  File \"/Users/jacobmarks/opt/anaconda3/lib/python3.7/site-packages/tensorflow_core/python/pywrap_tensorflow_internal.py\", line 18, in swig_import_helper\n",
      "    fp, pathname, description = imp.find_module('_pywrap_tensorflow_internal', [dirname(__file__)])\n",
      "  File \"/Users/jacobmarks/opt/anaconda3/lib/python3.7/imp.py\", line 296, in find_module\n",
      "    raise ImportError(_ERR_MSG.format(name), name=name)\n",
      "ImportError: No module named '_pywrap_tensorflow_internal'\n",
      "\n",
      "During handling of the above exception, another exception occurred:\n",
      "\n",
      "Traceback (most recent call last):\n",
      "  File \"/Users/jacobmarks/opt/anaconda3/lib/python3.7/site-packages/tensorflow_core/python/pywrap_tensorflow.py\", line 58, in <module>\n",
      "    from tensorflow.python.pywrap_tensorflow_internal import *\n",
      "  File \"/Users/jacobmarks/opt/anaconda3/lib/python3.7/site-packages/tensorflow_core/python/pywrap_tensorflow_internal.py\", line 28, in <module>\n",
      "    _pywrap_tensorflow_internal = swig_import_helper()\n",
      "  File \"/Users/jacobmarks/opt/anaconda3/lib/python3.7/site-packages/tensorflow_core/python/pywrap_tensorflow_internal.py\", line 20, in swig_import_helper\n",
      "    import _pywrap_tensorflow_internal\n",
      "ModuleNotFoundError: No module named '_pywrap_tensorflow_internal'\n",
      "\n",
      "During handling of the above exception, another exception occurred:\n",
      "\n",
      "Traceback (most recent call last):\n",
      "  File \"/Users/jacobmarks/opt/anaconda3/lib/python3.7/site-packages/transformers/utils/import_utils.py\", line 1002, in _get_module\n",
      "    return importlib.import_module(\".\" + module_name, self.__name__)\n",
      "  File \"/Users/jacobmarks/opt/anaconda3/lib/python3.7/importlib/__init__.py\", line 127, in import_module\n",
      "    return _bootstrap._gcd_import(name[level:], package, level)\n",
      "  File \"<frozen importlib._bootstrap>\", line 1006, in _gcd_import\n",
      "  File \"<frozen importlib._bootstrap>\", line 983, in _find_and_load\n",
      "  File \"<frozen importlib._bootstrap>\", line 967, in _find_and_load_unlocked\n",
      "  File \"<frozen importlib._bootstrap>\", line 677, in _load_unlocked\n",
      "  File \"<frozen importlib._bootstrap_external>\", line 728, in exec_module\n",
      "  File \"<frozen importlib._bootstrap>\", line 219, in _call_with_frames_removed\n",
      "  File \"/Users/jacobmarks/opt/anaconda3/lib/python3.7/site-packages/transformers/pipelines/__init__.py\", line 37, in <module>\n",
      "    from .audio_classification import AudioClassificationPipeline\n",
      "  File \"/Users/jacobmarks/opt/anaconda3/lib/python3.7/site-packages/transformers/pipelines/audio_classification.py\", line 20, in <module>\n",
      "    from .base import PIPELINE_INIT_ARGS, Pipeline\n",
      "  File \"/Users/jacobmarks/opt/anaconda3/lib/python3.7/site-packages/transformers/pipelines/base.py\", line 34, in <module>\n",
      "    from ..modelcard import ModelCard\n",
      "  File \"/Users/jacobmarks/opt/anaconda3/lib/python3.7/site-packages/transformers/modelcard.py\", line 44, in <module>\n",
      "    from .training_args import ParallelMode\n",
      "  File \"/Users/jacobmarks/opt/anaconda3/lib/python3.7/site-packages/transformers/training_args.py\", line 26, in <module>\n",
      "    from .trainer_utils import (\n",
      "  File \"/Users/jacobmarks/opt/anaconda3/lib/python3.7/site-packages/transformers/trainer_utils.py\", line 47, in <module>\n",
      "    import tensorflow as tf\n",
      "  File \"/Users/jacobmarks/opt/anaconda3/lib/python3.7/site-packages/tensorflow/__init__.py\", line 98, in <module>\n",
      "    from tensorflow_core import *\n",
      "  File \"/Users/jacobmarks/opt/anaconda3/lib/python3.7/site-packages/tensorflow_core/__init__.py\", line 40, in <module>\n",
      "    from tensorflow.python.tools import module_util as _module_util\n",
      "  File \"/Users/jacobmarks/opt/anaconda3/lib/python3.7/site-packages/tensorflow/__init__.py\", line 50, in __getattr__\n",
      "    module = self._load()\n",
      "  File \"/Users/jacobmarks/opt/anaconda3/lib/python3.7/site-packages/tensorflow/__init__.py\", line 44, in _load\n",
      "    module = _importlib.import_module(self.__name__)\n",
      "  File \"/Users/jacobmarks/opt/anaconda3/lib/python3.7/importlib/__init__.py\", line 127, in import_module\n",
      "    return _bootstrap._gcd_import(name[level:], package, level)\n",
      "  File \"/Users/jacobmarks/opt/anaconda3/lib/python3.7/site-packages/tensorflow_core/python/__init__.py\", line 49, in <module>\n",
      "    from tensorflow.python import pywrap_tensorflow\n",
      "  File \"/Users/jacobmarks/opt/anaconda3/lib/python3.7/site-packages/tensorflow_core/python/pywrap_tensorflow.py\", line 74, in <module>\n",
      "    raise ImportError(msg)\n",
      "ImportError: Traceback (most recent call last):\n",
      "  File \"/Users/jacobmarks/opt/anaconda3/lib/python3.7/site-packages/tensorflow_core/python/pywrap_tensorflow_internal.py\", line 18, in swig_import_helper\n",
      "    fp, pathname, description = imp.find_module('_pywrap_tensorflow_internal', [dirname(__file__)])\n",
      "  File \"/Users/jacobmarks/opt/anaconda3/lib/python3.7/imp.py\", line 296, in find_module\n",
      "    raise ImportError(_ERR_MSG.format(name), name=name)\n",
      "ImportError: No module named '_pywrap_tensorflow_internal'\n",
      "\n",
      "During handling of the above exception, another exception occurred:\n",
      "\n",
      "Traceback (most recent call last):\n",
      "  File \"/Users/jacobmarks/opt/anaconda3/lib/python3.7/site-packages/tensorflow_core/python/pywrap_tensorflow.py\", line 58, in <module>\n",
      "    from tensorflow.python.pywrap_tensorflow_internal import *\n",
      "  File \"/Users/jacobmarks/opt/anaconda3/lib/python3.7/site-packages/tensorflow_core/python/pywrap_tensorflow_internal.py\", line 28, in <module>\n",
      "    _pywrap_tensorflow_internal = swig_import_helper()\n",
      "  File \"/Users/jacobmarks/opt/anaconda3/lib/python3.7/site-packages/tensorflow_core/python/pywrap_tensorflow_internal.py\", line 20, in swig_import_helper\n",
      "    import _pywrap_tensorflow_internal\n",
      "ModuleNotFoundError: No module named '_pywrap_tensorflow_internal'\n",
      "\n",
      "\n",
      "Failed to load the native TensorFlow runtime.\n",
      "\n",
      "See https://www.tensorflow.org/install/errors\n",
      "\n",
      "for some common reasons and solutions.  Include the entire stack trace\n",
      "above this error message when asking for help.\n",
      "\n",
      "The above exception was the direct cause of the following exception:\n",
      "\n",
      "Traceback (most recent call last):\n",
      "  File \"/Users/jacobmarks/opt/anaconda3/lib/python3.7/site-packages/IPython/core/interactiveshell.py\", line 3326, in run_code\n",
      "    exec(code_obj, self.user_global_ns, self.user_ns)\n",
      "  File \"<ipython-input-401-39d8a0f9dd4a>\", line 1, in <module>\n",
      "    from transformers import pipeline\n",
      "  File \"<frozen importlib._bootstrap>\", line 1032, in _handle_fromlist\n",
      "  File \"/Users/jacobmarks/opt/anaconda3/lib/python3.7/site-packages/transformers/utils/import_utils.py\", line 992, in __getattr__\n",
      "    module = self._get_module(self._class_to_module[name])\n",
      "  File \"/Users/jacobmarks/opt/anaconda3/lib/python3.7/site-packages/transformers/utils/import_utils.py\", line 1007, in _get_module\n",
      "    ) from e\n",
      "RuntimeError: Failed to import transformers.pipelines because of the following error (look up to see its traceback):\n",
      "Traceback (most recent call last):\n",
      "  File \"/Users/jacobmarks/opt/anaconda3/lib/python3.7/site-packages/tensorflow_core/python/pywrap_tensorflow_internal.py\", line 18, in swig_import_helper\n",
      "    fp, pathname, description = imp.find_module('_pywrap_tensorflow_internal', [dirname(__file__)])\n",
      "  File \"/Users/jacobmarks/opt/anaconda3/lib/python3.7/imp.py\", line 296, in find_module\n",
      "    raise ImportError(_ERR_MSG.format(name), name=name)\n",
      "ImportError: No module named '_pywrap_tensorflow_internal'\n",
      "\n",
      "During handling of the above exception, another exception occurred:\n",
      "\n",
      "Traceback (most recent call last):\n",
      "  File \"/Users/jacobmarks/opt/anaconda3/lib/python3.7/site-packages/tensorflow_core/python/pywrap_tensorflow.py\", line 58, in <module>\n",
      "    from tensorflow.python.pywrap_tensorflow_internal import *\n",
      "  File \"/Users/jacobmarks/opt/anaconda3/lib/python3.7/site-packages/tensorflow_core/python/pywrap_tensorflow_internal.py\", line 28, in <module>\n",
      "    _pywrap_tensorflow_internal = swig_import_helper()\n",
      "  File \"/Users/jacobmarks/opt/anaconda3/lib/python3.7/site-packages/tensorflow_core/python/pywrap_tensorflow_internal.py\", line 20, in swig_import_helper\n",
      "    import _pywrap_tensorflow_internal\n",
      "ModuleNotFoundError: No module named '_pywrap_tensorflow_internal'\n",
      "\n",
      "\n",
      "Failed to load the native TensorFlow runtime.\n",
      "\n",
      "See https://www.tensorflow.org/install/errors\n",
      "\n",
      "for some common reasons and solutions.  Include the entire stack trace\n",
      "above this error message when asking for help.\n",
      "\n",
      "During handling of the above exception, another exception occurred:\n",
      "\n",
      "Traceback (most recent call last):\n",
      "  File \"/Users/jacobmarks/opt/anaconda3/lib/python3.7/site-packages/IPython/core/interactiveshell.py\", line 2040, in showtraceback\n",
      "    stb = value._render_traceback_()\n",
      "AttributeError: 'RuntimeError' object has no attribute '_render_traceback_'\n",
      "\n",
      "During handling of the above exception, another exception occurred:\n",
      "\n",
      "Traceback (most recent call last):\n",
      "  File \"/Users/jacobmarks/opt/anaconda3/lib/python3.7/site-packages/tensorflow_core/python/pywrap_tensorflow_internal.py\", line 18, in swig_import_helper\n",
      "    fp, pathname, description = imp.find_module('_pywrap_tensorflow_internal', [dirname(__file__)])\n",
      "  File \"/Users/jacobmarks/opt/anaconda3/lib/python3.7/imp.py\", line 296, in find_module\n",
      "    raise ImportError(_ERR_MSG.format(name), name=name)\n",
      "ImportError: No module named '_pywrap_tensorflow_internal'\n",
      "\n",
      "During handling of the above exception, another exception occurred:\n",
      "\n",
      "Traceback (most recent call last):\n",
      "  File \"/Users/jacobmarks/opt/anaconda3/lib/python3.7/site-packages/tensorflow_core/python/pywrap_tensorflow.py\", line 58, in <module>\n",
      "    from tensorflow.python.pywrap_tensorflow_internal import *\n",
      "  File \"/Users/jacobmarks/opt/anaconda3/lib/python3.7/site-packages/tensorflow_core/python/pywrap_tensorflow_internal.py\", line 28, in <module>\n",
      "    _pywrap_tensorflow_internal = swig_import_helper()\n",
      "  File \"/Users/jacobmarks/opt/anaconda3/lib/python3.7/site-packages/tensorflow_core/python/pywrap_tensorflow_internal.py\", line 20, in swig_import_helper\n",
      "    import _pywrap_tensorflow_internal\n",
      "ModuleNotFoundError: No module named '_pywrap_tensorflow_internal'\n",
      "\n",
      "During handling of the above exception, another exception occurred:\n",
      "\n",
      "Traceback (most recent call last):\n",
      "  File \"/Users/jacobmarks/opt/anaconda3/lib/python3.7/site-packages/IPython/core/ultratb.py\", line 1101, in get_records\n",
      "    return _fixed_getinnerframes(etb, number_of_lines_of_context, tb_offset)\n",
      "  File \"/Users/jacobmarks/opt/anaconda3/lib/python3.7/site-packages/IPython/core/ultratb.py\", line 319, in wrapped\n",
      "    return f(*args, **kwargs)\n",
      "  File \"/Users/jacobmarks/opt/anaconda3/lib/python3.7/site-packages/IPython/core/ultratb.py\", line 353, in _fixed_getinnerframes\n",
      "    records = fix_frame_records_filenames(inspect.getinnerframes(etb, context))\n",
      "  File \"/Users/jacobmarks/opt/anaconda3/lib/python3.7/inspect.py\", line 1502, in getinnerframes\n",
      "    frameinfo = (tb.tb_frame,) + getframeinfo(tb, context)\n",
      "  File \"/Users/jacobmarks/opt/anaconda3/lib/python3.7/inspect.py\", line 1460, in getframeinfo\n",
      "    filename = getsourcefile(frame) or getfile(frame)\n",
      "  File \"/Users/jacobmarks/opt/anaconda3/lib/python3.7/inspect.py\", line 696, in getsourcefile\n",
      "    if getattr(getmodule(object, filename), '__loader__', None) is not None:\n",
      "  File \"/Users/jacobmarks/opt/anaconda3/lib/python3.7/inspect.py\", line 733, in getmodule\n",
      "    if ismodule(module) and hasattr(module, '__file__'):\n",
      "  File \"/Users/jacobmarks/opt/anaconda3/lib/python3.7/site-packages/tensorflow/__init__.py\", line 50, in __getattr__\n",
      "    module = self._load()\n",
      "  File \"/Users/jacobmarks/opt/anaconda3/lib/python3.7/site-packages/tensorflow/__init__.py\", line 44, in _load\n",
      "    module = _importlib.import_module(self.__name__)\n",
      "  File \"/Users/jacobmarks/opt/anaconda3/lib/python3.7/importlib/__init__.py\", line 127, in import_module\n",
      "    return _bootstrap._gcd_import(name[level:], package, level)\n",
      "  File \"<frozen importlib._bootstrap>\", line 1006, in _gcd_import\n",
      "  File \"<frozen importlib._bootstrap>\", line 983, in _find_and_load\n",
      "  File \"<frozen importlib._bootstrap>\", line 953, in _find_and_load_unlocked\n",
      "  File \"<frozen importlib._bootstrap>\", line 219, in _call_with_frames_removed\n",
      "  File \"<frozen importlib._bootstrap>\", line 1006, in _gcd_import\n",
      "  File \"<frozen importlib._bootstrap>\", line 983, in _find_and_load\n",
      "  File \"<frozen importlib._bootstrap>\", line 967, in _find_and_load_unlocked\n",
      "  File \"<frozen importlib._bootstrap>\", line 677, in _load_unlocked\n",
      "  File \"<frozen importlib._bootstrap_external>\", line 728, in exec_module\n",
      "  File \"<frozen importlib._bootstrap>\", line 219, in _call_with_frames_removed\n",
      "  File \"/Users/jacobmarks/opt/anaconda3/lib/python3.7/site-packages/tensorflow_core/__init__.py\", line 42, in <module>\n",
      "    from . _api.v2 import audio\n",
      "  File \"/Users/jacobmarks/opt/anaconda3/lib/python3.7/site-packages/tensorflow_core/_api/v2/audio/__init__.py\", line 10, in <module>\n",
      "    from tensorflow.python.ops.gen_audio_ops import decode_wav\n",
      "  File \"/Users/jacobmarks/opt/anaconda3/lib/python3.7/site-packages/tensorflow_core/python/ops/gen_audio_ops.py\", line 10, in <module>\n",
      "    from tensorflow.python import pywrap_tensorflow as _pywrap_tensorflow\n",
      "  File \"/Users/jacobmarks/opt/anaconda3/lib/python3.7/site-packages/tensorflow/__init__.py\", line 50, in __getattr__\n",
      "    module = self._load()\n",
      "  File \"/Users/jacobmarks/opt/anaconda3/lib/python3.7/site-packages/tensorflow/__init__.py\", line 44, in _load\n",
      "    module = _importlib.import_module(self.__name__)\n",
      "  File \"/Users/jacobmarks/opt/anaconda3/lib/python3.7/importlib/__init__.py\", line 127, in import_module\n",
      "    return _bootstrap._gcd_import(name[level:], package, level)\n",
      "  File \"/Users/jacobmarks/opt/anaconda3/lib/python3.7/site-packages/tensorflow_core/python/__init__.py\", line 49, in <module>\n",
      "    from tensorflow.python import pywrap_tensorflow\n",
      "  File \"/Users/jacobmarks/opt/anaconda3/lib/python3.7/site-packages/tensorflow_core/python/pywrap_tensorflow.py\", line 74, in <module>\n",
      "    raise ImportError(msg)\n",
      "ImportError: Traceback (most recent call last):\n",
      "  File \"/Users/jacobmarks/opt/anaconda3/lib/python3.7/site-packages/tensorflow_core/python/pywrap_tensorflow_internal.py\", line 18, in swig_import_helper\n",
      "    fp, pathname, description = imp.find_module('_pywrap_tensorflow_internal', [dirname(__file__)])\n",
      "  File \"/Users/jacobmarks/opt/anaconda3/lib/python3.7/imp.py\", line 296, in find_module\n",
      "    raise ImportError(_ERR_MSG.format(name), name=name)\n",
      "ImportError: No module named '_pywrap_tensorflow_internal'\n",
      "\n",
      "During handling of the above exception, another exception occurred:\n",
      "\n",
      "Traceback (most recent call last):\n",
      "  File \"/Users/jacobmarks/opt/anaconda3/lib/python3.7/site-packages/tensorflow_core/python/pywrap_tensorflow.py\", line 58, in <module>\n",
      "    from tensorflow.python.pywrap_tensorflow_internal import *\n",
      "  File \"/Users/jacobmarks/opt/anaconda3/lib/python3.7/site-packages/tensorflow_core/python/pywrap_tensorflow_internal.py\", line 28, in <module>\n",
      "    _pywrap_tensorflow_internal = swig_import_helper()\n",
      "  File \"/Users/jacobmarks/opt/anaconda3/lib/python3.7/site-packages/tensorflow_core/python/pywrap_tensorflow_internal.py\", line 20, in swig_import_helper\n",
      "    import _pywrap_tensorflow_internal\n",
      "ModuleNotFoundError: No module named '_pywrap_tensorflow_internal'\n",
      "\n",
      "During handling of the above exception, another exception occurred:\n",
      "\n",
      "Traceback (most recent call last):\n",
      "  File \"/Users/jacobmarks/opt/anaconda3/lib/python3.7/site-packages/transformers/utils/import_utils.py\", line 1002, in _get_module\n",
      "    return importlib.import_module(\".\" + module_name, self.__name__)\n",
      "  File \"/Users/jacobmarks/opt/anaconda3/lib/python3.7/importlib/__init__.py\", line 127, in import_module\n",
      "    return _bootstrap._gcd_import(name[level:], package, level)\n",
      "  File \"<frozen importlib._bootstrap>\", line 1006, in _gcd_import\n",
      "  File \"<frozen importlib._bootstrap>\", line 983, in _find_and_load\n",
      "  File \"<frozen importlib._bootstrap>\", line 967, in _find_and_load_unlocked\n",
      "  File \"<frozen importlib._bootstrap>\", line 677, in _load_unlocked\n",
      "  File \"<frozen importlib._bootstrap_external>\", line 728, in exec_module\n",
      "  File \"<frozen importlib._bootstrap>\", line 219, in _call_with_frames_removed\n",
      "  File \"/Users/jacobmarks/opt/anaconda3/lib/python3.7/site-packages/transformers/pipelines/__init__.py\", line 37, in <module>\n",
      "    from .audio_classification import AudioClassificationPipeline\n",
      "  File \"/Users/jacobmarks/opt/anaconda3/lib/python3.7/site-packages/transformers/pipelines/audio_classification.py\", line 20, in <module>\n",
      "    from .base import PIPELINE_INIT_ARGS, Pipeline\n",
      "  File \"/Users/jacobmarks/opt/anaconda3/lib/python3.7/site-packages/transformers/pipelines/base.py\", line 34, in <module>\n",
      "    from ..modelcard import ModelCard\n",
      "  File \"/Users/jacobmarks/opt/anaconda3/lib/python3.7/site-packages/transformers/modelcard.py\", line 44, in <module>\n",
      "    from .training_args import ParallelMode\n",
      "  File \"/Users/jacobmarks/opt/anaconda3/lib/python3.7/site-packages/transformers/training_args.py\", line 26, in <module>\n",
      "    from .trainer_utils import (\n",
      "  File \"/Users/jacobmarks/opt/anaconda3/lib/python3.7/site-packages/transformers/trainer_utils.py\", line 47, in <module>\n",
      "    import tensorflow as tf\n",
      "  File \"/Users/jacobmarks/opt/anaconda3/lib/python3.7/site-packages/tensorflow/__init__.py\", line 98, in <module>\n",
      "    from tensorflow_core import *\n",
      "  File \"/Users/jacobmarks/opt/anaconda3/lib/python3.7/site-packages/tensorflow_core/__init__.py\", line 40, in <module>\n",
      "    from tensorflow.python.tools import module_util as _module_util\n",
      "  File \"/Users/jacobmarks/opt/anaconda3/lib/python3.7/site-packages/tensorflow/__init__.py\", line 50, in __getattr__\n",
      "    module = self._load()\n",
      "  File \"/Users/jacobmarks/opt/anaconda3/lib/python3.7/site-packages/tensorflow/__init__.py\", line 44, in _load\n",
      "    module = _importlib.import_module(self.__name__)\n",
      "  File \"/Users/jacobmarks/opt/anaconda3/lib/python3.7/importlib/__init__.py\", line 127, in import_module\n",
      "    return _bootstrap._gcd_import(name[level:], package, level)\n",
      "  File \"/Users/jacobmarks/opt/anaconda3/lib/python3.7/site-packages/tensorflow_core/python/__init__.py\", line 49, in <module>\n",
      "    from tensorflow.python import pywrap_tensorflow\n",
      "  File \"/Users/jacobmarks/opt/anaconda3/lib/python3.7/site-packages/tensorflow_core/python/pywrap_tensorflow.py\", line 74, in <module>\n",
      "    raise ImportError(msg)\n",
      "ImportError: Traceback (most recent call last):\n",
      "  File \"/Users/jacobmarks/opt/anaconda3/lib/python3.7/site-packages/tensorflow_core/python/pywrap_tensorflow_internal.py\", line 18, in swig_import_helper\n",
      "    fp, pathname, description = imp.find_module('_pywrap_tensorflow_internal', [dirname(__file__)])\n",
      "  File \"/Users/jacobmarks/opt/anaconda3/lib/python3.7/imp.py\", line 296, in find_module\n",
      "    raise ImportError(_ERR_MSG.format(name), name=name)\n",
      "ImportError: No module named '_pywrap_tensorflow_internal'\n",
      "\n",
      "During handling of the above exception, another exception occurred:\n",
      "\n",
      "Traceback (most recent call last):\n",
      "  File \"/Users/jacobmarks/opt/anaconda3/lib/python3.7/site-packages/tensorflow_core/python/pywrap_tensorflow.py\", line 58, in <module>\n",
      "    from tensorflow.python.pywrap_tensorflow_internal import *\n",
      "  File \"/Users/jacobmarks/opt/anaconda3/lib/python3.7/site-packages/tensorflow_core/python/pywrap_tensorflow_internal.py\", line 28, in <module>\n",
      "    _pywrap_tensorflow_internal = swig_import_helper()\n",
      "  File \"/Users/jacobmarks/opt/anaconda3/lib/python3.7/site-packages/tensorflow_core/python/pywrap_tensorflow_internal.py\", line 20, in swig_import_helper\n",
      "    import _pywrap_tensorflow_internal\n",
      "ModuleNotFoundError: No module named '_pywrap_tensorflow_internal'\n",
      "\n",
      "\n",
      "Failed to load the native TensorFlow runtime.\n",
      "\n",
      "See https://www.tensorflow.org/install/errors\n",
      "\n",
      "for some common reasons and solutions.  Include the entire stack trace\n",
      "above this error message when asking for help.\n",
      "\n",
      "The above exception was the direct cause of the following exception:\n",
      "\n",
      "Traceback (most recent call last):\n",
      "  File \"/Users/jacobmarks/opt/anaconda3/lib/python3.7/site-packages/IPython/core/interactiveshell.py\", line 3326, in run_code\n",
      "    exec(code_obj, self.user_global_ns, self.user_ns)\n",
      "  File \"<ipython-input-401-39d8a0f9dd4a>\", line 1, in <module>\n",
      "    from transformers import pipeline\n",
      "  File \"<frozen importlib._bootstrap>\", line 1032, in _handle_fromlist\n",
      "  File \"/Users/jacobmarks/opt/anaconda3/lib/python3.7/site-packages/transformers/utils/import_utils.py\", line 992, in __getattr__\n",
      "    module = self._get_module(self._class_to_module[name])\n",
      "  File \"/Users/jacobmarks/opt/anaconda3/lib/python3.7/site-packages/transformers/utils/import_utils.py\", line 1007, in _get_module\n",
      "    ) from e\n",
      "RuntimeError: Failed to import transformers.pipelines because of the following error (look up to see its traceback):\n",
      "Traceback (most recent call last):\n",
      "  File \"/Users/jacobmarks/opt/anaconda3/lib/python3.7/site-packages/tensorflow_core/python/pywrap_tensorflow_internal.py\", line 18, in swig_import_helper\n",
      "    fp, pathname, description = imp.find_module('_pywrap_tensorflow_internal', [dirname(__file__)])\n",
      "  File \"/Users/jacobmarks/opt/anaconda3/lib/python3.7/imp.py\", line 296, in find_module\n",
      "    raise ImportError(_ERR_MSG.format(name), name=name)\n",
      "ImportError: No module named '_pywrap_tensorflow_internal'\n",
      "\n",
      "During handling of the above exception, another exception occurred:\n",
      "\n",
      "Traceback (most recent call last):\n",
      "  File \"/Users/jacobmarks/opt/anaconda3/lib/python3.7/site-packages/tensorflow_core/python/pywrap_tensorflow.py\", line 58, in <module>\n",
      "    from tensorflow.python.pywrap_tensorflow_internal import *\n",
      "  File \"/Users/jacobmarks/opt/anaconda3/lib/python3.7/site-packages/tensorflow_core/python/pywrap_tensorflow_internal.py\", line 28, in <module>\n",
      "    _pywrap_tensorflow_internal = swig_import_helper()\n",
      "  File \"/Users/jacobmarks/opt/anaconda3/lib/python3.7/site-packages/tensorflow_core/python/pywrap_tensorflow_internal.py\", line 20, in swig_import_helper\n",
      "    import _pywrap_tensorflow_internal\n",
      "ModuleNotFoundError: No module named '_pywrap_tensorflow_internal'\n",
      "\n",
      "\n",
      "Failed to load the native TensorFlow runtime.\n",
      "\n",
      "See https://www.tensorflow.org/install/errors\n",
      "\n",
      "for some common reasons and solutions.  Include the entire stack trace\n",
      "above this error message when asking for help.\n",
      "\n",
      "During handling of the above exception, another exception occurred:\n",
      "\n",
      "Traceback (most recent call last):\n",
      "  File \"/Users/jacobmarks/opt/anaconda3/lib/python3.7/site-packages/IPython/core/interactiveshell.py\", line 2040, in showtraceback\n",
      "    stb = value._render_traceback_()\n",
      "AttributeError: 'RuntimeError' object has no attribute '_render_traceback_'\n",
      "\n",
      "During handling of the above exception, another exception occurred:\n",
      "\n",
      "Traceback (most recent call last):\n",
      "  File \"/Users/jacobmarks/opt/anaconda3/lib/python3.7/site-packages/tensorflow_core/python/pywrap_tensorflow_internal.py\", line 18, in swig_import_helper\n",
      "    fp, pathname, description = imp.find_module('_pywrap_tensorflow_internal', [dirname(__file__)])\n",
      "  File \"/Users/jacobmarks/opt/anaconda3/lib/python3.7/imp.py\", line 296, in find_module\n",
      "    raise ImportError(_ERR_MSG.format(name), name=name)\n",
      "ImportError: No module named '_pywrap_tensorflow_internal'\n",
      "\n",
      "During handling of the above exception, another exception occurred:\n",
      "\n",
      "Traceback (most recent call last):\n",
      "  File \"/Users/jacobmarks/opt/anaconda3/lib/python3.7/site-packages/tensorflow_core/python/pywrap_tensorflow.py\", line 58, in <module>\n",
      "    from tensorflow.python.pywrap_tensorflow_internal import *\n",
      "  File \"/Users/jacobmarks/opt/anaconda3/lib/python3.7/site-packages/tensorflow_core/python/pywrap_tensorflow_internal.py\", line 28, in <module>\n",
      "    _pywrap_tensorflow_internal = swig_import_helper()\n",
      "  File \"/Users/jacobmarks/opt/anaconda3/lib/python3.7/site-packages/tensorflow_core/python/pywrap_tensorflow_internal.py\", line 20, in swig_import_helper\n",
      "    import _pywrap_tensorflow_internal\n",
      "ModuleNotFoundError: No module named '_pywrap_tensorflow_internal'\n",
      "\n",
      "\n",
      "Failed to load the native TensorFlow runtime.\n",
      "\n",
      "See https://www.tensorflow.org/install/errors\n",
      "\n",
      "for some common reasons and solutions.  Include the entire stack trace\n",
      "above this error message when asking for help.\n",
      "Traceback (most recent call last):\n",
      "  File \"/Users/jacobmarks/opt/anaconda3/lib/python3.7/site-packages/tensorflow_core/python/pywrap_tensorflow_internal.py\", line 18, in swig_import_helper\n",
      "    fp, pathname, description = imp.find_module('_pywrap_tensorflow_internal', [dirname(__file__)])\n",
      "  File \"/Users/jacobmarks/opt/anaconda3/lib/python3.7/imp.py\", line 296, in find_module\n",
      "    raise ImportError(_ERR_MSG.format(name), name=name)\n",
      "ImportError: No module named '_pywrap_tensorflow_internal'\n",
      "\n",
      "During handling of the above exception, another exception occurred:\n",
      "\n",
      "Traceback (most recent call last):\n",
      "  File \"/Users/jacobmarks/opt/anaconda3/lib/python3.7/site-packages/tensorflow_core/python/pywrap_tensorflow.py\", line 58, in <module>\n",
      "    from tensorflow.python.pywrap_tensorflow_internal import *\n",
      "  File \"/Users/jacobmarks/opt/anaconda3/lib/python3.7/site-packages/tensorflow_core/python/pywrap_tensorflow_internal.py\", line 28, in <module>\n",
      "    _pywrap_tensorflow_internal = swig_import_helper()\n",
      "  File \"/Users/jacobmarks/opt/anaconda3/lib/python3.7/site-packages/tensorflow_core/python/pywrap_tensorflow_internal.py\", line 20, in swig_import_helper\n",
      "    import _pywrap_tensorflow_internal\n",
      "ModuleNotFoundError: No module named '_pywrap_tensorflow_internal'\n",
      "\n",
      "During handling of the above exception, another exception occurred:\n",
      "\n",
      "Traceback (most recent call last):\n",
      "  File \"/Users/jacobmarks/opt/anaconda3/lib/python3.7/site-packages/transformers/utils/import_utils.py\", line 1002, in _get_module\n",
      "    return importlib.import_module(\".\" + module_name, self.__name__)\n",
      "  File \"/Users/jacobmarks/opt/anaconda3/lib/python3.7/importlib/__init__.py\", line 127, in import_module\n",
      "    return _bootstrap._gcd_import(name[level:], package, level)\n",
      "  File \"<frozen importlib._bootstrap>\", line 1006, in _gcd_import\n",
      "  File \"<frozen importlib._bootstrap>\", line 983, in _find_and_load\n",
      "  File \"<frozen importlib._bootstrap>\", line 967, in _find_and_load_unlocked\n",
      "  File \"<frozen importlib._bootstrap>\", line 677, in _load_unlocked\n",
      "  File \"<frozen importlib._bootstrap_external>\", line 728, in exec_module\n",
      "  File \"<frozen importlib._bootstrap>\", line 219, in _call_with_frames_removed\n",
      "  File \"/Users/jacobmarks/opt/anaconda3/lib/python3.7/site-packages/transformers/pipelines/__init__.py\", line 37, in <module>\n",
      "    from .audio_classification import AudioClassificationPipeline\n",
      "  File \"/Users/jacobmarks/opt/anaconda3/lib/python3.7/site-packages/transformers/pipelines/audio_classification.py\", line 20, in <module>\n",
      "    from .base import PIPELINE_INIT_ARGS, Pipeline\n",
      "  File \"/Users/jacobmarks/opt/anaconda3/lib/python3.7/site-packages/transformers/pipelines/base.py\", line 34, in <module>\n",
      "    from ..modelcard import ModelCard\n",
      "  File \"/Users/jacobmarks/opt/anaconda3/lib/python3.7/site-packages/transformers/modelcard.py\", line 44, in <module>\n",
      "    from .training_args import ParallelMode\n",
      "  File \"/Users/jacobmarks/opt/anaconda3/lib/python3.7/site-packages/transformers/training_args.py\", line 26, in <module>\n",
      "    from .trainer_utils import (\n",
      "  File \"/Users/jacobmarks/opt/anaconda3/lib/python3.7/site-packages/transformers/trainer_utils.py\", line 47, in <module>\n",
      "    import tensorflow as tf\n",
      "  File \"/Users/jacobmarks/opt/anaconda3/lib/python3.7/site-packages/tensorflow/__init__.py\", line 98, in <module>\n",
      "    from tensorflow_core import *\n",
      "  File \"/Users/jacobmarks/opt/anaconda3/lib/python3.7/site-packages/tensorflow_core/__init__.py\", line 40, in <module>\n",
      "    from tensorflow.python.tools import module_util as _module_util\n",
      "  File \"/Users/jacobmarks/opt/anaconda3/lib/python3.7/site-packages/tensorflow/__init__.py\", line 50, in __getattr__\n",
      "    module = self._load()\n",
      "  File \"/Users/jacobmarks/opt/anaconda3/lib/python3.7/site-packages/tensorflow/__init__.py\", line 44, in _load\n",
      "    module = _importlib.import_module(self.__name__)\n",
      "  File \"/Users/jacobmarks/opt/anaconda3/lib/python3.7/importlib/__init__.py\", line 127, in import_module\n",
      "    return _bootstrap._gcd_import(name[level:], package, level)\n",
      "  File \"/Users/jacobmarks/opt/anaconda3/lib/python3.7/site-packages/tensorflow_core/python/__init__.py\", line 49, in <module>\n",
      "    from tensorflow.python import pywrap_tensorflow\n",
      "  File \"/Users/jacobmarks/opt/anaconda3/lib/python3.7/site-packages/tensorflow_core/python/pywrap_tensorflow.py\", line 74, in <module>\n",
      "    raise ImportError(msg)\n",
      "ImportError: Traceback (most recent call last):\n",
      "  File \"/Users/jacobmarks/opt/anaconda3/lib/python3.7/site-packages/tensorflow_core/python/pywrap_tensorflow_internal.py\", line 18, in swig_import_helper\n",
      "    fp, pathname, description = imp.find_module('_pywrap_tensorflow_internal', [dirname(__file__)])\n",
      "  File \"/Users/jacobmarks/opt/anaconda3/lib/python3.7/imp.py\", line 296, in find_module\n",
      "    raise ImportError(_ERR_MSG.format(name), name=name)\n",
      "ImportError: No module named '_pywrap_tensorflow_internal'\n",
      "\n",
      "During handling of the above exception, another exception occurred:\n",
      "\n",
      "Traceback (most recent call last):\n",
      "  File \"/Users/jacobmarks/opt/anaconda3/lib/python3.7/site-packages/tensorflow_core/python/pywrap_tensorflow.py\", line 58, in <module>\n",
      "    from tensorflow.python.pywrap_tensorflow_internal import *\n",
      "  File \"/Users/jacobmarks/opt/anaconda3/lib/python3.7/site-packages/tensorflow_core/python/pywrap_tensorflow_internal.py\", line 28, in <module>\n",
      "    _pywrap_tensorflow_internal = swig_import_helper()\n",
      "  File \"/Users/jacobmarks/opt/anaconda3/lib/python3.7/site-packages/tensorflow_core/python/pywrap_tensorflow_internal.py\", line 20, in swig_import_helper\n",
      "    import _pywrap_tensorflow_internal\n",
      "ModuleNotFoundError: No module named '_pywrap_tensorflow_internal'\n",
      "\n",
      "\n",
      "Failed to load the native TensorFlow runtime.\n",
      "\n",
      "See https://www.tensorflow.org/install/errors\n",
      "\n",
      "for some common reasons and solutions.  Include the entire stack trace\n",
      "above this error message when asking for help.\n",
      "\n",
      "The above exception was the direct cause of the following exception:\n",
      "\n",
      "Traceback (most recent call last):\n",
      "  File \"/Users/jacobmarks/opt/anaconda3/lib/python3.7/site-packages/IPython/core/interactiveshell.py\", line 3326, in run_code\n",
      "    exec(code_obj, self.user_global_ns, self.user_ns)\n",
      "  File \"<ipython-input-401-39d8a0f9dd4a>\", line 1, in <module>\n",
      "    from transformers import pipeline\n",
      "  File \"<frozen importlib._bootstrap>\", line 1032, in _handle_fromlist\n",
      "  File \"/Users/jacobmarks/opt/anaconda3/lib/python3.7/site-packages/transformers/utils/import_utils.py\", line 992, in __getattr__\n",
      "    module = self._get_module(self._class_to_module[name])\n",
      "  File \"/Users/jacobmarks/opt/anaconda3/lib/python3.7/site-packages/transformers/utils/import_utils.py\", line 1007, in _get_module\n",
      "    ) from e\n",
      "RuntimeError: Failed to import transformers.pipelines because of the following error (look up to see its traceback):\n",
      "Traceback (most recent call last):\n",
      "  File \"/Users/jacobmarks/opt/anaconda3/lib/python3.7/site-packages/tensorflow_core/python/pywrap_tensorflow_internal.py\", line 18, in swig_import_helper\n",
      "    fp, pathname, description = imp.find_module('_pywrap_tensorflow_internal', [dirname(__file__)])\n",
      "  File \"/Users/jacobmarks/opt/anaconda3/lib/python3.7/imp.py\", line 296, in find_module\n",
      "    raise ImportError(_ERR_MSG.format(name), name=name)\n",
      "ImportError: No module named '_pywrap_tensorflow_internal'\n",
      "\n",
      "During handling of the above exception, another exception occurred:\n",
      "\n",
      "Traceback (most recent call last):\n",
      "  File \"/Users/jacobmarks/opt/anaconda3/lib/python3.7/site-packages/tensorflow_core/python/pywrap_tensorflow.py\", line 58, in <module>\n",
      "    from tensorflow.python.pywrap_tensorflow_internal import *\n",
      "  File \"/Users/jacobmarks/opt/anaconda3/lib/python3.7/site-packages/tensorflow_core/python/pywrap_tensorflow_internal.py\", line 28, in <module>\n",
      "    _pywrap_tensorflow_internal = swig_import_helper()\n",
      "  File \"/Users/jacobmarks/opt/anaconda3/lib/python3.7/site-packages/tensorflow_core/python/pywrap_tensorflow_internal.py\", line 20, in swig_import_helper\n",
      "    import _pywrap_tensorflow_internal\n",
      "ModuleNotFoundError: No module named '_pywrap_tensorflow_internal'\n",
      "\n",
      "\n",
      "Failed to load the native TensorFlow runtime.\n",
      "\n",
      "See https://www.tensorflow.org/install/errors\n",
      "\n",
      "for some common reasons and solutions.  Include the entire stack trace\n",
      "above this error message when asking for help.\n",
      "\n",
      "During handling of the above exception, another exception occurred:\n",
      "\n",
      "Traceback (most recent call last):\n",
      "  File \"/Users/jacobmarks/opt/anaconda3/lib/python3.7/site-packages/IPython/core/interactiveshell.py\", line 2040, in showtraceback\n",
      "    stb = value._render_traceback_()\n",
      "AttributeError: 'RuntimeError' object has no attribute '_render_traceback_'\n",
      "\n",
      "During handling of the above exception, another exception occurred:\n",
      "\n",
      "Traceback (most recent call last):\n",
      "  File \"/Users/jacobmarks/opt/anaconda3/lib/python3.7/site-packages/IPython/core/interactiveshell.py\", line 3249, in run_ast_nodes\n",
      "    if (await self.run_code(code, result,  async_=asy)):\n",
      "  File \"/Users/jacobmarks/opt/anaconda3/lib/python3.7/site-packages/IPython/core/interactiveshell.py\", line 3343, in run_code\n",
      "    self.showtraceback(running_compiled_code=True)\n",
      "  File \"/Users/jacobmarks/opt/anaconda3/lib/python3.7/site-packages/IPython/core/interactiveshell.py\", line 2043, in showtraceback\n",
      "    value, tb, tb_offset=tb_offset)\n",
      "  File \"/Users/jacobmarks/opt/anaconda3/lib/python3.7/site-packages/IPython/core/ultratb.py\", line 1385, in structured_traceback\n",
      "    self, etype, value, tb, tb_offset, number_of_lines_of_context)\n",
      "  File \"/Users/jacobmarks/opt/anaconda3/lib/python3.7/site-packages/IPython/core/ultratb.py\", line 1288, in structured_traceback\n",
      "    self, etype, value, tb, tb_offset, number_of_lines_of_context\n",
      "  File \"/Users/jacobmarks/opt/anaconda3/lib/python3.7/site-packages/IPython/core/ultratb.py\", line 1150, in structured_traceback\n",
      "    formatted_exceptions += self.prepare_chained_exception_message(evalue.__cause__)\n",
      "TypeError: can only concatenate str (not \"list\") to str\n",
      "\n",
      "During handling of the above exception, another exception occurred:\n",
      "\n",
      "Traceback (most recent call last):\n",
      "  File \"/Users/jacobmarks/opt/anaconda3/lib/python3.7/site-packages/IPython/core/interactiveshell.py\", line 2040, in showtraceback\n",
      "    stb = value._render_traceback_()\n",
      "AttributeError: 'TypeError' object has no attribute '_render_traceback_'\n",
      "\n",
      "During handling of the above exception, another exception occurred:\n",
      "\n",
      "Traceback (most recent call last):\n",
      "  File \"/Users/jacobmarks/opt/anaconda3/lib/python3.7/site-packages/tensorflow_core/python/pywrap_tensorflow_internal.py\", line 18, in swig_import_helper\n",
      "    fp, pathname, description = imp.find_module('_pywrap_tensorflow_internal', [dirname(__file__)])\n",
      "  File \"/Users/jacobmarks/opt/anaconda3/lib/python3.7/imp.py\", line 296, in find_module\n",
      "    raise ImportError(_ERR_MSG.format(name), name=name)\n",
      "ImportError: No module named '_pywrap_tensorflow_internal'\n",
      "\n",
      "During handling of the above exception, another exception occurred:\n",
      "\n",
      "Traceback (most recent call last):\n",
      "  File \"/Users/jacobmarks/opt/anaconda3/lib/python3.7/site-packages/tensorflow_core/python/pywrap_tensorflow.py\", line 58, in <module>\n",
      "    from tensorflow.python.pywrap_tensorflow_internal import *\n",
      "  File \"/Users/jacobmarks/opt/anaconda3/lib/python3.7/site-packages/tensorflow_core/python/pywrap_tensorflow_internal.py\", line 28, in <module>\n",
      "    _pywrap_tensorflow_internal = swig_import_helper()\n",
      "  File \"/Users/jacobmarks/opt/anaconda3/lib/python3.7/site-packages/tensorflow_core/python/pywrap_tensorflow_internal.py\", line 20, in swig_import_helper\n",
      "    import _pywrap_tensorflow_internal\n",
      "ModuleNotFoundError: No module named '_pywrap_tensorflow_internal'\n",
      "\n",
      "During handling of the above exception, another exception occurred:\n",
      "\n",
      "Traceback (most recent call last):\n",
      "  File \"/Users/jacobmarks/opt/anaconda3/lib/python3.7/site-packages/IPython/core/ultratb.py\", line 1101, in get_records\n",
      "    return _fixed_getinnerframes(etb, number_of_lines_of_context, tb_offset)\n",
      "  File \"/Users/jacobmarks/opt/anaconda3/lib/python3.7/site-packages/IPython/core/ultratb.py\", line 319, in wrapped\n",
      "    return f(*args, **kwargs)\n",
      "  File \"/Users/jacobmarks/opt/anaconda3/lib/python3.7/site-packages/IPython/core/ultratb.py\", line 353, in _fixed_getinnerframes\n",
      "    records = fix_frame_records_filenames(inspect.getinnerframes(etb, context))\n",
      "  File \"/Users/jacobmarks/opt/anaconda3/lib/python3.7/inspect.py\", line 1502, in getinnerframes\n",
      "    frameinfo = (tb.tb_frame,) + getframeinfo(tb, context)\n",
      "  File \"/Users/jacobmarks/opt/anaconda3/lib/python3.7/inspect.py\", line 1460, in getframeinfo\n",
      "    filename = getsourcefile(frame) or getfile(frame)\n",
      "  File \"/Users/jacobmarks/opt/anaconda3/lib/python3.7/inspect.py\", line 696, in getsourcefile\n",
      "    if getattr(getmodule(object, filename), '__loader__', None) is not None:\n",
      "  File \"/Users/jacobmarks/opt/anaconda3/lib/python3.7/inspect.py\", line 733, in getmodule\n",
      "    if ismodule(module) and hasattr(module, '__file__'):\n",
      "  File \"/Users/jacobmarks/opt/anaconda3/lib/python3.7/site-packages/tensorflow/__init__.py\", line 50, in __getattr__\n",
      "    module = self._load()\n",
      "  File \"/Users/jacobmarks/opt/anaconda3/lib/python3.7/site-packages/tensorflow/__init__.py\", line 44, in _load\n",
      "    module = _importlib.import_module(self.__name__)\n",
      "  File \"/Users/jacobmarks/opt/anaconda3/lib/python3.7/importlib/__init__.py\", line 127, in import_module\n",
      "    return _bootstrap._gcd_import(name[level:], package, level)\n",
      "  File \"<frozen importlib._bootstrap>\", line 1006, in _gcd_import\n",
      "  File \"<frozen importlib._bootstrap>\", line 983, in _find_and_load\n",
      "  File \"<frozen importlib._bootstrap>\", line 953, in _find_and_load_unlocked\n",
      "  File \"<frozen importlib._bootstrap>\", line 219, in _call_with_frames_removed\n",
      "  File \"<frozen importlib._bootstrap>\", line 1006, in _gcd_import\n",
      "  File \"<frozen importlib._bootstrap>\", line 983, in _find_and_load\n",
      "  File \"<frozen importlib._bootstrap>\", line 967, in _find_and_load_unlocked\n",
      "  File \"<frozen importlib._bootstrap>\", line 677, in _load_unlocked\n",
      "  File \"<frozen importlib._bootstrap_external>\", line 728, in exec_module\n",
      "  File \"<frozen importlib._bootstrap>\", line 219, in _call_with_frames_removed\n",
      "  File \"/Users/jacobmarks/opt/anaconda3/lib/python3.7/site-packages/tensorflow_core/__init__.py\", line 42, in <module>\n",
      "    from . _api.v2 import audio\n",
      "  File \"/Users/jacobmarks/opt/anaconda3/lib/python3.7/site-packages/tensorflow_core/_api/v2/audio/__init__.py\", line 10, in <module>\n",
      "    from tensorflow.python.ops.gen_audio_ops import decode_wav\n",
      "  File \"/Users/jacobmarks/opt/anaconda3/lib/python3.7/site-packages/tensorflow_core/python/ops/gen_audio_ops.py\", line 10, in <module>\n",
      "    from tensorflow.python import pywrap_tensorflow as _pywrap_tensorflow\n",
      "  File \"/Users/jacobmarks/opt/anaconda3/lib/python3.7/site-packages/tensorflow/__init__.py\", line 50, in __getattr__\n",
      "    module = self._load()\n",
      "  File \"/Users/jacobmarks/opt/anaconda3/lib/python3.7/site-packages/tensorflow/__init__.py\", line 44, in _load\n",
      "    module = _importlib.import_module(self.__name__)\n",
      "  File \"/Users/jacobmarks/opt/anaconda3/lib/python3.7/importlib/__init__.py\", line 127, in import_module\n",
      "    return _bootstrap._gcd_import(name[level:], package, level)\n",
      "  File \"/Users/jacobmarks/opt/anaconda3/lib/python3.7/site-packages/tensorflow_core/python/__init__.py\", line 49, in <module>\n",
      "    from tensorflow.python import pywrap_tensorflow\n",
      "  File \"/Users/jacobmarks/opt/anaconda3/lib/python3.7/site-packages/tensorflow_core/python/pywrap_tensorflow.py\", line 74, in <module>\n",
      "    raise ImportError(msg)\n",
      "ImportError: Traceback (most recent call last):\n",
      "  File \"/Users/jacobmarks/opt/anaconda3/lib/python3.7/site-packages/tensorflow_core/python/pywrap_tensorflow_internal.py\", line 18, in swig_import_helper\n",
      "    fp, pathname, description = imp.find_module('_pywrap_tensorflow_internal', [dirname(__file__)])\n",
      "  File \"/Users/jacobmarks/opt/anaconda3/lib/python3.7/imp.py\", line 296, in find_module\n",
      "    raise ImportError(_ERR_MSG.format(name), name=name)\n",
      "ImportError: No module named '_pywrap_tensorflow_internal'\n",
      "\n",
      "During handling of the above exception, another exception occurred:\n",
      "\n",
      "Traceback (most recent call last):\n",
      "  File \"/Users/jacobmarks/opt/anaconda3/lib/python3.7/site-packages/tensorflow_core/python/pywrap_tensorflow.py\", line 58, in <module>\n",
      "    from tensorflow.python.pywrap_tensorflow_internal import *\n",
      "  File \"/Users/jacobmarks/opt/anaconda3/lib/python3.7/site-packages/tensorflow_core/python/pywrap_tensorflow_internal.py\", line 28, in <module>\n",
      "    _pywrap_tensorflow_internal = swig_import_helper()\n",
      "  File \"/Users/jacobmarks/opt/anaconda3/lib/python3.7/site-packages/tensorflow_core/python/pywrap_tensorflow_internal.py\", line 20, in swig_import_helper\n",
      "    import _pywrap_tensorflow_internal\n",
      "ModuleNotFoundError: No module named '_pywrap_tensorflow_internal'\n",
      "\n",
      "During handling of the above exception, another exception occurred:\n",
      "\n",
      "Traceback (most recent call last):\n",
      "  File \"/Users/jacobmarks/opt/anaconda3/lib/python3.7/site-packages/transformers/utils/import_utils.py\", line 1002, in _get_module\n",
      "    return importlib.import_module(\".\" + module_name, self.__name__)\n",
      "  File \"/Users/jacobmarks/opt/anaconda3/lib/python3.7/importlib/__init__.py\", line 127, in import_module\n",
      "    return _bootstrap._gcd_import(name[level:], package, level)\n",
      "  File \"<frozen importlib._bootstrap>\", line 1006, in _gcd_import\n",
      "  File \"<frozen importlib._bootstrap>\", line 983, in _find_and_load\n",
      "  File \"<frozen importlib._bootstrap>\", line 967, in _find_and_load_unlocked\n",
      "  File \"<frozen importlib._bootstrap>\", line 677, in _load_unlocked\n",
      "  File \"<frozen importlib._bootstrap_external>\", line 728, in exec_module\n",
      "  File \"<frozen importlib._bootstrap>\", line 219, in _call_with_frames_removed\n",
      "  File \"/Users/jacobmarks/opt/anaconda3/lib/python3.7/site-packages/transformers/pipelines/__init__.py\", line 37, in <module>\n",
      "    from .audio_classification import AudioClassificationPipeline\n",
      "  File \"/Users/jacobmarks/opt/anaconda3/lib/python3.7/site-packages/transformers/pipelines/audio_classification.py\", line 20, in <module>\n",
      "    from .base import PIPELINE_INIT_ARGS, Pipeline\n",
      "  File \"/Users/jacobmarks/opt/anaconda3/lib/python3.7/site-packages/transformers/pipelines/base.py\", line 34, in <module>\n",
      "    from ..modelcard import ModelCard\n",
      "  File \"/Users/jacobmarks/opt/anaconda3/lib/python3.7/site-packages/transformers/modelcard.py\", line 44, in <module>\n",
      "    from .training_args import ParallelMode\n",
      "  File \"/Users/jacobmarks/opt/anaconda3/lib/python3.7/site-packages/transformers/training_args.py\", line 26, in <module>\n",
      "    from .trainer_utils import (\n",
      "  File \"/Users/jacobmarks/opt/anaconda3/lib/python3.7/site-packages/transformers/trainer_utils.py\", line 47, in <module>\n",
      "    import tensorflow as tf\n",
      "  File \"/Users/jacobmarks/opt/anaconda3/lib/python3.7/site-packages/tensorflow/__init__.py\", line 98, in <module>\n",
      "    from tensorflow_core import *\n",
      "  File \"/Users/jacobmarks/opt/anaconda3/lib/python3.7/site-packages/tensorflow_core/__init__.py\", line 40, in <module>\n",
      "    from tensorflow.python.tools import module_util as _module_util\n",
      "  File \"/Users/jacobmarks/opt/anaconda3/lib/python3.7/site-packages/tensorflow/__init__.py\", line 50, in __getattr__\n",
      "    module = self._load()\n",
      "  File \"/Users/jacobmarks/opt/anaconda3/lib/python3.7/site-packages/tensorflow/__init__.py\", line 44, in _load\n",
      "    module = _importlib.import_module(self.__name__)\n",
      "  File \"/Users/jacobmarks/opt/anaconda3/lib/python3.7/importlib/__init__.py\", line 127, in import_module\n",
      "    return _bootstrap._gcd_import(name[level:], package, level)\n",
      "  File \"/Users/jacobmarks/opt/anaconda3/lib/python3.7/site-packages/tensorflow_core/python/__init__.py\", line 49, in <module>\n",
      "    from tensorflow.python import pywrap_tensorflow\n",
      "  File \"/Users/jacobmarks/opt/anaconda3/lib/python3.7/site-packages/tensorflow_core/python/pywrap_tensorflow.py\", line 74, in <module>\n",
      "    raise ImportError(msg)\n",
      "ImportError: Traceback (most recent call last):\n",
      "  File \"/Users/jacobmarks/opt/anaconda3/lib/python3.7/site-packages/tensorflow_core/python/pywrap_tensorflow_internal.py\", line 18, in swig_import_helper\n",
      "    fp, pathname, description = imp.find_module('_pywrap_tensorflow_internal', [dirname(__file__)])\n",
      "  File \"/Users/jacobmarks/opt/anaconda3/lib/python3.7/imp.py\", line 296, in find_module\n",
      "    raise ImportError(_ERR_MSG.format(name), name=name)\n",
      "ImportError: No module named '_pywrap_tensorflow_internal'\n",
      "\n",
      "During handling of the above exception, another exception occurred:\n",
      "\n",
      "Traceback (most recent call last):\n",
      "  File \"/Users/jacobmarks/opt/anaconda3/lib/python3.7/site-packages/tensorflow_core/python/pywrap_tensorflow.py\", line 58, in <module>\n",
      "    from tensorflow.python.pywrap_tensorflow_internal import *\n",
      "  File \"/Users/jacobmarks/opt/anaconda3/lib/python3.7/site-packages/tensorflow_core/python/pywrap_tensorflow_internal.py\", line 28, in <module>\n",
      "    _pywrap_tensorflow_internal = swig_import_helper()\n",
      "  File \"/Users/jacobmarks/opt/anaconda3/lib/python3.7/site-packages/tensorflow_core/python/pywrap_tensorflow_internal.py\", line 20, in swig_import_helper\n",
      "    import _pywrap_tensorflow_internal\n",
      "ModuleNotFoundError: No module named '_pywrap_tensorflow_internal'\n",
      "\n",
      "\n",
      "Failed to load the native TensorFlow runtime.\n",
      "\n",
      "See https://www.tensorflow.org/install/errors\n",
      "\n",
      "for some common reasons and solutions.  Include the entire stack trace\n",
      "above this error message when asking for help.\n",
      "\n",
      "The above exception was the direct cause of the following exception:\n",
      "\n",
      "Traceback (most recent call last):\n",
      "  File \"/Users/jacobmarks/opt/anaconda3/lib/python3.7/site-packages/IPython/core/interactiveshell.py\", line 3326, in run_code\n",
      "    exec(code_obj, self.user_global_ns, self.user_ns)\n",
      "  File \"<ipython-input-401-39d8a0f9dd4a>\", line 1, in <module>\n",
      "    from transformers import pipeline\n",
      "  File \"<frozen importlib._bootstrap>\", line 1032, in _handle_fromlist\n",
      "  File \"/Users/jacobmarks/opt/anaconda3/lib/python3.7/site-packages/transformers/utils/import_utils.py\", line 992, in __getattr__\n",
      "    module = self._get_module(self._class_to_module[name])\n",
      "  File \"/Users/jacobmarks/opt/anaconda3/lib/python3.7/site-packages/transformers/utils/import_utils.py\", line 1007, in _get_module\n",
      "    ) from e\n",
      "RuntimeError: Failed to import transformers.pipelines because of the following error (look up to see its traceback):\n",
      "Traceback (most recent call last):\n",
      "  File \"/Users/jacobmarks/opt/anaconda3/lib/python3.7/site-packages/tensorflow_core/python/pywrap_tensorflow_internal.py\", line 18, in swig_import_helper\n",
      "    fp, pathname, description = imp.find_module('_pywrap_tensorflow_internal', [dirname(__file__)])\n",
      "  File \"/Users/jacobmarks/opt/anaconda3/lib/python3.7/imp.py\", line 296, in find_module\n",
      "    raise ImportError(_ERR_MSG.format(name), name=name)\n",
      "ImportError: No module named '_pywrap_tensorflow_internal'\n",
      "\n",
      "During handling of the above exception, another exception occurred:\n",
      "\n",
      "Traceback (most recent call last):\n",
      "  File \"/Users/jacobmarks/opt/anaconda3/lib/python3.7/site-packages/tensorflow_core/python/pywrap_tensorflow.py\", line 58, in <module>\n",
      "    from tensorflow.python.pywrap_tensorflow_internal import *\n",
      "  File \"/Users/jacobmarks/opt/anaconda3/lib/python3.7/site-packages/tensorflow_core/python/pywrap_tensorflow_internal.py\", line 28, in <module>\n",
      "    _pywrap_tensorflow_internal = swig_import_helper()\n",
      "  File \"/Users/jacobmarks/opt/anaconda3/lib/python3.7/site-packages/tensorflow_core/python/pywrap_tensorflow_internal.py\", line 20, in swig_import_helper\n",
      "    import _pywrap_tensorflow_internal\n",
      "ModuleNotFoundError: No module named '_pywrap_tensorflow_internal'\n",
      "\n",
      "\n",
      "Failed to load the native TensorFlow runtime.\n",
      "\n",
      "See https://www.tensorflow.org/install/errors\n",
      "\n",
      "for some common reasons and solutions.  Include the entire stack trace\n",
      "above this error message when asking for help.\n",
      "\n",
      "During handling of the above exception, another exception occurred:\n",
      "\n",
      "Traceback (most recent call last):\n",
      "  File \"/Users/jacobmarks/opt/anaconda3/lib/python3.7/site-packages/IPython/core/interactiveshell.py\", line 2040, in showtraceback\n",
      "    stb = value._render_traceback_()\n",
      "AttributeError: 'RuntimeError' object has no attribute '_render_traceback_'\n",
      "\n",
      "During handling of the above exception, another exception occurred:\n",
      "\n",
      "Traceback (most recent call last):\n",
      "  File \"/Users/jacobmarks/opt/anaconda3/lib/python3.7/site-packages/IPython/core/interactiveshell.py\", line 3249, in run_ast_nodes\n",
      "    if (await self.run_code(code, result,  async_=asy)):\n",
      "  File \"/Users/jacobmarks/opt/anaconda3/lib/python3.7/site-packages/IPython/core/interactiveshell.py\", line 3343, in run_code\n",
      "    self.showtraceback(running_compiled_code=True)\n",
      "  File \"/Users/jacobmarks/opt/anaconda3/lib/python3.7/site-packages/IPython/core/interactiveshell.py\", line 2043, in showtraceback\n",
      "    value, tb, tb_offset=tb_offset)\n",
      "  File \"/Users/jacobmarks/opt/anaconda3/lib/python3.7/site-packages/IPython/core/ultratb.py\", line 1385, in structured_traceback\n",
      "    self, etype, value, tb, tb_offset, number_of_lines_of_context)\n",
      "  File \"/Users/jacobmarks/opt/anaconda3/lib/python3.7/site-packages/IPython/core/ultratb.py\", line 1288, in structured_traceback\n",
      "    self, etype, value, tb, tb_offset, number_of_lines_of_context\n",
      "  File \"/Users/jacobmarks/opt/anaconda3/lib/python3.7/site-packages/IPython/core/ultratb.py\", line 1150, in structured_traceback\n",
      "    formatted_exceptions += self.prepare_chained_exception_message(evalue.__cause__)\n",
      "TypeError: can only concatenate str (not \"list\") to str\n",
      "\n",
      "During handling of the above exception, another exception occurred:\n",
      "\n",
      "Traceback (most recent call last):\n",
      "  File \"/Users/jacobmarks/opt/anaconda3/lib/python3.7/site-packages/IPython/core/interactiveshell.py\", line 2040, in showtraceback\n",
      "    stb = value._render_traceback_()\n",
      "AttributeError: 'TypeError' object has no attribute '_render_traceback_'\n",
      "\n",
      "During handling of the above exception, another exception occurred:\n",
      "\n",
      "Traceback (most recent call last):\n",
      "  File \"/Users/jacobmarks/opt/anaconda3/lib/python3.7/site-packages/tensorflow_core/python/pywrap_tensorflow_internal.py\", line 18, in swig_import_helper\n",
      "    fp, pathname, description = imp.find_module('_pywrap_tensorflow_internal', [dirname(__file__)])\n",
      "  File \"/Users/jacobmarks/opt/anaconda3/lib/python3.7/imp.py\", line 296, in find_module\n",
      "    raise ImportError(_ERR_MSG.format(name), name=name)\n",
      "ImportError: No module named '_pywrap_tensorflow_internal'\n",
      "\n",
      "During handling of the above exception, another exception occurred:\n",
      "\n",
      "Traceback (most recent call last):\n",
      "  File \"/Users/jacobmarks/opt/anaconda3/lib/python3.7/site-packages/tensorflow_core/python/pywrap_tensorflow.py\", line 58, in <module>\n",
      "    from tensorflow.python.pywrap_tensorflow_internal import *\n",
      "  File \"/Users/jacobmarks/opt/anaconda3/lib/python3.7/site-packages/tensorflow_core/python/pywrap_tensorflow_internal.py\", line 28, in <module>\n",
      "    _pywrap_tensorflow_internal = swig_import_helper()\n",
      "  File \"/Users/jacobmarks/opt/anaconda3/lib/python3.7/site-packages/tensorflow_core/python/pywrap_tensorflow_internal.py\", line 20, in swig_import_helper\n",
      "    import _pywrap_tensorflow_internal\n",
      "ModuleNotFoundError: No module named '_pywrap_tensorflow_internal'\n",
      "\n",
      "\n",
      "Failed to load the native TensorFlow runtime.\n",
      "\n",
      "See https://www.tensorflow.org/install/errors\n",
      "\n",
      "for some common reasons and solutions.  Include the entire stack trace\n",
      "above this error message when asking for help.\n",
      "Traceback (most recent call last):\n",
      "  File \"/Users/jacobmarks/opt/anaconda3/lib/python3.7/site-packages/tensorflow_core/python/pywrap_tensorflow_internal.py\", line 18, in swig_import_helper\n",
      "    fp, pathname, description = imp.find_module('_pywrap_tensorflow_internal', [dirname(__file__)])\n",
      "  File \"/Users/jacobmarks/opt/anaconda3/lib/python3.7/imp.py\", line 296, in find_module\n",
      "    raise ImportError(_ERR_MSG.format(name), name=name)\n",
      "ImportError: No module named '_pywrap_tensorflow_internal'\n",
      "\n",
      "During handling of the above exception, another exception occurred:\n",
      "\n",
      "Traceback (most recent call last):\n",
      "  File \"/Users/jacobmarks/opt/anaconda3/lib/python3.7/site-packages/tensorflow_core/python/pywrap_tensorflow.py\", line 58, in <module>\n",
      "    from tensorflow.python.pywrap_tensorflow_internal import *\n",
      "  File \"/Users/jacobmarks/opt/anaconda3/lib/python3.7/site-packages/tensorflow_core/python/pywrap_tensorflow_internal.py\", line 28, in <module>\n",
      "    _pywrap_tensorflow_internal = swig_import_helper()\n",
      "  File \"/Users/jacobmarks/opt/anaconda3/lib/python3.7/site-packages/tensorflow_core/python/pywrap_tensorflow_internal.py\", line 20, in swig_import_helper\n",
      "    import _pywrap_tensorflow_internal\n",
      "ModuleNotFoundError: No module named '_pywrap_tensorflow_internal'\n",
      "\n",
      "During handling of the above exception, another exception occurred:\n",
      "\n",
      "Traceback (most recent call last):\n",
      "  File \"/Users/jacobmarks/opt/anaconda3/lib/python3.7/site-packages/transformers/utils/import_utils.py\", line 1002, in _get_module\n",
      "    return importlib.import_module(\".\" + module_name, self.__name__)\n",
      "  File \"/Users/jacobmarks/opt/anaconda3/lib/python3.7/importlib/__init__.py\", line 127, in import_module\n",
      "    return _bootstrap._gcd_import(name[level:], package, level)\n",
      "  File \"<frozen importlib._bootstrap>\", line 1006, in _gcd_import\n",
      "  File \"<frozen importlib._bootstrap>\", line 983, in _find_and_load\n",
      "  File \"<frozen importlib._bootstrap>\", line 967, in _find_and_load_unlocked\n",
      "  File \"<frozen importlib._bootstrap>\", line 677, in _load_unlocked\n",
      "  File \"<frozen importlib._bootstrap_external>\", line 728, in exec_module\n",
      "  File \"<frozen importlib._bootstrap>\", line 219, in _call_with_frames_removed\n",
      "  File \"/Users/jacobmarks/opt/anaconda3/lib/python3.7/site-packages/transformers/pipelines/__init__.py\", line 37, in <module>\n",
      "    from .audio_classification import AudioClassificationPipeline\n",
      "  File \"/Users/jacobmarks/opt/anaconda3/lib/python3.7/site-packages/transformers/pipelines/audio_classification.py\", line 20, in <module>\n",
      "    from .base import PIPELINE_INIT_ARGS, Pipeline\n",
      "  File \"/Users/jacobmarks/opt/anaconda3/lib/python3.7/site-packages/transformers/pipelines/base.py\", line 34, in <module>\n",
      "    from ..modelcard import ModelCard\n",
      "  File \"/Users/jacobmarks/opt/anaconda3/lib/python3.7/site-packages/transformers/modelcard.py\", line 44, in <module>\n",
      "    from .training_args import ParallelMode\n",
      "  File \"/Users/jacobmarks/opt/anaconda3/lib/python3.7/site-packages/transformers/training_args.py\", line 26, in <module>\n",
      "    from .trainer_utils import (\n",
      "  File \"/Users/jacobmarks/opt/anaconda3/lib/python3.7/site-packages/transformers/trainer_utils.py\", line 47, in <module>\n",
      "    import tensorflow as tf\n",
      "  File \"/Users/jacobmarks/opt/anaconda3/lib/python3.7/site-packages/tensorflow/__init__.py\", line 98, in <module>\n",
      "    from tensorflow_core import *\n",
      "  File \"/Users/jacobmarks/opt/anaconda3/lib/python3.7/site-packages/tensorflow_core/__init__.py\", line 40, in <module>\n",
      "    from tensorflow.python.tools import module_util as _module_util\n",
      "  File \"/Users/jacobmarks/opt/anaconda3/lib/python3.7/site-packages/tensorflow/__init__.py\", line 50, in __getattr__\n",
      "    module = self._load()\n",
      "  File \"/Users/jacobmarks/opt/anaconda3/lib/python3.7/site-packages/tensorflow/__init__.py\", line 44, in _load\n",
      "    module = _importlib.import_module(self.__name__)\n",
      "  File \"/Users/jacobmarks/opt/anaconda3/lib/python3.7/importlib/__init__.py\", line 127, in import_module\n",
      "    return _bootstrap._gcd_import(name[level:], package, level)\n",
      "  File \"/Users/jacobmarks/opt/anaconda3/lib/python3.7/site-packages/tensorflow_core/python/__init__.py\", line 49, in <module>\n",
      "    from tensorflow.python import pywrap_tensorflow\n",
      "  File \"/Users/jacobmarks/opt/anaconda3/lib/python3.7/site-packages/tensorflow_core/python/pywrap_tensorflow.py\", line 74, in <module>\n",
      "    raise ImportError(msg)\n",
      "ImportError: Traceback (most recent call last):\n",
      "  File \"/Users/jacobmarks/opt/anaconda3/lib/python3.7/site-packages/tensorflow_core/python/pywrap_tensorflow_internal.py\", line 18, in swig_import_helper\n",
      "    fp, pathname, description = imp.find_module('_pywrap_tensorflow_internal', [dirname(__file__)])\n",
      "  File \"/Users/jacobmarks/opt/anaconda3/lib/python3.7/imp.py\", line 296, in find_module\n",
      "    raise ImportError(_ERR_MSG.format(name), name=name)\n",
      "ImportError: No module named '_pywrap_tensorflow_internal'\n",
      "\n",
      "During handling of the above exception, another exception occurred:\n",
      "\n",
      "Traceback (most recent call last):\n",
      "  File \"/Users/jacobmarks/opt/anaconda3/lib/python3.7/site-packages/tensorflow_core/python/pywrap_tensorflow.py\", line 58, in <module>\n",
      "    from tensorflow.python.pywrap_tensorflow_internal import *\n",
      "  File \"/Users/jacobmarks/opt/anaconda3/lib/python3.7/site-packages/tensorflow_core/python/pywrap_tensorflow_internal.py\", line 28, in <module>\n",
      "    _pywrap_tensorflow_internal = swig_import_helper()\n",
      "  File \"/Users/jacobmarks/opt/anaconda3/lib/python3.7/site-packages/tensorflow_core/python/pywrap_tensorflow_internal.py\", line 20, in swig_import_helper\n",
      "    import _pywrap_tensorflow_internal\n",
      "ModuleNotFoundError: No module named '_pywrap_tensorflow_internal'\n",
      "\n",
      "\n",
      "Failed to load the native TensorFlow runtime.\n",
      "\n",
      "See https://www.tensorflow.org/install/errors\n",
      "\n",
      "for some common reasons and solutions.  Include the entire stack trace\n",
      "above this error message when asking for help.\n",
      "\n",
      "The above exception was the direct cause of the following exception:\n",
      "\n",
      "Traceback (most recent call last):\n",
      "  File \"/Users/jacobmarks/opt/anaconda3/lib/python3.7/site-packages/IPython/core/interactiveshell.py\", line 3326, in run_code\n",
      "    exec(code_obj, self.user_global_ns, self.user_ns)\n",
      "  File \"<ipython-input-401-39d8a0f9dd4a>\", line 1, in <module>\n",
      "    from transformers import pipeline\n",
      "  File \"<frozen importlib._bootstrap>\", line 1032, in _handle_fromlist\n",
      "  File \"/Users/jacobmarks/opt/anaconda3/lib/python3.7/site-packages/transformers/utils/import_utils.py\", line 992, in __getattr__\n",
      "    module = self._get_module(self._class_to_module[name])\n",
      "  File \"/Users/jacobmarks/opt/anaconda3/lib/python3.7/site-packages/transformers/utils/import_utils.py\", line 1007, in _get_module\n",
      "    ) from e\n",
      "RuntimeError: Failed to import transformers.pipelines because of the following error (look up to see its traceback):\n",
      "Traceback (most recent call last):\n",
      "  File \"/Users/jacobmarks/opt/anaconda3/lib/python3.7/site-packages/tensorflow_core/python/pywrap_tensorflow_internal.py\", line 18, in swig_import_helper\n",
      "    fp, pathname, description = imp.find_module('_pywrap_tensorflow_internal', [dirname(__file__)])\n",
      "  File \"/Users/jacobmarks/opt/anaconda3/lib/python3.7/imp.py\", line 296, in find_module\n",
      "    raise ImportError(_ERR_MSG.format(name), name=name)\n",
      "ImportError: No module named '_pywrap_tensorflow_internal'\n",
      "\n",
      "During handling of the above exception, another exception occurred:\n",
      "\n",
      "Traceback (most recent call last):\n",
      "  File \"/Users/jacobmarks/opt/anaconda3/lib/python3.7/site-packages/tensorflow_core/python/pywrap_tensorflow.py\", line 58, in <module>\n",
      "    from tensorflow.python.pywrap_tensorflow_internal import *\n",
      "  File \"/Users/jacobmarks/opt/anaconda3/lib/python3.7/site-packages/tensorflow_core/python/pywrap_tensorflow_internal.py\", line 28, in <module>\n",
      "    _pywrap_tensorflow_internal = swig_import_helper()\n",
      "  File \"/Users/jacobmarks/opt/anaconda3/lib/python3.7/site-packages/tensorflow_core/python/pywrap_tensorflow_internal.py\", line 20, in swig_import_helper\n",
      "    import _pywrap_tensorflow_internal\n",
      "ModuleNotFoundError: No module named '_pywrap_tensorflow_internal'\n",
      "\n",
      "\n",
      "Failed to load the native TensorFlow runtime.\n",
      "\n",
      "See https://www.tensorflow.org/install/errors\n",
      "\n",
      "for some common reasons and solutions.  Include the entire stack trace\n",
      "above this error message when asking for help.\n",
      "\n",
      "During handling of the above exception, another exception occurred:\n",
      "\n",
      "Traceback (most recent call last):\n",
      "  File \"/Users/jacobmarks/opt/anaconda3/lib/python3.7/site-packages/IPython/core/interactiveshell.py\", line 2040, in showtraceback\n",
      "    stb = value._render_traceback_()\n",
      "AttributeError: 'RuntimeError' object has no attribute '_render_traceback_'\n",
      "\n",
      "During handling of the above exception, another exception occurred:\n",
      "\n",
      "Traceback (most recent call last):\n",
      "  File \"/Users/jacobmarks/opt/anaconda3/lib/python3.7/site-packages/IPython/core/interactiveshell.py\", line 3249, in run_ast_nodes\n",
      "    if (await self.run_code(code, result,  async_=asy)):\n",
      "  File \"/Users/jacobmarks/opt/anaconda3/lib/python3.7/site-packages/IPython/core/interactiveshell.py\", line 3343, in run_code\n",
      "    self.showtraceback(running_compiled_code=True)\n",
      "  File \"/Users/jacobmarks/opt/anaconda3/lib/python3.7/site-packages/IPython/core/interactiveshell.py\", line 2043, in showtraceback\n",
      "    value, tb, tb_offset=tb_offset)\n",
      "  File \"/Users/jacobmarks/opt/anaconda3/lib/python3.7/site-packages/IPython/core/ultratb.py\", line 1385, in structured_traceback\n",
      "    self, etype, value, tb, tb_offset, number_of_lines_of_context)\n",
      "  File \"/Users/jacobmarks/opt/anaconda3/lib/python3.7/site-packages/IPython/core/ultratb.py\", line 1288, in structured_traceback\n",
      "    self, etype, value, tb, tb_offset, number_of_lines_of_context\n",
      "  File \"/Users/jacobmarks/opt/anaconda3/lib/python3.7/site-packages/IPython/core/ultratb.py\", line 1150, in structured_traceback\n",
      "    formatted_exceptions += self.prepare_chained_exception_message(evalue.__cause__)\n",
      "TypeError: can only concatenate str (not \"list\") to str\n",
      "\n",
      "During handling of the above exception, another exception occurred:\n",
      "\n",
      "Traceback (most recent call last):\n",
      "  File \"/Users/jacobmarks/opt/anaconda3/lib/python3.7/site-packages/IPython/core/interactiveshell.py\", line 2040, in showtraceback\n",
      "    stb = value._render_traceback_()\n",
      "AttributeError: 'TypeError' object has no attribute '_render_traceback_'\n",
      "\n",
      "During handling of the above exception, another exception occurred:\n",
      "\n",
      "Traceback (most recent call last):\n",
      "  File \"/Users/jacobmarks/opt/anaconda3/lib/python3.7/site-packages/tensorflow_core/python/pywrap_tensorflow_internal.py\", line 18, in swig_import_helper\n",
      "    fp, pathname, description = imp.find_module('_pywrap_tensorflow_internal', [dirname(__file__)])\n",
      "  File \"/Users/jacobmarks/opt/anaconda3/lib/python3.7/imp.py\", line 296, in find_module\n",
      "    raise ImportError(_ERR_MSG.format(name), name=name)\n",
      "ImportError: No module named '_pywrap_tensorflow_internal'\n",
      "\n",
      "During handling of the above exception, another exception occurred:\n",
      "\n",
      "Traceback (most recent call last):\n",
      "  File \"/Users/jacobmarks/opt/anaconda3/lib/python3.7/site-packages/tensorflow_core/python/pywrap_tensorflow.py\", line 58, in <module>\n",
      "    from tensorflow.python.pywrap_tensorflow_internal import *\n",
      "  File \"/Users/jacobmarks/opt/anaconda3/lib/python3.7/site-packages/tensorflow_core/python/pywrap_tensorflow_internal.py\", line 28, in <module>\n",
      "    _pywrap_tensorflow_internal = swig_import_helper()\n",
      "  File \"/Users/jacobmarks/opt/anaconda3/lib/python3.7/site-packages/tensorflow_core/python/pywrap_tensorflow_internal.py\", line 20, in swig_import_helper\n",
      "    import _pywrap_tensorflow_internal\n",
      "ModuleNotFoundError: No module named '_pywrap_tensorflow_internal'\n",
      "\n",
      "During handling of the above exception, another exception occurred:\n",
      "\n",
      "Traceback (most recent call last):\n",
      "  File \"/Users/jacobmarks/opt/anaconda3/lib/python3.7/site-packages/IPython/core/ultratb.py\", line 1101, in get_records\n",
      "    return _fixed_getinnerframes(etb, number_of_lines_of_context, tb_offset)\n",
      "  File \"/Users/jacobmarks/opt/anaconda3/lib/python3.7/site-packages/IPython/core/ultratb.py\", line 319, in wrapped\n",
      "    return f(*args, **kwargs)\n",
      "  File \"/Users/jacobmarks/opt/anaconda3/lib/python3.7/site-packages/IPython/core/ultratb.py\", line 353, in _fixed_getinnerframes\n",
      "    records = fix_frame_records_filenames(inspect.getinnerframes(etb, context))\n",
      "  File \"/Users/jacobmarks/opt/anaconda3/lib/python3.7/inspect.py\", line 1502, in getinnerframes\n",
      "    frameinfo = (tb.tb_frame,) + getframeinfo(tb, context)\n",
      "  File \"/Users/jacobmarks/opt/anaconda3/lib/python3.7/inspect.py\", line 1460, in getframeinfo\n",
      "    filename = getsourcefile(frame) or getfile(frame)\n",
      "  File \"/Users/jacobmarks/opt/anaconda3/lib/python3.7/inspect.py\", line 696, in getsourcefile\n",
      "    if getattr(getmodule(object, filename), '__loader__', None) is not None:\n",
      "  File \"/Users/jacobmarks/opt/anaconda3/lib/python3.7/inspect.py\", line 733, in getmodule\n",
      "    if ismodule(module) and hasattr(module, '__file__'):\n",
      "  File \"/Users/jacobmarks/opt/anaconda3/lib/python3.7/site-packages/tensorflow/__init__.py\", line 50, in __getattr__\n",
      "    module = self._load()\n",
      "  File \"/Users/jacobmarks/opt/anaconda3/lib/python3.7/site-packages/tensorflow/__init__.py\", line 44, in _load\n",
      "    module = _importlib.import_module(self.__name__)\n",
      "  File \"/Users/jacobmarks/opt/anaconda3/lib/python3.7/importlib/__init__.py\", line 127, in import_module\n",
      "    return _bootstrap._gcd_import(name[level:], package, level)\n",
      "  File \"<frozen importlib._bootstrap>\", line 1006, in _gcd_import\n",
      "  File \"<frozen importlib._bootstrap>\", line 983, in _find_and_load\n",
      "  File \"<frozen importlib._bootstrap>\", line 953, in _find_and_load_unlocked\n",
      "  File \"<frozen importlib._bootstrap>\", line 219, in _call_with_frames_removed\n",
      "  File \"<frozen importlib._bootstrap>\", line 1006, in _gcd_import\n",
      "  File \"<frozen importlib._bootstrap>\", line 983, in _find_and_load\n",
      "  File \"<frozen importlib._bootstrap>\", line 967, in _find_and_load_unlocked\n",
      "  File \"<frozen importlib._bootstrap>\", line 677, in _load_unlocked\n",
      "  File \"<frozen importlib._bootstrap_external>\", line 728, in exec_module\n",
      "  File \"<frozen importlib._bootstrap>\", line 219, in _call_with_frames_removed\n",
      "  File \"/Users/jacobmarks/opt/anaconda3/lib/python3.7/site-packages/tensorflow_core/__init__.py\", line 42, in <module>\n",
      "    from . _api.v2 import audio\n",
      "  File \"/Users/jacobmarks/opt/anaconda3/lib/python3.7/site-packages/tensorflow_core/_api/v2/audio/__init__.py\", line 10, in <module>\n",
      "    from tensorflow.python.ops.gen_audio_ops import decode_wav\n",
      "  File \"/Users/jacobmarks/opt/anaconda3/lib/python3.7/site-packages/tensorflow_core/python/ops/gen_audio_ops.py\", line 10, in <module>\n",
      "    from tensorflow.python import pywrap_tensorflow as _pywrap_tensorflow\n",
      "  File \"/Users/jacobmarks/opt/anaconda3/lib/python3.7/site-packages/tensorflow/__init__.py\", line 50, in __getattr__\n",
      "    module = self._load()\n",
      "  File \"/Users/jacobmarks/opt/anaconda3/lib/python3.7/site-packages/tensorflow/__init__.py\", line 44, in _load\n",
      "    module = _importlib.import_module(self.__name__)\n",
      "  File \"/Users/jacobmarks/opt/anaconda3/lib/python3.7/importlib/__init__.py\", line 127, in import_module\n",
      "    return _bootstrap._gcd_import(name[level:], package, level)\n",
      "  File \"/Users/jacobmarks/opt/anaconda3/lib/python3.7/site-packages/tensorflow_core/python/__init__.py\", line 49, in <module>\n",
      "    from tensorflow.python import pywrap_tensorflow\n",
      "  File \"/Users/jacobmarks/opt/anaconda3/lib/python3.7/site-packages/tensorflow_core/python/pywrap_tensorflow.py\", line 74, in <module>\n",
      "    raise ImportError(msg)\n",
      "ImportError: Traceback (most recent call last):\n",
      "  File \"/Users/jacobmarks/opt/anaconda3/lib/python3.7/site-packages/tensorflow_core/python/pywrap_tensorflow_internal.py\", line 18, in swig_import_helper\n",
      "    fp, pathname, description = imp.find_module('_pywrap_tensorflow_internal', [dirname(__file__)])\n",
      "  File \"/Users/jacobmarks/opt/anaconda3/lib/python3.7/imp.py\", line 296, in find_module\n",
      "    raise ImportError(_ERR_MSG.format(name), name=name)\n",
      "ImportError: No module named '_pywrap_tensorflow_internal'\n",
      "\n",
      "During handling of the above exception, another exception occurred:\n",
      "\n",
      "Traceback (most recent call last):\n",
      "  File \"/Users/jacobmarks/opt/anaconda3/lib/python3.7/site-packages/tensorflow_core/python/pywrap_tensorflow.py\", line 58, in <module>\n",
      "    from tensorflow.python.pywrap_tensorflow_internal import *\n",
      "  File \"/Users/jacobmarks/opt/anaconda3/lib/python3.7/site-packages/tensorflow_core/python/pywrap_tensorflow_internal.py\", line 28, in <module>\n",
      "    _pywrap_tensorflow_internal = swig_import_helper()\n",
      "  File \"/Users/jacobmarks/opt/anaconda3/lib/python3.7/site-packages/tensorflow_core/python/pywrap_tensorflow_internal.py\", line 20, in swig_import_helper\n",
      "    import _pywrap_tensorflow_internal\n",
      "ModuleNotFoundError: No module named '_pywrap_tensorflow_internal'\n",
      "\n",
      "During handling of the above exception, another exception occurred:\n",
      "\n",
      "Traceback (most recent call last):\n",
      "  File \"/Users/jacobmarks/opt/anaconda3/lib/python3.7/site-packages/transformers/utils/import_utils.py\", line 1002, in _get_module\n",
      "    return importlib.import_module(\".\" + module_name, self.__name__)\n",
      "  File \"/Users/jacobmarks/opt/anaconda3/lib/python3.7/importlib/__init__.py\", line 127, in import_module\n",
      "    return _bootstrap._gcd_import(name[level:], package, level)\n",
      "  File \"<frozen importlib._bootstrap>\", line 1006, in _gcd_import\n",
      "  File \"<frozen importlib._bootstrap>\", line 983, in _find_and_load\n",
      "  File \"<frozen importlib._bootstrap>\", line 967, in _find_and_load_unlocked\n",
      "  File \"<frozen importlib._bootstrap>\", line 677, in _load_unlocked\n",
      "  File \"<frozen importlib._bootstrap_external>\", line 728, in exec_module\n",
      "  File \"<frozen importlib._bootstrap>\", line 219, in _call_with_frames_removed\n",
      "  File \"/Users/jacobmarks/opt/anaconda3/lib/python3.7/site-packages/transformers/pipelines/__init__.py\", line 37, in <module>\n",
      "    from .audio_classification import AudioClassificationPipeline\n",
      "  File \"/Users/jacobmarks/opt/anaconda3/lib/python3.7/site-packages/transformers/pipelines/audio_classification.py\", line 20, in <module>\n",
      "    from .base import PIPELINE_INIT_ARGS, Pipeline\n",
      "  File \"/Users/jacobmarks/opt/anaconda3/lib/python3.7/site-packages/transformers/pipelines/base.py\", line 34, in <module>\n",
      "    from ..modelcard import ModelCard\n",
      "  File \"/Users/jacobmarks/opt/anaconda3/lib/python3.7/site-packages/transformers/modelcard.py\", line 44, in <module>\n",
      "    from .training_args import ParallelMode\n",
      "  File \"/Users/jacobmarks/opt/anaconda3/lib/python3.7/site-packages/transformers/training_args.py\", line 26, in <module>\n",
      "    from .trainer_utils import (\n",
      "  File \"/Users/jacobmarks/opt/anaconda3/lib/python3.7/site-packages/transformers/trainer_utils.py\", line 47, in <module>\n",
      "    import tensorflow as tf\n",
      "  File \"/Users/jacobmarks/opt/anaconda3/lib/python3.7/site-packages/tensorflow/__init__.py\", line 98, in <module>\n",
      "    from tensorflow_core import *\n",
      "  File \"/Users/jacobmarks/opt/anaconda3/lib/python3.7/site-packages/tensorflow_core/__init__.py\", line 40, in <module>\n",
      "    from tensorflow.python.tools import module_util as _module_util\n",
      "  File \"/Users/jacobmarks/opt/anaconda3/lib/python3.7/site-packages/tensorflow/__init__.py\", line 50, in __getattr__\n",
      "    module = self._load()\n",
      "  File \"/Users/jacobmarks/opt/anaconda3/lib/python3.7/site-packages/tensorflow/__init__.py\", line 44, in _load\n",
      "    module = _importlib.import_module(self.__name__)\n",
      "  File \"/Users/jacobmarks/opt/anaconda3/lib/python3.7/importlib/__init__.py\", line 127, in import_module\n",
      "    return _bootstrap._gcd_import(name[level:], package, level)\n",
      "  File \"/Users/jacobmarks/opt/anaconda3/lib/python3.7/site-packages/tensorflow_core/python/__init__.py\", line 49, in <module>\n",
      "    from tensorflow.python import pywrap_tensorflow\n",
      "  File \"/Users/jacobmarks/opt/anaconda3/lib/python3.7/site-packages/tensorflow_core/python/pywrap_tensorflow.py\", line 74, in <module>\n",
      "    raise ImportError(msg)\n",
      "ImportError: Traceback (most recent call last):\n",
      "  File \"/Users/jacobmarks/opt/anaconda3/lib/python3.7/site-packages/tensorflow_core/python/pywrap_tensorflow_internal.py\", line 18, in swig_import_helper\n",
      "    fp, pathname, description = imp.find_module('_pywrap_tensorflow_internal', [dirname(__file__)])\n",
      "  File \"/Users/jacobmarks/opt/anaconda3/lib/python3.7/imp.py\", line 296, in find_module\n",
      "    raise ImportError(_ERR_MSG.format(name), name=name)\n",
      "ImportError: No module named '_pywrap_tensorflow_internal'\n",
      "\n",
      "During handling of the above exception, another exception occurred:\n",
      "\n",
      "Traceback (most recent call last):\n",
      "  File \"/Users/jacobmarks/opt/anaconda3/lib/python3.7/site-packages/tensorflow_core/python/pywrap_tensorflow.py\", line 58, in <module>\n",
      "    from tensorflow.python.pywrap_tensorflow_internal import *\n",
      "  File \"/Users/jacobmarks/opt/anaconda3/lib/python3.7/site-packages/tensorflow_core/python/pywrap_tensorflow_internal.py\", line 28, in <module>\n",
      "    _pywrap_tensorflow_internal = swig_import_helper()\n",
      "  File \"/Users/jacobmarks/opt/anaconda3/lib/python3.7/site-packages/tensorflow_core/python/pywrap_tensorflow_internal.py\", line 20, in swig_import_helper\n",
      "    import _pywrap_tensorflow_internal\n",
      "ModuleNotFoundError: No module named '_pywrap_tensorflow_internal'\n",
      "\n",
      "\n",
      "Failed to load the native TensorFlow runtime.\n",
      "\n",
      "See https://www.tensorflow.org/install/errors\n",
      "\n",
      "for some common reasons and solutions.  Include the entire stack trace\n",
      "above this error message when asking for help.\n",
      "\n",
      "The above exception was the direct cause of the following exception:\n",
      "\n",
      "Traceback (most recent call last):\n",
      "  File \"/Users/jacobmarks/opt/anaconda3/lib/python3.7/site-packages/IPython/core/interactiveshell.py\", line 3326, in run_code\n",
      "    exec(code_obj, self.user_global_ns, self.user_ns)\n",
      "  File \"<ipython-input-401-39d8a0f9dd4a>\", line 1, in <module>\n",
      "    from transformers import pipeline\n",
      "  File \"<frozen importlib._bootstrap>\", line 1032, in _handle_fromlist\n",
      "  File \"/Users/jacobmarks/opt/anaconda3/lib/python3.7/site-packages/transformers/utils/import_utils.py\", line 992, in __getattr__\n",
      "    module = self._get_module(self._class_to_module[name])\n",
      "  File \"/Users/jacobmarks/opt/anaconda3/lib/python3.7/site-packages/transformers/utils/import_utils.py\", line 1007, in _get_module\n",
      "    ) from e\n",
      "RuntimeError: Failed to import transformers.pipelines because of the following error (look up to see its traceback):\n",
      "Traceback (most recent call last):\n",
      "  File \"/Users/jacobmarks/opt/anaconda3/lib/python3.7/site-packages/tensorflow_core/python/pywrap_tensorflow_internal.py\", line 18, in swig_import_helper\n",
      "    fp, pathname, description = imp.find_module('_pywrap_tensorflow_internal', [dirname(__file__)])\n",
      "  File \"/Users/jacobmarks/opt/anaconda3/lib/python3.7/imp.py\", line 296, in find_module\n",
      "    raise ImportError(_ERR_MSG.format(name), name=name)\n",
      "ImportError: No module named '_pywrap_tensorflow_internal'\n",
      "\n",
      "During handling of the above exception, another exception occurred:\n",
      "\n",
      "Traceback (most recent call last):\n",
      "  File \"/Users/jacobmarks/opt/anaconda3/lib/python3.7/site-packages/tensorflow_core/python/pywrap_tensorflow.py\", line 58, in <module>\n",
      "    from tensorflow.python.pywrap_tensorflow_internal import *\n",
      "  File \"/Users/jacobmarks/opt/anaconda3/lib/python3.7/site-packages/tensorflow_core/python/pywrap_tensorflow_internal.py\", line 28, in <module>\n",
      "    _pywrap_tensorflow_internal = swig_import_helper()\n",
      "  File \"/Users/jacobmarks/opt/anaconda3/lib/python3.7/site-packages/tensorflow_core/python/pywrap_tensorflow_internal.py\", line 20, in swig_import_helper\n",
      "    import _pywrap_tensorflow_internal\n",
      "ModuleNotFoundError: No module named '_pywrap_tensorflow_internal'\n",
      "\n",
      "\n",
      "Failed to load the native TensorFlow runtime.\n",
      "\n",
      "See https://www.tensorflow.org/install/errors\n",
      "\n",
      "for some common reasons and solutions.  Include the entire stack trace\n",
      "above this error message when asking for help.\n",
      "\n",
      "During handling of the above exception, another exception occurred:\n",
      "\n",
      "Traceback (most recent call last):\n",
      "  File \"/Users/jacobmarks/opt/anaconda3/lib/python3.7/site-packages/IPython/core/interactiveshell.py\", line 2040, in showtraceback\n",
      "    stb = value._render_traceback_()\n",
      "AttributeError: 'RuntimeError' object has no attribute '_render_traceback_'\n",
      "\n",
      "During handling of the above exception, another exception occurred:\n",
      "\n",
      "Traceback (most recent call last):\n",
      "  File \"/Users/jacobmarks/opt/anaconda3/lib/python3.7/site-packages/IPython/core/interactiveshell.py\", line 3249, in run_ast_nodes\n",
      "    if (await self.run_code(code, result,  async_=asy)):\n",
      "  File \"/Users/jacobmarks/opt/anaconda3/lib/python3.7/site-packages/IPython/core/interactiveshell.py\", line 3343, in run_code\n",
      "    self.showtraceback(running_compiled_code=True)\n",
      "  File \"/Users/jacobmarks/opt/anaconda3/lib/python3.7/site-packages/IPython/core/interactiveshell.py\", line 2043, in showtraceback\n",
      "    value, tb, tb_offset=tb_offset)\n",
      "  File \"/Users/jacobmarks/opt/anaconda3/lib/python3.7/site-packages/IPython/core/ultratb.py\", line 1385, in structured_traceback\n",
      "    self, etype, value, tb, tb_offset, number_of_lines_of_context)\n",
      "  File \"/Users/jacobmarks/opt/anaconda3/lib/python3.7/site-packages/IPython/core/ultratb.py\", line 1288, in structured_traceback\n",
      "    self, etype, value, tb, tb_offset, number_of_lines_of_context\n",
      "  File \"/Users/jacobmarks/opt/anaconda3/lib/python3.7/site-packages/IPython/core/ultratb.py\", line 1150, in structured_traceback\n",
      "    formatted_exceptions += self.prepare_chained_exception_message(evalue.__cause__)\n",
      "TypeError: can only concatenate str (not \"list\") to str\n",
      "\n",
      "During handling of the above exception, another exception occurred:\n",
      "\n",
      "Traceback (most recent call last):\n",
      "  File \"/Users/jacobmarks/opt/anaconda3/lib/python3.7/site-packages/IPython/core/interactiveshell.py\", line 2040, in showtraceback\n",
      "    stb = value._render_traceback_()\n",
      "AttributeError: 'TypeError' object has no attribute '_render_traceback_'\n",
      "\n",
      "During handling of the above exception, another exception occurred:\n",
      "\n",
      "Traceback (most recent call last):\n",
      "  File \"/Users/jacobmarks/opt/anaconda3/lib/python3.7/site-packages/tensorflow_core/python/pywrap_tensorflow_internal.py\", line 18, in swig_import_helper\n",
      "    fp, pathname, description = imp.find_module('_pywrap_tensorflow_internal', [dirname(__file__)])\n",
      "  File \"/Users/jacobmarks/opt/anaconda3/lib/python3.7/imp.py\", line 296, in find_module\n",
      "    raise ImportError(_ERR_MSG.format(name), name=name)\n",
      "ImportError: No module named '_pywrap_tensorflow_internal'\n",
      "\n",
      "During handling of the above exception, another exception occurred:\n",
      "\n",
      "Traceback (most recent call last):\n",
      "  File \"/Users/jacobmarks/opt/anaconda3/lib/python3.7/site-packages/tensorflow_core/python/pywrap_tensorflow.py\", line 58, in <module>\n",
      "    from tensorflow.python.pywrap_tensorflow_internal import *\n",
      "  File \"/Users/jacobmarks/opt/anaconda3/lib/python3.7/site-packages/tensorflow_core/python/pywrap_tensorflow_internal.py\", line 28, in <module>\n",
      "    _pywrap_tensorflow_internal = swig_import_helper()\n",
      "  File \"/Users/jacobmarks/opt/anaconda3/lib/python3.7/site-packages/tensorflow_core/python/pywrap_tensorflow_internal.py\", line 20, in swig_import_helper\n",
      "    import _pywrap_tensorflow_internal\n",
      "ModuleNotFoundError: No module named '_pywrap_tensorflow_internal'\n",
      "\n",
      "\n",
      "Failed to load the native TensorFlow runtime.\n",
      "\n",
      "See https://www.tensorflow.org/install/errors\n",
      "\n",
      "for some common reasons and solutions.  Include the entire stack trace\n",
      "above this error message when asking for help.\n"
     ]
    },
    {
     "ename": "TypeError",
     "evalue": "can only concatenate str (not \"list\") to str",
     "output_type": "error",
     "traceback": [
      "\u001b[0;31m---------------------------------------------------------------------------\u001b[0m",
      "\u001b[0;31mImportError\u001b[0m                               Traceback (most recent call last)",
      "\u001b[0;32m~/opt/anaconda3/lib/python3.7/site-packages/tensorflow_core/python/pywrap_tensorflow_internal.py\u001b[0m in \u001b[0;36mswig_import_helper\u001b[0;34m()\u001b[0m\n\u001b[1;32m     17\u001b[0m         \u001b[0;32mtry\u001b[0m\u001b[0;34m:\u001b[0m\u001b[0;34m\u001b[0m\u001b[0;34m\u001b[0m\u001b[0m\n\u001b[0;32m---> 18\u001b[0;31m             \u001b[0mfp\u001b[0m\u001b[0;34m,\u001b[0m \u001b[0mpathname\u001b[0m\u001b[0;34m,\u001b[0m \u001b[0mdescription\u001b[0m \u001b[0;34m=\u001b[0m \u001b[0mimp\u001b[0m\u001b[0;34m.\u001b[0m\u001b[0mfind_module\u001b[0m\u001b[0;34m(\u001b[0m\u001b[0;34m'_pywrap_tensorflow_internal'\u001b[0m\u001b[0;34m,\u001b[0m \u001b[0;34m[\u001b[0m\u001b[0mdirname\u001b[0m\u001b[0;34m(\u001b[0m\u001b[0m__file__\u001b[0m\u001b[0;34m)\u001b[0m\u001b[0;34m]\u001b[0m\u001b[0;34m)\u001b[0m\u001b[0;34m\u001b[0m\u001b[0;34m\u001b[0m\u001b[0m\n\u001b[0m\u001b[1;32m     19\u001b[0m         \u001b[0;32mexcept\u001b[0m \u001b[0mImportError\u001b[0m\u001b[0;34m:\u001b[0m\u001b[0;34m\u001b[0m\u001b[0;34m\u001b[0m\u001b[0m\n",
      "\u001b[0;32m~/opt/anaconda3/lib/python3.7/imp.py\u001b[0m in \u001b[0;36mfind_module\u001b[0;34m(name, path)\u001b[0m\n\u001b[1;32m    295\u001b[0m     \u001b[0;32melse\u001b[0m\u001b[0;34m:\u001b[0m\u001b[0;34m\u001b[0m\u001b[0;34m\u001b[0m\u001b[0m\n\u001b[0;32m--> 296\u001b[0;31m         \u001b[0;32mraise\u001b[0m \u001b[0mImportError\u001b[0m\u001b[0;34m(\u001b[0m\u001b[0m_ERR_MSG\u001b[0m\u001b[0;34m.\u001b[0m\u001b[0mformat\u001b[0m\u001b[0;34m(\u001b[0m\u001b[0mname\u001b[0m\u001b[0;34m)\u001b[0m\u001b[0;34m,\u001b[0m \u001b[0mname\u001b[0m\u001b[0;34m=\u001b[0m\u001b[0mname\u001b[0m\u001b[0;34m)\u001b[0m\u001b[0;34m\u001b[0m\u001b[0;34m\u001b[0m\u001b[0m\n\u001b[0m\u001b[1;32m    297\u001b[0m \u001b[0;34m\u001b[0m\u001b[0m\n",
      "\u001b[0;31mImportError\u001b[0m: No module named '_pywrap_tensorflow_internal'",
      "\nDuring handling of the above exception, another exception occurred:\n",
      "\u001b[0;31mModuleNotFoundError\u001b[0m                       Traceback (most recent call last)",
      "\u001b[0;32m~/opt/anaconda3/lib/python3.7/site-packages/tensorflow_core/python/pywrap_tensorflow.py\u001b[0m in \u001b[0;36m<module>\u001b[0;34m\u001b[0m\n\u001b[1;32m     57\u001b[0m \u001b[0;34m\u001b[0m\u001b[0m\n\u001b[0;32m---> 58\u001b[0;31m   \u001b[0;32mfrom\u001b[0m \u001b[0mtensorflow\u001b[0m\u001b[0;34m.\u001b[0m\u001b[0mpython\u001b[0m\u001b[0;34m.\u001b[0m\u001b[0mpywrap_tensorflow_internal\u001b[0m \u001b[0;32mimport\u001b[0m \u001b[0;34m*\u001b[0m\u001b[0;34m\u001b[0m\u001b[0;34m\u001b[0m\u001b[0m\n\u001b[0m\u001b[1;32m     59\u001b[0m   \u001b[0;32mfrom\u001b[0m \u001b[0mtensorflow\u001b[0m\u001b[0;34m.\u001b[0m\u001b[0mpython\u001b[0m\u001b[0;34m.\u001b[0m\u001b[0mpywrap_tensorflow_internal\u001b[0m \u001b[0;32mimport\u001b[0m \u001b[0m__version__\u001b[0m\u001b[0;34m\u001b[0m\u001b[0;34m\u001b[0m\u001b[0m\n",
      "\u001b[0;32m~/opt/anaconda3/lib/python3.7/site-packages/tensorflow_core/python/pywrap_tensorflow_internal.py\u001b[0m in \u001b[0;36m<module>\u001b[0;34m\u001b[0m\n\u001b[1;32m     27\u001b[0m             \u001b[0;32mreturn\u001b[0m \u001b[0m_mod\u001b[0m\u001b[0;34m\u001b[0m\u001b[0;34m\u001b[0m\u001b[0m\n\u001b[0;32m---> 28\u001b[0;31m     \u001b[0m_pywrap_tensorflow_internal\u001b[0m \u001b[0;34m=\u001b[0m \u001b[0mswig_import_helper\u001b[0m\u001b[0;34m(\u001b[0m\u001b[0;34m)\u001b[0m\u001b[0;34m\u001b[0m\u001b[0;34m\u001b[0m\u001b[0m\n\u001b[0m\u001b[1;32m     29\u001b[0m     \u001b[0;32mdel\u001b[0m \u001b[0mswig_import_helper\u001b[0m\u001b[0;34m\u001b[0m\u001b[0;34m\u001b[0m\u001b[0m\n",
      "\u001b[0;32m~/opt/anaconda3/lib/python3.7/site-packages/tensorflow_core/python/pywrap_tensorflow_internal.py\u001b[0m in \u001b[0;36mswig_import_helper\u001b[0;34m()\u001b[0m\n\u001b[1;32m     19\u001b[0m         \u001b[0;32mexcept\u001b[0m \u001b[0mImportError\u001b[0m\u001b[0;34m:\u001b[0m\u001b[0;34m\u001b[0m\u001b[0;34m\u001b[0m\u001b[0m\n\u001b[0;32m---> 20\u001b[0;31m             \u001b[0;32mimport\u001b[0m \u001b[0m_pywrap_tensorflow_internal\u001b[0m\u001b[0;34m\u001b[0m\u001b[0;34m\u001b[0m\u001b[0m\n\u001b[0m\u001b[1;32m     21\u001b[0m             \u001b[0;32mreturn\u001b[0m \u001b[0m_pywrap_tensorflow_internal\u001b[0m\u001b[0;34m\u001b[0m\u001b[0;34m\u001b[0m\u001b[0m\n",
      "\u001b[0;31mModuleNotFoundError\u001b[0m: No module named '_pywrap_tensorflow_internal'",
      "\nDuring handling of the above exception, another exception occurred:\n",
      "\nThe above exception was the direct cause of the following exception:\n",
      "\nDuring handling of the above exception, another exception occurred:\n",
      "\u001b[0;31mAttributeError\u001b[0m                            Traceback (most recent call last)",
      "\u001b[0;32m~/opt/anaconda3/lib/python3.7/site-packages/IPython/core/interactiveshell.py\u001b[0m in \u001b[0;36mshowtraceback\u001b[0;34m(self, exc_tuple, filename, tb_offset, exception_only, running_compiled_code)\u001b[0m\n\u001b[1;32m   2039\u001b[0m                         \u001b[0;31m# in the engines. This should return a list of strings.\u001b[0m\u001b[0;34m\u001b[0m\u001b[0;34m\u001b[0m\u001b[0;34m\u001b[0m\u001b[0m\n\u001b[0;32m-> 2040\u001b[0;31m                         \u001b[0mstb\u001b[0m \u001b[0;34m=\u001b[0m \u001b[0mvalue\u001b[0m\u001b[0;34m.\u001b[0m\u001b[0m_render_traceback_\u001b[0m\u001b[0;34m(\u001b[0m\u001b[0;34m)\u001b[0m\u001b[0;34m\u001b[0m\u001b[0;34m\u001b[0m\u001b[0m\n\u001b[0m\u001b[1;32m   2041\u001b[0m                     \u001b[0;32mexcept\u001b[0m \u001b[0mException\u001b[0m\u001b[0;34m:\u001b[0m\u001b[0;34m\u001b[0m\u001b[0;34m\u001b[0m\u001b[0m\n",
      "\u001b[0;31mAttributeError\u001b[0m: 'RuntimeError' object has no attribute '_render_traceback_'",
      "\nDuring handling of the above exception, another exception occurred:\n",
      "\u001b[0;31mTypeError\u001b[0m                                 Traceback (most recent call last)",
      "\u001b[0;32m~/opt/anaconda3/lib/python3.7/site-packages/IPython/core/interactiveshell.py\u001b[0m in \u001b[0;36mrun_code\u001b[0;34m(self, code_obj, result, async_)\u001b[0m\n\u001b[1;32m   3341\u001b[0m             \u001b[0;32mif\u001b[0m \u001b[0mresult\u001b[0m \u001b[0;32mis\u001b[0m \u001b[0;32mnot\u001b[0m \u001b[0;32mNone\u001b[0m\u001b[0;34m:\u001b[0m\u001b[0;34m\u001b[0m\u001b[0;34m\u001b[0m\u001b[0m\n\u001b[1;32m   3342\u001b[0m                 \u001b[0mresult\u001b[0m\u001b[0;34m.\u001b[0m\u001b[0merror_in_exec\u001b[0m \u001b[0;34m=\u001b[0m \u001b[0msys\u001b[0m\u001b[0;34m.\u001b[0m\u001b[0mexc_info\u001b[0m\u001b[0;34m(\u001b[0m\u001b[0;34m)\u001b[0m\u001b[0;34m[\u001b[0m\u001b[0;36m1\u001b[0m\u001b[0;34m]\u001b[0m\u001b[0;34m\u001b[0m\u001b[0;34m\u001b[0m\u001b[0m\n\u001b[0;32m-> 3343\u001b[0;31m             \u001b[0mself\u001b[0m\u001b[0;34m.\u001b[0m\u001b[0mshowtraceback\u001b[0m\u001b[0;34m(\u001b[0m\u001b[0mrunning_compiled_code\u001b[0m\u001b[0;34m=\u001b[0m\u001b[0;32mTrue\u001b[0m\u001b[0;34m)\u001b[0m\u001b[0;34m\u001b[0m\u001b[0;34m\u001b[0m\u001b[0m\n\u001b[0m\u001b[1;32m   3344\u001b[0m         \u001b[0;32melse\u001b[0m\u001b[0;34m:\u001b[0m\u001b[0;34m\u001b[0m\u001b[0;34m\u001b[0m\u001b[0m\n\u001b[1;32m   3345\u001b[0m             \u001b[0moutflag\u001b[0m \u001b[0;34m=\u001b[0m \u001b[0;32mFalse\u001b[0m\u001b[0;34m\u001b[0m\u001b[0;34m\u001b[0m\u001b[0m\n",
      "\u001b[0;32m~/opt/anaconda3/lib/python3.7/site-packages/IPython/core/interactiveshell.py\u001b[0m in \u001b[0;36mshowtraceback\u001b[0;34m(self, exc_tuple, filename, tb_offset, exception_only, running_compiled_code)\u001b[0m\n\u001b[1;32m   2041\u001b[0m                     \u001b[0;32mexcept\u001b[0m \u001b[0mException\u001b[0m\u001b[0;34m:\u001b[0m\u001b[0;34m\u001b[0m\u001b[0;34m\u001b[0m\u001b[0m\n\u001b[1;32m   2042\u001b[0m                         stb = self.InteractiveTB.structured_traceback(etype,\n\u001b[0;32m-> 2043\u001b[0;31m                                             value, tb, tb_offset=tb_offset)\n\u001b[0m\u001b[1;32m   2044\u001b[0m \u001b[0;34m\u001b[0m\u001b[0m\n\u001b[1;32m   2045\u001b[0m                     \u001b[0mself\u001b[0m\u001b[0;34m.\u001b[0m\u001b[0m_showtraceback\u001b[0m\u001b[0;34m(\u001b[0m\u001b[0metype\u001b[0m\u001b[0;34m,\u001b[0m \u001b[0mvalue\u001b[0m\u001b[0;34m,\u001b[0m \u001b[0mstb\u001b[0m\u001b[0;34m)\u001b[0m\u001b[0;34m\u001b[0m\u001b[0;34m\u001b[0m\u001b[0m\n",
      "\u001b[0;32m~/opt/anaconda3/lib/python3.7/site-packages/IPython/core/ultratb.py\u001b[0m in \u001b[0;36mstructured_traceback\u001b[0;34m(self, etype, value, tb, tb_offset, number_of_lines_of_context)\u001b[0m\n\u001b[1;32m   1383\u001b[0m         \u001b[0mself\u001b[0m\u001b[0;34m.\u001b[0m\u001b[0mtb\u001b[0m \u001b[0;34m=\u001b[0m \u001b[0mtb\u001b[0m\u001b[0;34m\u001b[0m\u001b[0;34m\u001b[0m\u001b[0m\n\u001b[1;32m   1384\u001b[0m         return FormattedTB.structured_traceback(\n\u001b[0;32m-> 1385\u001b[0;31m             self, etype, value, tb, tb_offset, number_of_lines_of_context)\n\u001b[0m\u001b[1;32m   1386\u001b[0m \u001b[0;34m\u001b[0m\u001b[0m\n\u001b[1;32m   1387\u001b[0m \u001b[0;34m\u001b[0m\u001b[0m\n",
      "\u001b[0;32m~/opt/anaconda3/lib/python3.7/site-packages/IPython/core/ultratb.py\u001b[0m in \u001b[0;36mstructured_traceback\u001b[0;34m(self, etype, value, tb, tb_offset, number_of_lines_of_context)\u001b[0m\n\u001b[1;32m   1286\u001b[0m             \u001b[0;31m# Verbose modes need a full traceback\u001b[0m\u001b[0;34m\u001b[0m\u001b[0;34m\u001b[0m\u001b[0;34m\u001b[0m\u001b[0m\n\u001b[1;32m   1287\u001b[0m             return VerboseTB.structured_traceback(\n\u001b[0;32m-> 1288\u001b[0;31m                 \u001b[0mself\u001b[0m\u001b[0;34m,\u001b[0m \u001b[0metype\u001b[0m\u001b[0;34m,\u001b[0m \u001b[0mvalue\u001b[0m\u001b[0;34m,\u001b[0m \u001b[0mtb\u001b[0m\u001b[0;34m,\u001b[0m \u001b[0mtb_offset\u001b[0m\u001b[0;34m,\u001b[0m \u001b[0mnumber_of_lines_of_context\u001b[0m\u001b[0;34m\u001b[0m\u001b[0;34m\u001b[0m\u001b[0m\n\u001b[0m\u001b[1;32m   1289\u001b[0m             )\n\u001b[1;32m   1290\u001b[0m         \u001b[0;32melif\u001b[0m \u001b[0mmode\u001b[0m \u001b[0;34m==\u001b[0m \u001b[0;34m'Minimal'\u001b[0m\u001b[0;34m:\u001b[0m\u001b[0;34m\u001b[0m\u001b[0;34m\u001b[0m\u001b[0m\n",
      "\u001b[0;32m~/opt/anaconda3/lib/python3.7/site-packages/IPython/core/ultratb.py\u001b[0m in \u001b[0;36mstructured_traceback\u001b[0;34m(self, etype, evalue, etb, tb_offset, number_of_lines_of_context)\u001b[0m\n\u001b[1;32m   1148\u001b[0m         \u001b[0mexception\u001b[0m \u001b[0;34m=\u001b[0m \u001b[0mself\u001b[0m\u001b[0;34m.\u001b[0m\u001b[0mget_parts_of_chained_exception\u001b[0m\u001b[0;34m(\u001b[0m\u001b[0mevalue\u001b[0m\u001b[0;34m)\u001b[0m\u001b[0;34m\u001b[0m\u001b[0;34m\u001b[0m\u001b[0m\n\u001b[1;32m   1149\u001b[0m         \u001b[0;32mif\u001b[0m \u001b[0mexception\u001b[0m\u001b[0;34m:\u001b[0m\u001b[0;34m\u001b[0m\u001b[0;34m\u001b[0m\u001b[0m\n\u001b[0;32m-> 1150\u001b[0;31m             \u001b[0mformatted_exceptions\u001b[0m \u001b[0;34m+=\u001b[0m \u001b[0mself\u001b[0m\u001b[0;34m.\u001b[0m\u001b[0mprepare_chained_exception_message\u001b[0m\u001b[0;34m(\u001b[0m\u001b[0mevalue\u001b[0m\u001b[0;34m.\u001b[0m\u001b[0m__cause__\u001b[0m\u001b[0;34m)\u001b[0m\u001b[0;34m\u001b[0m\u001b[0;34m\u001b[0m\u001b[0m\n\u001b[0m\u001b[1;32m   1151\u001b[0m             \u001b[0metype\u001b[0m\u001b[0;34m,\u001b[0m \u001b[0mevalue\u001b[0m\u001b[0;34m,\u001b[0m \u001b[0metb\u001b[0m \u001b[0;34m=\u001b[0m \u001b[0mexception\u001b[0m\u001b[0;34m\u001b[0m\u001b[0;34m\u001b[0m\u001b[0m\n\u001b[1;32m   1152\u001b[0m         \u001b[0;32melse\u001b[0m\u001b[0;34m:\u001b[0m\u001b[0;34m\u001b[0m\u001b[0;34m\u001b[0m\u001b[0m\n",
      "\u001b[0;31mTypeError\u001b[0m: can only concatenate str (not \"list\") to str"
     ]
    }
   ],
   "source": [
    "from transformers import pipeline\n",
    "classifier = pipeline(\"zero-shot-classification\",\n",
    "                      model=\"facebook/bart-large-mnli\")\n"
   ]
  },
  {
   "cell_type": "code",
   "execution_count": 117,
   "id": "1ddf8ff9",
   "metadata": {},
   "outputs": [
    {
     "name": "stdout",
     "output_type": "stream",
     "text": [
      "\u001b[33mWARNING: Ignoring invalid distribution -hysics-tenpy (/Users/jacobmarks/opt/anaconda3/lib/python3.7/site-packages)\u001b[0m\n",
      "\u001b[33mWARNING: Ignoring invalid distribution -enpy (/Users/jacobmarks/opt/anaconda3/lib/python3.7/site-packages)\u001b[0m\n",
      "\u001b[33mWARNING: Ignoring invalid distribution -hysics-tenpy (/Users/jacobmarks/opt/anaconda3/lib/python3.7/site-packages)\u001b[0m\n",
      "\u001b[33mWARNING: Ignoring invalid distribution -enpy (/Users/jacobmarks/opt/anaconda3/lib/python3.7/site-packages)\u001b[0m\n",
      "Collecting tensorflow==1.15.0\n",
      "  Downloading tensorflow-1.15.0-cp37-cp37m-macosx_10_11_x86_64.whl (124.0 MB)\n",
      "\u001b[K     |████████████████████████████████| 124.0 MB 349 kB/s eta 0:00:01\n",
      "\u001b[?25hRequirement already satisfied: protobuf>=3.6.1 in /Users/jacobmarks/opt/anaconda3/lib/python3.7/site-packages (from tensorflow==1.15.0) (3.11.2)\n",
      "Requirement already satisfied: six>=1.10.0 in /Users/jacobmarks/opt/anaconda3/lib/python3.7/site-packages (from tensorflow==1.15.0) (1.16.0)\n",
      "Requirement already satisfied: opt-einsum>=2.3.2 in /Users/jacobmarks/opt/anaconda3/lib/python3.7/site-packages (from tensorflow==1.15.0) (3.1.0)\n",
      "Requirement already satisfied: gast==0.2.2 in /Users/jacobmarks/opt/anaconda3/lib/python3.7/site-packages (from tensorflow==1.15.0) (0.2.2)\n",
      "Requirement already satisfied: absl-py>=0.7.0 in /Users/jacobmarks/opt/anaconda3/lib/python3.7/site-packages (from tensorflow==1.15.0) (0.8.1)\n",
      "Collecting tensorboard<1.16.0,>=1.15.0\n",
      "  Downloading tensorboard-1.15.0-py3-none-any.whl (3.8 MB)\n",
      "\u001b[K     |████████████████████████████████| 3.8 MB 915 kB/s eta 0:00:01\n",
      "\u001b[?25hRequirement already satisfied: google-pasta>=0.1.6 in /Users/jacobmarks/opt/anaconda3/lib/python3.7/site-packages (from tensorflow==1.15.0) (0.1.8)\n",
      "Requirement already satisfied: wheel>=0.26 in /Users/jacobmarks/opt/anaconda3/lib/python3.7/site-packages (from tensorflow==1.15.0) (0.33.6)\n",
      "Requirement already satisfied: grpcio>=1.8.6 in /Users/jacobmarks/opt/anaconda3/lib/python3.7/site-packages (from tensorflow==1.15.0) (1.16.1)\n",
      "Requirement already satisfied: astor>=0.6.0 in /Users/jacobmarks/opt/anaconda3/lib/python3.7/site-packages (from tensorflow==1.15.0) (0.8.0)\n",
      "Requirement already satisfied: numpy<2.0,>=1.16.0 in /Users/jacobmarks/opt/anaconda3/lib/python3.7/site-packages (from tensorflow==1.15.0) (1.17.2)\n",
      "Collecting tensorflow-estimator==1.15.1\n",
      "  Downloading tensorflow_estimator-1.15.1-py2.py3-none-any.whl (503 kB)\n",
      "\u001b[K     |████████████████████████████████| 503 kB 2.6 MB/s eta 0:00:01\n",
      "\u001b[?25hRequirement already satisfied: wrapt>=1.11.1 in /Users/jacobmarks/opt/anaconda3/lib/python3.7/site-packages (from tensorflow==1.15.0) (1.11.2)\n",
      "Requirement already satisfied: keras-applications>=1.0.8 in /Users/jacobmarks/opt/anaconda3/lib/python3.7/site-packages (from tensorflow==1.15.0) (1.0.8)\n",
      "Requirement already satisfied: keras-preprocessing>=1.0.5 in /Users/jacobmarks/opt/anaconda3/lib/python3.7/site-packages (from tensorflow==1.15.0) (1.1.0)\n",
      "Requirement already satisfied: termcolor>=1.1.0 in /Users/jacobmarks/opt/anaconda3/lib/python3.7/site-packages (from tensorflow==1.15.0) (1.1.0)\n",
      "Requirement already satisfied: h5py in /Users/jacobmarks/opt/anaconda3/lib/python3.7/site-packages (from keras-applications>=1.0.8->tensorflow==1.15.0) (2.9.0)\n",
      "Requirement already satisfied: setuptools in /Users/jacobmarks/opt/anaconda3/lib/python3.7/site-packages (from protobuf>=3.6.1->tensorflow==1.15.0) (41.4.0)\n",
      "Requirement already satisfied: markdown>=2.6.8 in /Users/jacobmarks/opt/anaconda3/lib/python3.7/site-packages (from tensorboard<1.16.0,>=1.15.0->tensorflow==1.15.0) (3.1.1)\n",
      "Requirement already satisfied: werkzeug>=0.11.15 in /Users/jacobmarks/opt/anaconda3/lib/python3.7/site-packages (from tensorboard<1.16.0,>=1.15.0->tensorflow==1.15.0) (2.0.3)\n",
      "\u001b[33mWARNING: Ignoring invalid distribution -hysics-tenpy (/Users/jacobmarks/opt/anaconda3/lib/python3.7/site-packages)\u001b[0m\n",
      "\u001b[33mWARNING: Ignoring invalid distribution -enpy (/Users/jacobmarks/opt/anaconda3/lib/python3.7/site-packages)\u001b[0m\n",
      "Installing collected packages: tensorflow-estimator, tensorboard, tensorflow\n",
      "  Attempting uninstall: tensorflow-estimator\n",
      "\u001b[33m    WARNING: Ignoring invalid distribution -hysics-tenpy (/Users/jacobmarks/opt/anaconda3/lib/python3.7/site-packages)\u001b[0m\n",
      "\u001b[33m    WARNING: Ignoring invalid distribution -enpy (/Users/jacobmarks/opt/anaconda3/lib/python3.7/site-packages)\u001b[0m\n",
      "    Found existing installation: tensorflow-estimator 2.0.0\n",
      "    Uninstalling tensorflow-estimator-2.0.0:\n",
      "\u001b[31mERROR: Could not install packages due to an OSError: [Errno 13] Permission denied: 'RECORD'\n",
      "Consider using the `--user` option or check the permissions.\n",
      "\u001b[0m\n",
      "\u001b[33mWARNING: Ignoring invalid distribution -hysics-tenpy (/Users/jacobmarks/opt/anaconda3/lib/python3.7/site-packages)\u001b[0m\n",
      "\u001b[33mWARNING: Ignoring invalid distribution -enpy (/Users/jacobmarks/opt/anaconda3/lib/python3.7/site-packages)\u001b[0m\n",
      "\u001b[33mWARNING: Ignoring invalid distribution -hysics-tenpy (/Users/jacobmarks/opt/anaconda3/lib/python3.7/site-packages)\u001b[0m\n",
      "\u001b[33mWARNING: Ignoring invalid distribution -enpy (/Users/jacobmarks/opt/anaconda3/lib/python3.7/site-packages)\u001b[0m\n",
      "\u001b[33mWARNING: Ignoring invalid distribution -hysics-tenpy (/Users/jacobmarks/opt/anaconda3/lib/python3.7/site-packages)\u001b[0m\n",
      "\u001b[33mWARNING: Ignoring invalid distribution -enpy (/Users/jacobmarks/opt/anaconda3/lib/python3.7/site-packages)\u001b[0m\n",
      "\u001b[33mWARNING: You are using pip version 21.1.2; however, version 22.2.2 is available.\n",
      "You should consider upgrading via the '/Users/jacobmarks/opt/anaconda3/bin/python -m pip install --upgrade pip' command.\u001b[0m\n"
     ]
    }
   ],
   "source": [
    "!pip install tensorflow==1.15.0"
   ]
  },
  {
   "cell_type": "code",
   "execution_count": null,
   "id": "a3fa40b4",
   "metadata": {},
   "outputs": [],
   "source": []
  },
  {
   "cell_type": "code",
   "execution_count": null,
   "id": "6785d451",
   "metadata": {},
   "outputs": [],
   "source": []
  },
  {
   "cell_type": "code",
   "execution_count": null,
   "id": "ce182d79",
   "metadata": {},
   "outputs": [],
   "source": []
  },
  {
   "cell_type": "code",
   "execution_count": null,
   "id": "59859f3e",
   "metadata": {},
   "outputs": [],
   "source": []
  },
  {
   "cell_type": "code",
   "execution_count": null,
   "id": "2fe02172",
   "metadata": {},
   "outputs": [],
   "source": []
  },
  {
   "cell_type": "code",
   "execution_count": null,
   "id": "b47c816f",
   "metadata": {},
   "outputs": [],
   "source": []
  },
  {
   "cell_type": "code",
   "execution_count": null,
   "id": "9ff6f051",
   "metadata": {},
   "outputs": [],
   "source": []
  },
  {
   "cell_type": "code",
   "execution_count": null,
   "id": "e584c258",
   "metadata": {},
   "outputs": [],
   "source": []
  },
  {
   "cell_type": "code",
   "execution_count": null,
   "id": "323af700",
   "metadata": {},
   "outputs": [],
   "source": []
  },
  {
   "cell_type": "markdown",
   "id": "efa8c79a",
   "metadata": {},
   "source": [
    "Let's see if we can use k-means clustering to uncover any more structure in the data..."
   ]
  },
  {
   "cell_type": "code",
   "execution_count": null,
   "id": "340dc9c6",
   "metadata": {},
   "outputs": [],
   "source": []
  },
  {
   "cell_type": "code",
   "execution_count": 347,
   "id": "9bdb2d2f",
   "metadata": {},
   "outputs": [],
   "source": [
    "from sklearn.cluster import KMeans\n",
    "from sklearn.metrics import silhouette_score\n",
    "from sklearn.preprocessing import StandardScaler"
   ]
  },
  {
   "cell_type": "code",
   "execution_count": 355,
   "id": "7033ad1f",
   "metadata": {},
   "outputs": [],
   "source": [
    "X = features_df.to_numpy()\n",
    "scaler = StandardScaler()\n",
    "Xscaled = scaler.fit_transform(X)"
   ]
  },
  {
   "cell_type": "code",
   "execution_count": 361,
   "id": "086c463c",
   "metadata": {},
   "outputs": [],
   "source": [
    "nlabels = 8"
   ]
  },
  {
   "cell_type": "code",
   "execution_count": 362,
   "id": "3bfa4519",
   "metadata": {},
   "outputs": [],
   "source": [
    "kmeans = KMeans(\n",
    "    init=\"random\",\n",
    "    n_clusters=nlabels,\n",
    "    n_init=10,\n",
    "    max_iter=300,\n",
    "    random_state=42\n",
    "    )"
   ]
  },
  {
   "cell_type": "code",
   "execution_count": 363,
   "id": "2fdc2958",
   "metadata": {},
   "outputs": [
    {
     "data": {
      "text/plain": [
       "KMeans(algorithm='auto', copy_x=True, init='random', max_iter=300, n_clusters=8,\n",
       "       n_init=10, n_jobs=None, precompute_distances='auto', random_state=42,\n",
       "       tol=0.0001, verbose=0)"
      ]
     },
     "execution_count": 363,
     "metadata": {},
     "output_type": "execute_result"
    }
   ],
   "source": [
    "kmeans.fit(Xscaled)"
   ]
  },
  {
   "cell_type": "code",
   "execution_count": 364,
   "id": "0bab0f3a",
   "metadata": {},
   "outputs": [
    {
     "data": {
      "text/plain": [
       "array([1, 7, 5, ..., 7, 1, 5], dtype=int32)"
      ]
     },
     "execution_count": 364,
     "metadata": {},
     "output_type": "execute_result"
    }
   ],
   "source": [
    "kmeans.labels_"
   ]
  },
  {
   "cell_type": "code",
   "execution_count": 365,
   "id": "dcf5f393",
   "metadata": {},
   "outputs": [
    {
     "name": "stdout",
     "output_type": "stream",
     "text": [
      "==========================================================================================\n",
      "\n",
      "Cluster 1\n",
      "                   artist                           track\n",
      "3         Lianne La Havas                            Grow\n",
      "17            Queen Naija  Butterflies Pt. 2 - Wale Remix\n",
      "33           Gavin DeGraw                         Chariot\n",
      "39  Red Hot Chili Peppers                   Fortune Faded\n",
      "47            Alicia Keys             Skydive (Originals)\n",
      "58              NxWorries                        Starlite\n",
      "72              Kyle Dion         Cool Side Of The Pillow\n",
      "82                  Xvngo            Prelude (Jazz Drill)\n",
      "94                 Masego        African Lady - ADM Remix\n",
      "96             Bruno Mars                          Chunky\n",
      "==========================================================================================\n",
      "\n",
      "Cluster 2\n",
      "             artist                           track\n",
      "0          Maroon 5                        Daylight\n",
      "7             Miloe                     where u are\n",
      "20         OverDoz.                     House Party\n",
      "22        Elephante  Plans (feat. Brandyn Burnette)\n",
      "38  Sabrina Claudio                Confidently Lost\n",
      "43       The Weeknd                     The Morning\n",
      "50              SiR    New Sky (feat. Kadhja Bonet)\n",
      "54           Halsey                    Now Or Never\n",
      "68        Remi Wolf       Guy - L’Impératrice Remix\n",
      "81         Maroon 5       Won't Go Home Without You\n",
      "==========================================================================================\n",
      "\n",
      "Cluster 3\n",
      "             artist                                  track\n",
      "9         Remi Wolf                                    Guy\n",
      "12             JMSN                                Inferno\n",
      "14  Sean C. Johnson                  New Day (Otis Parham)\n",
      "21   Michael Franks                     Summer In New York\n",
      "23          Berhana                                 Golden\n",
      "25      Post Malone                                Circles\n",
      "27         Sam Hunt  Leave The Night On - Acoustic Mixtape\n",
      "28           STRFKR                             Never Ever\n",
      "31     Katie Tupper                            Live Inside\n",
      "34        Adi Oasis                        Whisper My Name\n",
      "==========================================================================================\n",
      "\n",
      "Cluster 4\n",
      "                            artist  \\\n",
      "64             Gregory Alan Isakov   \n",
      "85                            Nico   \n",
      "111                    Justice Der   \n",
      "127                     Pink Floyd   \n",
      "130  Christian Scott aTunde Adjuah   \n",
      "134                        Whitney   \n",
      "152                  Billie Eilish   \n",
      "191                  David Gilmour   \n",
      "215                 Robert Glasper   \n",
      "332                    Miles Davis   \n",
      "\n",
      "                                                track  \n",
      "64                                     Dandelion Wine  \n",
      "85                              Eulogy To Lenny Bruce  \n",
      "111                                Don't Kill My Vibe  \n",
      "127                                       Us and Them  \n",
      "130                                           Isadora  \n",
      "134                               Light Upon the Lake  \n",
      "152                                        i love you  \n",
      "191                                            5 A.M.  \n",
      "215                                            F.T.B.  \n",
      "332  Blue in Green (feat. John Coltrane & Bill Evans)  \n",
      "==========================================================================================\n",
      "\n",
      "Cluster 5\n",
      "             artist                              track\n",
      "11   Blue Lab Beats                           Hi There\n",
      "30    Billie Eilish                                NDA\n",
      "60           ODESZA         Say My Name - Instrumental\n",
      "69         Funky DL  Le Pronostic - Remix Instrumental\n",
      "75            Nieve          Goodnight, Good Afternoon\n",
      "77          Totorro                  Chevalier Bulltoe\n",
      "87    Kings of Leon                     Waste A Moment\n",
      "89           ODESZA   Sun Models (feat. Madelyn Grant)\n",
      "112    NEIL FRANCES                            dancing\n",
      "118   Butcher Brown                          Frontline\n",
      "==========================================================================================\n",
      "\n",
      "Cluster 6\n",
      "                 artist                                              track\n",
      "2         Billie Eilish                                          bellyache\n",
      "6      Childish Gambino                                     IV. Sweatpants\n",
      "52   The Avett Brothers  Paranoia In B Major - Live At Bojangles' Colis...\n",
      "55             Maroon 5                       Harder To Breathe - Acoustic\n",
      "95           The Weeknd                                    Save Your Tears\n",
      "98              J. Cole                                  Love Yourz - Live\n",
      "104      Anderson .Paak  Lite Weight (feat. The Free Nationals United F...\n",
      "105       Dave Matthews  Stay or Leave - Live at Radio City Music Hall,...\n",
      "154          Kanye West                                          True Love\n",
      "173      Free Nationals                                           On Sight\n",
      "==========================================================================================\n",
      "\n",
      "Cluster 7\n",
      "               artist                             track\n",
      "10   Julius Rodriguez                      Actual Proof\n",
      "45                SiR  Hair Down (feat. Kendrick Lamar)\n",
      "59      Billie Eilish     all the good girls go to hell\n",
      "74        Topaz Jones           Tropicana (Bonus Track)\n",
      "110   Digable Planets                    Where I'm From\n",
      "114         Tom Misch                It Runs Through Me\n",
      "117        sectiontoo                          Trophies\n",
      "119             6LACK  In Between (feat. BANKS) - Bonus\n",
      "131     Rexx Life Raj                          Moonwalk\n",
      "143              Wale          On Chill (feat. Jeremih)\n",
      "==========================================================================================\n",
      "\n",
      "Cluster 8\n",
      "           artist                              track\n",
      "1       Sam Smith                       Stay With Me\n",
      "4   Ariana Grande                    Leave Me Lonely\n",
      "5        Sam Hunt       Come Over - Acoustic Mixtape\n",
      "8            Tems         Found (feat. Brent Faiyaz)\n",
      "13          OSHUN                           My World\n",
      "15         Amaria                               Work\n",
      "16     Lolo Zouaï                      It's My Fault\n",
      "18        Ruthven          Don't Keep It To Yourself\n",
      "19  Jacob Collier  He Won't Hold You (feat. Rapsody)\n",
      "24    Mac DeMarco                      Still Beating\n"
     ]
    }
   ],
   "source": [
    "for i in range(nlabels):\n",
    "    print(\"=\"*90 + '\\n')\n",
    "    print('Cluster {}'.format(i+1))\n",
    "    print(tracks_df.iloc[np.where(kmeans.labels_ == i)][['artist', 'track']].head(10))"
   ]
  },
  {
   "cell_type": "code",
   "execution_count": 366,
   "id": "ae224058",
   "metadata": {},
   "outputs": [],
   "source": [
    "# tracks_df.iloc[np.where(kmeans.labels_ == 1)][['artist', 'track']]"
   ]
  },
  {
   "cell_type": "code",
   "execution_count": null,
   "id": "28ead144",
   "metadata": {},
   "outputs": [],
   "source": []
  },
  {
   "cell_type": "code",
   "execution_count": null,
   "id": "f6d7eb43",
   "metadata": {},
   "outputs": [],
   "source": []
  },
  {
   "cell_type": "code",
   "execution_count": null,
   "id": "073d4682",
   "metadata": {},
   "outputs": [],
   "source": []
  },
  {
   "cell_type": "code",
   "execution_count": null,
   "id": "14cc7c2a",
   "metadata": {},
   "outputs": [],
   "source": []
  },
  {
   "cell_type": "code",
   "execution_count": null,
   "id": "7865cde4",
   "metadata": {},
   "outputs": [],
   "source": []
  },
  {
   "cell_type": "code",
   "execution_count": null,
   "id": "ec32b03f",
   "metadata": {},
   "outputs": [],
   "source": []
  },
  {
   "cell_type": "code",
   "execution_count": null,
   "id": "7183f3e6",
   "metadata": {},
   "outputs": [],
   "source": []
  },
  {
   "cell_type": "code",
   "execution_count": null,
   "id": "61639bf3",
   "metadata": {},
   "outputs": [],
   "source": []
  },
  {
   "cell_type": "code",
   "execution_count": null,
   "id": "b0136537",
   "metadata": {},
   "outputs": [],
   "source": []
  },
  {
   "cell_type": "code",
   "execution_count": null,
   "id": "dfd4e508",
   "metadata": {},
   "outputs": [],
   "source": []
  },
  {
   "cell_type": "code",
   "execution_count": null,
   "id": "e11d2591",
   "metadata": {},
   "outputs": [],
   "source": []
  },
  {
   "cell_type": "code",
   "execution_count": null,
   "id": "8adefdd0",
   "metadata": {},
   "outputs": [],
   "source": []
  },
  {
   "cell_type": "code",
   "execution_count": null,
   "id": "de780978",
   "metadata": {},
   "outputs": [],
   "source": []
  },
  {
   "cell_type": "code",
   "execution_count": null,
   "id": "dc3b4eb3",
   "metadata": {},
   "outputs": [],
   "source": []
  },
  {
   "cell_type": "code",
   "execution_count": null,
   "id": "8c801cb9",
   "metadata": {},
   "outputs": [],
   "source": []
  },
  {
   "cell_type": "code",
   "execution_count": null,
   "id": "1a609b41",
   "metadata": {},
   "outputs": [],
   "source": []
  },
  {
   "cell_type": "code",
   "execution_count": null,
   "id": "232456d3",
   "metadata": {},
   "outputs": [],
   "source": []
  },
  {
   "cell_type": "markdown",
   "id": "da255b72",
   "metadata": {},
   "source": [
    "Ideally, do all of this for every track in my library, and every track in my streaming history streaming_df.\n",
    "Then look at the various qualities:\n",
    "* how they change with time of day\n",
    "* how they've changed over the course of the year\n",
    "* cluster songs I've listened to more than N times based on these features with k means clustering"
   ]
  },
  {
   "cell_type": "code",
   "execution_count": null,
   "id": "29bbdd75",
   "metadata": {},
   "outputs": [],
   "source": []
  },
  {
   "cell_type": "code",
   "execution_count": null,
   "id": "e5cb0485",
   "metadata": {},
   "outputs": [],
   "source": []
  },
  {
   "cell_type": "code",
   "execution_count": null,
   "id": "923e07e7",
   "metadata": {},
   "outputs": [],
   "source": []
  },
  {
   "cell_type": "code",
   "execution_count": null,
   "id": "1d2e1eb7",
   "metadata": {},
   "outputs": [],
   "source": []
  },
  {
   "cell_type": "markdown",
   "id": "f862de7e",
   "metadata": {},
   "source": [
    "Other ideas:\n",
    "* Word cloud for the lyrics of the songs, by genre? or by artist?\n",
    "* Analysis of the distribution of streams/followers for the artists I listen to, vs the time spent listening to them, and compared to the general public or some other baseline?\n",
    "* Clustering of the artists I listened to more than N times\n",
    "* Use Selenium to scrape the data on when I added each song to my library, and check out\n",
    "    1. What percent of the songs I listen to that I haven't already liked do I then add to my library?\n",
    "    2. Average time I spend listening to a song before I add it to my library, if I add it, vs average time spent listening before stopping if I don't like it. Assumes I add it WHILE listening or immediately after, so I'd need to cross-reference.\n",
    "* What is the average duration of one of my listening sessions? Assuming it is more than just one or two songs.. this will require some choices to be made, and some modeling"
   ]
  },
  {
   "cell_type": "code",
   "execution_count": null,
   "id": "a51c7040",
   "metadata": {},
   "outputs": [],
   "source": []
  },
  {
   "cell_type": "code",
   "execution_count": 984,
   "id": "df199bfa",
   "metadata": {},
   "outputs": [],
   "source": [
    "#### Lyrics might be harder to get than originally anticipated... \n",
    "## Best bet is Genius API if I can get a token - need to figure out how!"
   ]
  },
  {
   "cell_type": "code",
   "execution_count": 985,
   "id": "2b5e4503",
   "metadata": {},
   "outputs": [],
   "source": [
    "from lyricsgenius import Genius\n",
    "\n",
    "# Genius.search_song(title = 'I love you')\n",
    "\n",
    "# genius = Genius(token)\n",
    "# genius.search_artist('Andy Shauf')\n",
    "# artist.save_lyrics()"
   ]
  },
  {
   "cell_type": "markdown",
   "id": "f13a6d0d",
   "metadata": {},
   "source": [
    "Notes:\n",
    "\n",
    "* I tried k-means clustering on the feature vectors for the songs, but didn't get too much that was useful from that. I think it might need more input structure to give interpretable results"
   ]
  },
  {
   "cell_type": "code",
   "execution_count": null,
   "id": "8ebc6c7b",
   "metadata": {},
   "outputs": [],
   "source": []
  }
 ],
 "metadata": {
  "kernelspec": {
   "display_name": "Python 3",
   "language": "python",
   "name": "python3"
  },
  "language_info": {
   "codemirror_mode": {
    "name": "ipython",
    "version": 3
   },
   "file_extension": ".py",
   "mimetype": "text/x-python",
   "name": "python",
   "nbconvert_exporter": "python",
   "pygments_lexer": "ipython3",
   "version": "3.7.4"
  }
 },
 "nbformat": 4,
 "nbformat_minor": 5
}
